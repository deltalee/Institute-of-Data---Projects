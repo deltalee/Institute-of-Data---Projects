{
 "cells": [
  {
   "cell_type": "markdown",
   "metadata": {
    "colab_type": "text",
    "id": "k8Ri6DZLo2H1"
   },
   "source": [
    "![image.png](attachment:image.png)"
   ]
  },
  {
   "cell_type": "markdown",
   "metadata": {
    "colab_type": "text",
    "id": "0geE09Xgo2H2"
   },
   "source": [
    "# Data Science and AI\n",
    "## Lab 2.1.3: Database Practice with Python and SQLite\n",
    "INSTRUCTIONS:\n",
    "- Run the cells\n",
    "- Observe and understand the results\n",
    "- Answer the questions"
   ]
  },
  {
   "cell_type": "markdown",
   "metadata": {
    "colab_type": "text",
    "id": "5Wq8w3BVo2H3"
   },
   "source": [
    "<a name=\"demo\"></a>\n",
    "## Using SQLite\n",
    "### Advantages of SQLite\n",
    "- Does not run on a separate server\n",
    "- Creates portable SQL databases saved in a single file\n",
    "- Databases are stored in a very efficient manner and allow fast querying\n",
    "- Ideal for small databases or databases that need to be copied across machines\n",
    "- Prototyping applications (e.g. as an embedded database server in a Python program)"
   ]
  },
  {
   "cell_type": "markdown",
   "metadata": {
    "colab_type": "text",
    "id": "jUahtz35o2H3"
   },
   "source": [
    "### The `sqlite3` Command Line Utility\n",
    "- Useful for basic SQL tasks and databse maintenance\n",
    "- For creating and dropping databases, it may be safer to use the command line than to roll the code into a Python program\n",
    "\n",
    "1. Add the sqlite3 installation folder to your `PATH` environment variable\n",
    "2. Open a `Command Window` or `Terminal`\n",
    "3. Navigate to your preferred working directory\n",
    "4. Start the sqlite3 command line utility and create a database called `mydb`:\n",
    "\n",
    "    $ sqlite3 mydb\n",
    "\n",
    "#### Output (on a macOS)\n",
    "\n",
    "    SQLite version 3.28.0 2019-04-16 19:49:53\n",
    "    Enter \".help\" for usage hints.\n",
    "    sqlite> \n",
    "\n",
    "**Note**: _If there is no database name (after `sqlite3` above) a new, temporary database will be created and will be destroyed upon exiting sqlite3._"
   ]
  },
  {
   "cell_type": "markdown",
   "metadata": {
    "colab_type": "text",
    "id": "NuXYQzZLo2H4"
   },
   "source": [
    "Enter the following commands at the sqlite prompt (not shown):\n",
    "\n",
    "```sql\n",
    "CREATE TABLE table1\n",
    "  (\n",
    "     one VARCHAR(10),\n",
    "     two SMALLINT\n",
    "  );\n",
    "```\n",
    "\n",
    "```sql\n",
    "INSERT INTO table1\n",
    "VALUES     ('hello!', 10);\n",
    "```\n",
    "\n",
    "```sql\n",
    "INSERT INTO table1\n",
    "VALUES     ('goodbye', 20);\n",
    "```\n",
    "\n",
    "```sql\n",
    "SELECT *\n",
    "FROM   table1;\n",
    "```\n",
    "\n",
    "#### Output\n",
    "\n",
    "    hello!|10\n",
    "    goodbye|20"
   ]
  },
  {
   "cell_type": "markdown",
   "metadata": {
    "colab_type": "text",
    "id": "TqSycnS5o2H5"
   },
   "source": [
    "### Help\n",
    "Enter `.help` at the sqlite3 command prompt. This lists the available **dot commands**.\n",
    "\n",
    "#### Output\n",
    "\n",
    "    .archive ...           Manage SQL archives: \".archive --help\" for details\n",
    "    .auth ON|OFF           Show authorizer callbacks\n",
    "    .backup ?DB? FILE      Backup DB (default \"main\") to FILE\n",
    "                             Add \"--append\" to open using appendvfs.\n",
    "    .bail on|off           Stop after hitting an error.  Default OFF\n",
    "    .binary on|off         Turn binary output on or off.  Default OFF\n",
    "    .cd DIRECTORY          Change the working directory to DIRECTORY\n",
    "    .changes on|off        Show number of rows changed by SQL\n",
    "    .check GLOB            Fail if output since .testcase does not match\n",
    "    .clone NEWDB           Clone data into NEWDB from the existing database\n",
    "    .databases             List names and files of attached databases\n",
    "    .dbconfig ?op? ?val?   List or change sqlite3_db_config() options\n",
    "    .dbinfo ?DB?           Show status information about the database\n",
    "    .dump ?TABLE? ...      Dump the database in an SQL text format\n",
    "                             If TABLE specified, only dump tables matching\n",
    "                             LIKE pattern TABLE.\n",
    "    .echo on|off           Turn command echo on or off\n",
    "    .eqp on|off|full       Enable or disable automatic EXPLAIN QUERY PLAN\n",
    "    .excel                 Display the output of next command in a spreadsheet\n",
    "    .exit                  Exit this program\n",
    "    .expert                EXPERIMENTAL. Suggest indexes for specified queries\n",
    "    .fullschema ?--indent? Show schema and the content of sqlite_stat tables\n",
    "    .headers on|off        Turn display of headers on or off\n",
    "    .help                  Show this message\n",
    "    .import FILE TABLE     Import data from FILE into TABLE\n",
    "    .imposter INDEX TABLE  Create imposter table TABLE on index INDEX\n",
    "    .indexes ?TABLE?       Show names of all indexes\n",
    "                             If TABLE specified, only show indexes for tables\n",
    "                             matching LIKE pattern TABLE.\n",
    "    .limit ?LIMIT? ?VAL?   Display or change the value of an SQLITE_LIMIT\n",
    "    .lint OPTIONS          Report potential schema issues. Options:\n",
    "                             fkey-indexes     Find missing foreign key indexes\n",
    "    .load FILE ?ENTRY?     Load an extension library\n",
    "    .log FILE|off          Turn logging on or off.  FILE can be stderr/stdout\n",
    "    .mode MODE ?TABLE?     Set output mode where MODE is one of:\n",
    "                             ascii    Columns/rows delimited by 0x1F and 0x1E\n",
    "                             csv      Comma-separated values\n",
    "                             column   Left-aligned columns.  (See .width)\n",
    "                             html     HTML <table> code\n",
    "                             insert   SQL insert statements for TABLE\n",
    "                             line     One value per line\n",
    "                             list     Values delimited by \"|\"\n",
    "                             quote    Escape answers as for SQL\n",
    "                             tabs     Tab-separated values\n",
    "                             tcl      TCL list elements\n",
    "    .nullvalue STRING      Use STRING in place of NULL values\n",
    "    .once (-e|-x|FILE)     Output for the next SQL command only to FILE\n",
    "                             or invoke system text editor (-e) or spreadsheet (-x)\n",
    "                             on the output.\n",
    "    .open ?OPTIONS? ?FILE? Close existing database and reopen FILE\n",
    "                             The --new option starts with an empty file\n",
    "                             Other options: --readonly --append --zip\n",
    "    .output ?FILE?         Send output to FILE or stdout\n",
    "    .print STRING...       Print literal STRING\n",
    "    .prompt MAIN CONTINUE  Replace the standard prompts\n",
    "    .quit                  Exit this program\n",
    "    .read FILENAME         Execute SQL in FILENAME\n",
    "    .restore ?DB? FILE     Restore content of DB (default \"main\") from FILE\n",
    "    .save FILE             Write in-memory database into FILE\n",
    "    .scanstats on|off      Turn sqlite3_stmt_scanstatus() metrics on or off\n",
    "    .schema ?PATTERN?      Show the CREATE statements matching PATTERN\n",
    "                              Add --indent for pretty-printing\n",
    "    .selftest ?--init?     Run tests defined in the SELFTEST table\n",
    "    .separator COL ?ROW?   Change the column separator and optionally the row\n",
    "                             separator for both the output mode and .import\n",
    "    .sha3sum ?OPTIONS...?  Compute a SHA3 hash of database content\n",
    "    .shell CMD ARGS...     Run CMD ARGS... in a system shell\n",
    "    .show                  Show the current values for various settings\n",
    "    .stats ?on|off?        Show stats or turn stats on or off\n",
    "    .system CMD ARGS...    Run CMD ARGS... in a system shell\n",
    "    .tables ?TABLE?        List names of tables\n",
    "                             If TABLE specified, only list tables matching\n",
    "                             LIKE pattern TABLE.\n",
    "    .testcase NAME         Begin redirecting output to 'testcase-out.txt'\n",
    "    .timeout MS            Try opening locked tables for MS milliseconds\n",
    "    .timer on|off          Turn SQL timer on or off\n",
    "    .trace FILE|off        Output each SQL statement as it is run\n",
    "    .vfsinfo ?AUX?         Information about the top-level VFS\n",
    "    .vfslist               List all available VFSes\n",
    "    .vfsname ?AUX?         Print the name of the VFS stack\n",
    "    .width NUM1 NUM2 ...   Set column widths for \"column\" mode\n",
    "                             Negative values right-justify"
   ]
  },
  {
   "cell_type": "markdown",
   "metadata": {
    "colab_type": "text",
    "id": "9oeceSpzo2H5"
   },
   "source": [
    "### The `sqlite3` package\n",
    "\n",
    "The easiest way to incorporate SQL database access into a Python application is by using the `sqlite3` package for [**Python 2.7**](https://docs.python.org/2.7/library/sqlite3.html) or [**Python 3.x**](https://docs.python.org/3/library/sqlite3.html).\n",
    "\n",
    "Open a connection to an `SQLite` database file.\n",
    "\n",
    "As before, if the file does not already exist it will automatically be created."
   ]
  },
  {
   "cell_type": "code",
   "execution_count": null,
   "metadata": {
    "colab": {},
    "colab_type": "code",
    "id": "sKNJUhvCo2H6"
   },
   "outputs": [],
   "source": [
    "import sqlite3\n",
    "\n",
    "import numpy as np\n",
    "from numpy import genfromtxt\n",
    "\n",
    "import pandas as pd\n",
    "from pandas.io import sql as pdsql"
   ]
  },
  {
   "cell_type": "code",
   "execution_count": null,
   "metadata": {
    "colab": {},
    "colab_type": "code",
    "id": "2sshd5GXo2H9"
   },
   "outputs": [],
   "source": [
    "sqlite_db = '../data/test_db.sqlite'"
   ]
  },
  {
   "cell_type": "code",
   "execution_count": null,
   "metadata": {
    "colab": {},
    "colab_type": "code",
    "id": "gbmU8VWFo2IB"
   },
   "outputs": [],
   "source": [
    "# encapsulate in a try/catch in case the some error happens\n",
    "try:\n",
    "    conn = sqlite3.connect(sqlite_db)\n",
    "    print('Connected to database %s.' % sqlite_db)\n",
    "except Exception as ex:\n",
    "    print('Something went wrong.\\nException: %s' % ex)"
   ]
  },
  {
   "cell_type": "code",
   "execution_count": null,
   "metadata": {
    "colab": {},
    "colab_type": "code",
    "id": "GXuSGt3Bo2ID"
   },
   "outputs": [],
   "source": [
    "# encapsulate in a try/catch in case the some error happens\n",
    "try:\n",
    "    c = conn.cursor()\n",
    "except Exception as ex:\n",
    "    print('Something went wrong.\\nException: %s' % ex)"
   ]
  },
  {
   "cell_type": "markdown",
   "metadata": {
    "colab_type": "text",
    "id": "-033mSsbo2IE"
   },
   "source": [
    "Commands can be executed by passing them as string arguments to the `execute` method of the cursor we just created for this database."
   ]
  },
  {
   "cell_type": "code",
   "execution_count": null,
   "metadata": {
    "colab": {},
    "colab_type": "code",
    "id": "6CrRPD_Po2IF"
   },
   "outputs": [],
   "source": [
    "# define with table to use\n",
    "table = 'houses'\n",
    "sql = 'DROP TABLE %s;' % table\n",
    "\n",
    "# encapsulate in a try/catch in case the table does not exist\n",
    "try:\n",
    "    c.execute(sql)\n",
    "except sqlite3.OperationalError:\n",
    "    print('Table %s did not exist.' % table)\n",
    "\n",
    "# Save (commit) the changes:\n",
    "conn.commit()"
   ]
  },
  {
   "cell_type": "code",
   "execution_count": null,
   "metadata": {
    "colab": {},
    "colab_type": "code",
    "id": "7-nPM9p3o2IH"
   },
   "outputs": [],
   "source": [
    "sql = '''\n",
    "CREATE TABLE houses\n",
    "  (\n",
    "     field1 INTEGER PRIMARY KEY,\n",
    "     sqft   INTEGER,\n",
    "     bdrms  INTEGER,\n",
    "     age    INTEGER,\n",
    "     price  INTEGER\n",
    "  );\n",
    "'''\n",
    "\n",
    "c.execute(sql)\n",
    "conn.commit()"
   ]
  },
  {
   "cell_type": "markdown",
   "metadata": {
    "colab_type": "text",
    "id": "eUA3KwyNo2IJ"
   },
   "source": [
    "With the database saved the table should now be viewable using SQLite Manager.\n",
    "\n",
    "#### Adding data\n",
    "\n",
    "Since we are back in Python, we can now use regular programming techniques in conjunction with the sqlite connection. In particular, the cursor's `execute()` method supports value substitution using the `?` character, which makes adding multiple records a bit easier and is part of the regular `SQL` syntax.\n",
    "\n",
    "**Note**: The `?` parameters are placeholders for data that will map to the table columns during insertion. This is **also** a security measure against SQL injection attacks\n",
    "\n",
    "See the **docs** for more details\n",
    "- [Python 2.7](https://docs.python.org/2.7/library/sqlite3.html)\n",
    "- [Python 3.6](https://docs.python.org/3.6/library/sqlite3.html)\n",
    "\n",
    "**Hint**: `c.execute(sql_command, values)`"
   ]
  },
  {
   "cell_type": "code",
   "execution_count": null,
   "metadata": {
    "colab": {},
    "colab_type": "code",
    "id": "iqEj7v2jo2IK"
   },
   "outputs": [],
   "source": [
    "last_sale = (None, 4000, 5, 22, 619000)\n",
    "sql = '''\n",
    "INSERT INTO houses\n",
    "VALUES      (?, ?, ?, ?, ?);\n",
    "'''\n",
    "\n",
    "c.execute(sql, last_sale)\n",
    "\n",
    "# Remember to commit the changes\n",
    "conn.commit()"
   ]
  },
  {
   "cell_type": "markdown",
   "metadata": {
    "colab_type": "text",
    "id": "W14mx7c7o2IN"
   },
   "source": [
    "Notice that in this syntax we use the python `None` value, rather than `NULL`, to trigger SQLite to auto-increment the Primary Key. \n",
    "\n",
    "There is a related cursor method `executemany()` which takes an array of tuples and loops through them, substituting one tuple at a time.\n",
    "\n",
    "**Hint**: `c.executemany(sql_command, values)`"
   ]
  },
  {
   "cell_type": "code",
   "execution_count": null,
   "metadata": {
    "colab": {},
    "colab_type": "code",
    "id": "FkZsTYRVo2IN"
   },
   "outputs": [],
   "source": [
    "recent_sales = [\n",
    "    (None, 2390, 4, 34, 319000),\n",
    "    (None, 1870, 3, 14, 289000),\n",
    "    (None, 1505, 3, 90, 269000),\n",
    "]\n",
    "sql = '''\n",
    "INSERT INTO houses\n",
    "VALUES      (?, ?, ?, ?, ?);\n",
    "'''\n",
    "\n",
    "c.executemany(sql, recent_sales)\n",
    "conn.commit()"
   ]
  },
  {
   "cell_type": "markdown",
   "metadata": {
    "colab_type": "text",
    "id": "ki4XRtB8o2IR"
   },
   "source": [
    "Select all rows from houses."
   ]
  },
  {
   "cell_type": "code",
   "execution_count": null,
   "metadata": {
    "colab": {},
    "colab_type": "code",
    "id": "MBgLdjDro2IS"
   },
   "outputs": [],
   "source": [
    "sql = '''\n",
    "SELECT *\n",
    "FROM   houses\n",
    ";\n",
    "'''\n",
    "c.execute(sql).fetchall()"
   ]
  },
  {
   "cell_type": "markdown",
   "metadata": {
    "colab_type": "text",
    "id": "7j3o3-5Zo2IU"
   },
   "source": [
    "#### Adding data from a `csv` file\n",
    "One way to populate the database from a file is to use `numpy.genfromtxt()` to read the file into an array (converted to a list for easier handling), and then `INSERT` those records into the database.\n",
    "\n",
    "The `genfromtxt()` method has options including the output data type, handling of missing values, skipping of header and footer rows, columns to read, and more."
   ]
  },
  {
   "cell_type": "code",
   "execution_count": null,
   "metadata": {
    "colab": {},
    "colab_type": "code",
    "id": "4FR9HUTNo2IV"
   },
   "outputs": [],
   "source": [
    "# import into nparray of ints, then convert to list of lists:\n",
    "data = genfromtxt(\n",
    "    '../data/housing-data.csv',\n",
    "    dtype='i8',\n",
    "    delimiter=',',\n",
    "    skip_header=1).tolist()"
   ]
  },
  {
   "cell_type": "code",
   "execution_count": null,
   "metadata": {
    "colab": {},
    "colab_type": "code",
    "id": "UyliyZnNo2IY",
    "scrolled": true
   },
   "outputs": [],
   "source": [
    "# sample the data\n",
    "data[:5]"
   ]
  },
  {
   "cell_type": "markdown",
   "metadata": {
    "colab_type": "text",
    "id": "Fdghv55Co2Ia"
   },
   "source": [
    "Suppose we need to put a placeholder in the first column for data that will be available later.\n",
    "\n",
    "**Best practice is to insert the value `None`**."
   ]
  },
  {
   "cell_type": "code",
   "execution_count": null,
   "metadata": {
    "colab": {},
    "colab_type": "code",
    "id": "8HRAa0RVo2Ia"
   },
   "outputs": [],
   "source": [
    "# prepend a None value to beginning of each sub-list:\n",
    "for d in data:\n",
    "    d.insert(0, None)"
   ]
  },
  {
   "cell_type": "markdown",
   "metadata": {
    "colab_type": "text",
    "id": "1XRddYiwo2Ic"
   },
   "source": [
    "**Note**: This is why we converted the input array to a list. An array can only hold one type of data (integers in this case) so we could not have inserted `None` before we did this conversion."
   ]
  },
  {
   "cell_type": "code",
   "execution_count": null,
   "metadata": {
    "colab": {},
    "colab_type": "code",
    "id": "Ktg7mukFo2Id"
   },
   "outputs": [],
   "source": [
    "# sample the data\n",
    "print(type(data))\n",
    "data[:5]"
   ]
  },
  {
   "cell_type": "markdown",
   "metadata": {
    "colab_type": "text",
    "id": "15rzPzTzo2If"
   },
   "source": [
    "Now we can insert each list item as a row of fields in the database."
   ]
  },
  {
   "cell_type": "code",
   "execution_count": null,
   "metadata": {
    "colab": {},
    "colab_type": "code",
    "id": "UO4G-cURo2Ih"
   },
   "outputs": [],
   "source": [
    "sql = '''\n",
    "INSERT INTO houses\n",
    "VALUES     (?, ?, ?, ?, ?)\n",
    ";\n",
    "'''\n",
    "\n",
    "# loop through data, running an INSERT on each record (i.e. sublist):\n",
    "for d in data:\n",
    "    c.execute(sql, d)\n",
    "\n",
    "conn.commit()"
   ]
  },
  {
   "cell_type": "markdown",
   "metadata": {
    "colab_type": "text",
    "id": "yfktfl8Ko2Ii"
   },
   "source": [
    "In this case, because we were inserting the same value for all records, so we could have simply used a `None` in the numpy `insert()` method at column zero."
   ]
  },
  {
   "cell_type": "code",
   "execution_count": null,
   "metadata": {
    "colab": {},
    "colab_type": "code",
    "id": "VtLgBEAuo2Ij"
   },
   "outputs": [],
   "source": [
    "d1 = np.asarray([1200, 3, 15, 250000])\n",
    "d1 = d1.tolist()\n",
    "d1.insert(0, None)\n",
    "d1"
   ]
  },
  {
   "cell_type": "code",
   "execution_count": null,
   "metadata": {
    "colab": {},
    "colab_type": "code",
    "id": "QXDAjbQYo2Ik"
   },
   "outputs": [],
   "source": [
    "sql = '''\n",
    "INSERT INTO houses\n",
    "VALUES     (?, ?, ?, ?, ?);\n",
    "'''\n",
    "\n",
    "c.execute(sql, d1)\n",
    "conn.commit()"
   ]
  },
  {
   "cell_type": "markdown",
   "metadata": {
    "colab_type": "text",
    "id": "tsWfVHjHo2In"
   },
   "source": [
    "#### Deleting Rows\n",
    "The `DELETE FROM` statement can be used with a `WHERE` clause to specify rows to delete based on some criteria."
   ]
  },
  {
   "cell_type": "markdown",
   "metadata": {
    "colab_type": "text",
    "id": "kgHNH7uOo2In"
   },
   "source": [
    "**QUIZ**: What the `DELETE FROM <table>` deletes if the `WHERE` clause is not used?\n",
    "> The `DELETE FROM` deletes **ALL** rows if the `WHERE` clause is not used!"
   ]
  },
  {
   "cell_type": "code",
   "execution_count": null,
   "metadata": {
    "colab": {},
    "colab_type": "code",
    "id": "C-9sZnJfo2Io"
   },
   "outputs": [],
   "source": [
    "delete_this = [52, 53]\n",
    "sql = '''\n",
    "DELETE FROM houses\n",
    "WHERE  field1 IN ( %s );\n",
    "''' % ', '.join(['%d' % n for n in delete_this])\n",
    "\n",
    "print('SQL Statement:\\n%s' % sql)\n",
    "\n",
    "c.execute(sql)\n",
    "conn.commit()"
   ]
  },
  {
   "cell_type": "markdown",
   "metadata": {
    "colab_type": "text",
    "id": "_kQteBVbo2Iq"
   },
   "source": [
    "#### Filtering Rows"
   ]
  },
  {
   "cell_type": "markdown",
   "metadata": {
    "colab_type": "text",
    "id": "7cQ4U-uuo2Ir"
   },
   "source": [
    "##### 1. Select Rows Where Bedrooms = 4"
   ]
  },
  {
   "cell_type": "code",
   "execution_count": null,
   "metadata": {
    "colab": {},
    "colab_type": "code",
    "id": "pOzsCTtxo2Ir"
   },
   "outputs": [],
   "source": [
    "sql = '''\n",
    "SELECT *\n",
    "FROM   houses\n",
    "WHERE  bdrms = 4;\n",
    "'''\n",
    "\n",
    "# similar syntax as before\n",
    "results = c.execute(sql)\n",
    "\n",
    "# here results is a cursor object - use fetchall() to extract a list\n",
    "results.fetchall()"
   ]
  },
  {
   "cell_type": "markdown",
   "metadata": {
    "colab_type": "text",
    "id": "IQ5h9gN8o2It"
   },
   "source": [
    "##### 2. Run a query to show the effect of the `DELETE` command that was executed above\n",
    "\n",
    "**HINT**: You can use the `WHERE` clause to reduce the size of the row set to the region of interest."
   ]
  },
  {
   "cell_type": "code",
   "execution_count": null,
   "metadata": {
    "colab": {},
    "colab_type": "code",
    "id": "f6IH0vlGo2It"
   },
   "outputs": [],
   "source": [
    "sql = '''\n",
    "SELECT *\n",
    "FROM   houses\n",
    "WHERE  field1 >= 50\n",
    "   AND field1 < 59;\n",
    "'''\n",
    "\n",
    "results = c.execute(sql)\n",
    "results.fetchall()"
   ]
  },
  {
   "cell_type": "markdown",
   "metadata": {
    "colab_type": "text",
    "id": "bjyxnoZ3o2Iv"
   },
   "source": [
    "##### 3. Run a query to calculate the average floor area and price of each size of house (i.e. by number of bedrooms)"
   ]
  },
  {
   "cell_type": "code",
   "execution_count": null,
   "metadata": {
    "colab": {},
    "colab_type": "code",
    "id": "DgpuHDoIo2Iv"
   },
   "outputs": [],
   "source": [
    "sql = '''\n",
    "SELECT bdrms,\n",
    "       Avg(sqft)  AS avg_sqft,\n",
    "       Avg(price) AS avg_price\n",
    "FROM   houses\n",
    "GROUP  BY bdrms;\n",
    "'''\n",
    "\n",
    "results = c.execute(sql)\n",
    "results.fetchall()"
   ]
  },
  {
   "cell_type": "markdown",
   "metadata": {
    "colab_type": "text",
    "id": "P0xsTIHAo2Ix"
   },
   "source": [
    "### Pandas connector\n",
    "\n",
    "While databases provide many analytical capabilities, at some point we may need to pull data into Python for more flexible processing. Large, fixed operations would be more efficient in a database, but Pandas allows for interactive processing.\n",
    "\n",
    "For example, if you want to aggregate nightly log-ins or sales for a report or dashboard, this would be a fixed operation on a large dataset. These computations would run more efficiently in the database system itself.\n",
    "\n",
    "However, if we wanted to model the patterns of login behaviour or factors driving sales, then we would import the data to Python where we could use its simple interfaces to powerful analytic libraries.\n",
    "\n",
    "```python\n",
    "import pandas as pd\n",
    "from pandas.io import sql\n",
    "```\n",
    "\n",
    "Pandas can connect to most relational databases. In this demonstration, we will create and connect to a SQLite database."
   ]
  },
  {
   "cell_type": "markdown",
   "metadata": {
    "colab_type": "text",
    "id": "RRgwZyJEo2Iy"
   },
   "source": [
    "### Writing data into a database\n",
    "\n",
    "Data in Pandas can be loaded into a relational database.\n",
    "\n",
    "If the data table is not too large, we can load all of it into a Pandas DataFrame."
   ]
  },
  {
   "cell_type": "code",
   "execution_count": null,
   "metadata": {
    "colab": {},
    "colab_type": "code",
    "id": "OJ5wYlPbo2Iy"
   },
   "outputs": [],
   "source": [
    "# Note: Use `low_memory = False` to ensure that type inference does not fail\n",
    "#       due to buffered processing of input\n",
    "data = pd.read_csv('../data/housing-data.csv', low_memory=False)\n",
    "data.head()"
   ]
  },
  {
   "cell_type": "markdown",
   "metadata": {
    "colab_type": "text",
    "id": "jYDJ7e_so2Iz"
   },
   "source": [
    "We can move data in the opposite direction (from a DataFrame to a database) using the `to_sql()` method, similar to the `to_csv()` method.\n",
    "\n",
    "`to_sql()` takes as arguments\n",
    "- `name`, the table name to create\n",
    "- `con`, a connection to a database\n",
    "- `index`, whether to input the index column\n",
    "- `schema`, if we want to write a custom schema for the new table\n",
    "- `if_exists`, what to do if the table already exists. We can overwrite it, add to it, or fail\n",
    "\n",
    "**Note**: Always check the documentation relevant to the version of the packages in use."
   ]
  },
  {
   "cell_type": "markdown",
   "metadata": {
    "colab_type": "text",
    "id": "AhrC1douo2I0"
   },
   "source": [
    "This copies our `data` DataFrame to a sqlite3 table called `houses_pandas`."
   ]
  },
  {
   "cell_type": "code",
   "execution_count": null,
   "metadata": {
    "colab": {},
    "colab_type": "code",
    "id": "GUX6yJjCo2I0"
   },
   "outputs": [],
   "source": [
    "data.to_sql(\n",
    "    'houses_pandas',\n",
    "    con=conn,\n",
    "    if_exists='replace',\n",
    "    index=False)"
   ]
  },
  {
   "cell_type": "markdown",
   "metadata": {
    "colab_type": "text",
    "id": "kRu2zQgGo2I2"
   },
   "source": [
    "#### Run a query to get the average price of each house size from this table"
   ]
  },
  {
   "cell_type": "code",
   "execution_count": null,
   "metadata": {
    "colab": {},
    "colab_type": "code",
    "id": "z22dYLmWo2I3"
   },
   "outputs": [],
   "source": [
    "sql = '''\n",
    "SELECT bdrms,\n",
    "       Avg(price)\n",
    "FROM   houses_pandas\n",
    "GROUP  BY bdrms;\n",
    "'''\n",
    "\n",
    "c.execute(sql).fetchall()"
   ]
  },
  {
   "cell_type": "markdown",
   "metadata": {
    "colab_type": "text",
    "id": "RDLgsXb3o2I4"
   },
   "source": [
    "### Clean up after yourself\n",
    "Never forget to close `cursor`s and connections.\n",
    "\n",
    "If closing both, close the cursor **first**."
   ]
  },
  {
   "cell_type": "code",
   "execution_count": null,
   "metadata": {
    "colab": {},
    "colab_type": "code",
    "id": "-StJhq0uo2I5"
   },
   "outputs": [],
   "source": [
    "# close the cursor first\n",
    "c.close()\n",
    "# close the connection at the very end\n",
    "conn.close()"
   ]
  },
  {
   "cell_type": "markdown",
   "metadata": {
    "colab_type": "text",
    "id": "CXIzXTNbo2I6"
   },
   "source": [
    "## Discussion\n",
    "**Scenarios for using Pandas with SQLite**\n",
    "\n",
    "1. When would you want to use Pandas on a dataset before storing it in a database?\n",
    "2. When would you want to use Pandas on a dataset retrieved from a database?"
   ]
  },
  {
   "cell_type": "markdown",
   "metadata": {
    "colab_type": "text",
    "id": "jF9LXpKwo2I7"
   },
   "source": [
    "<a name=\"guided-practice\"></a>\n",
    "## Reference: SQL Syntax\n",
    "### SELECT Statement\n",
    "Every query should start with `SELECT`. `SELECT` is followed by the names of the columns in the output.\n",
    "\n",
    "`SELECT` is always paired with `FROM`, and `FROM` identifies the table to retrieve data from.\n",
    "\n",
    "```sql\n",
    "SELECT <columns>\n",
    "FROM   <table>\n",
    "```\n",
    "\n",
    "`SELECT *` denotes returns **all** of the columns.\n",
    "\n",
    "Housing Data example:\n",
    "```sql\n",
    "SELECT sqft, bdrms\n",
    "FROM   houses_pandas\n",
    ";\n",
    "```\n",
    "\n",
    "**Check**: Write a query that returns the `sqft`, `bdrms` and `price`.\n",
    "\n",
    "```sql\n",
    "SELECT sqft, bdrms, price\n",
    "FROM   houses_pandas\n",
    ";\n",
    "```\n",
    "\n",
    "### WHERE Clause\n",
    "`WHERE` is used to filter table to a specific criteria and follows the `FROM` clause.\n",
    "\n",
    "```sql\n",
    "SELECT <columns>\n",
    "FROM   <table>\n",
    "WHERE  <condition>\n",
    "```\n",
    "\n",
    "Example:\n",
    "```sql\n",
    "SELECT sqft, bdrms, age, price\n",
    "FROM   houses_pandas\n",
    "WHERE  bdrms = 2\n",
    "   AND price < 250000\n",
    ";\n",
    "```\n",
    "\n",
    "The condition is effectively a row filter; rows that match the condition will be included in the rowset that is returned by the query.\n",
    "\n",
    "**Check**: Write a query that returns the `sqft`, `bdrms`, `age` for houses older than _60_ years.\n",
    "\n",
    "```sql\n",
    "SELECT sqft, bdrms, age\n",
    "FROM   houses_pandas\n",
    "WHERE  age > 60\n",
    ";\n",
    "```"
   ]
  },
  {
   "cell_type": "markdown",
   "metadata": {
    "colab_type": "text",
    "id": "zm032yQUo2I7"
   },
   "source": [
    "### AGGREGATIONS\n",
    "Aggregations (or aggregate functions) are functions where the values of multiple rows are grouped together as input on certain criteria to form a single value of more significant meaning or measurement such as a set, a bag or a list.\n",
    "\n",
    "Examples of aggregate funtions:\n",
    "\n",
    "- Average (i.e., arithmetic mean)\n",
    "- Count\n",
    "- Maximum\n",
    "- Minimum\n",
    "- Median\n",
    "- Mode\n",
    "- Sum\n",
    "\n",
    "In SQL they are performed in a `SELECT` statement as follows.\n",
    "\n",
    "```sql\n",
    "SELECT COUNT(price)\n",
    "FROM   houses_pandas\n",
    ";\n",
    "```\n",
    "\n",
    "```sql\n",
    "SELECT AVG(sqft), MIN(price), MAX(price)\n",
    "FROM   houses_pandas\n",
    "WHERE  bdrms = 2\n",
    ";\n",
    "```"
   ]
  },
  {
   "cell_type": "markdown",
   "metadata": {
    "colab_type": "text",
    "id": "q0oeC97fo2I8"
   },
   "source": [
    "### Read Order Data\n",
    "- P12-ListOfOrders.csv\n",
    "- P12-OrderBreakdown.csv"
   ]
  },
  {
   "cell_type": "markdown",
   "metadata": {
    "colab_type": "text",
    "id": "jTKAKG4vo2I8"
   },
   "source": [
    "##### 1. Read CSV into DataFrame"
   ]
  },
  {
   "cell_type": "code",
   "execution_count": null,
   "metadata": {
    "colab": {},
    "colab_type": "code",
    "id": "5eFQAHP-o2I9"
   },
   "outputs": [],
   "source": [
    "# Reading CSV to Dataframe\n",
    "orders = pd.read_csv('../data/P12-ListOfOrders.csv',\n",
    "                     encoding='utf-8')\n",
    "orders_break_down = pd.read_csv('../data/P12-OrderBreakdown.csv',\n",
    "                                encoding='utf-8')"
   ]
  },
  {
   "cell_type": "code",
   "execution_count": null,
   "metadata": {
    "colab": {},
    "colab_type": "code",
    "id": "9-hgCRclo2I-"
   },
   "outputs": [],
   "source": [
    "orders.head()"
   ]
  },
  {
   "cell_type": "code",
   "execution_count": null,
   "metadata": {
    "colab": {},
    "colab_type": "code",
    "id": "JusQa9WHo2JB"
   },
   "outputs": [],
   "source": [
    "orders_break_down.head()"
   ]
  },
  {
   "cell_type": "markdown",
   "metadata": {
    "colab_type": "text",
    "id": "-vrzAGRVo2JC"
   },
   "source": [
    "##### 2. Replace Space with Underscore in Column Names"
   ]
  },
  {
   "cell_type": "code",
   "execution_count": null,
   "metadata": {
    "colab": {},
    "colab_type": "code",
    "id": "ALyt1n-xo2JD"
   },
   "outputs": [],
   "source": [
    "orders.columns = [o.replace(' ', '_')\n",
    "                  for o in orders.columns.str.lower()]\n",
    "orders_break_down.columns = [o.replace(' ', '_')\n",
    "                             for o in orders_break_down.columns.str.lower()]"
   ]
  },
  {
   "cell_type": "markdown",
   "metadata": {
    "colab_type": "text",
    "id": "r7SegAQ7o2JF"
   },
   "source": [
    "##### 3. Check DataTypes"
   ]
  },
  {
   "cell_type": "code",
   "execution_count": null,
   "metadata": {
    "colab": {},
    "colab_type": "code",
    "id": "fEXe7sAqo2JF"
   },
   "outputs": [],
   "source": [
    "print(orders.dtypes)\n",
    "print(orders_break_down.dtypes)"
   ]
  },
  {
   "cell_type": "markdown",
   "metadata": {
    "colab_type": "text",
    "id": "3RVK05B4o2JH"
   },
   "source": [
    "##### 4. Save these two dataframes as a table in sqlite"
   ]
  },
  {
   "cell_type": "code",
   "execution_count": null,
   "metadata": {
    "colab": {},
    "colab_type": "code",
    "id": "guZxGXj2o2JH"
   },
   "outputs": [],
   "source": [
    "# database\n",
    "sqlite_db = '../data/eshop.db.sqlite'\n",
    "\n",
    "# connection to RDBMS\n",
    "try:\n",
    "    conn = sqlite3.connect(sqlite_db)\n",
    "    print('Connected to database %s.' % sqlite_db)\n",
    "except Exception as ex:\n",
    "    print('Something went wrong.\\nException: %s' % ex)\n",
    "\n",
    "orders.to_sql(\n",
    "    name='orders',\n",
    "    con=conn,\n",
    "    if_exists='replace',\n",
    "    index=False)\n",
    "orders_break_down.to_sql(\n",
    "    name='orders_break_down',\n",
    "    con=conn,\n",
    "    if_exists='replace',\n",
    "    index=False)"
   ]
  },
  {
   "cell_type": "markdown",
   "metadata": {
    "colab_type": "text",
    "id": "XcXibJGQo2JK"
   },
   "source": [
    "##### 5. Select Number of Orders for Each Customer"
   ]
  },
  {
   "cell_type": "code",
   "execution_count": null,
   "metadata": {
    "colab": {},
    "colab_type": "code",
    "id": "Y8u7fIF6o2JK"
   },
   "outputs": [],
   "source": [
    "# Select Number of Orders for Each Customer\n",
    "sql = '''\n",
    "SELECT customer_name,\n",
    "       Count(DISTINCT orders.order_id) AS Count\n",
    "FROM   orders\n",
    "       JOIN orders_break_down\n",
    "         ON orders_break_down.order_id = orders.order_id\n",
    "GROUP  BY customer_name\n",
    "ORDER  BY count DESC;\n",
    "'''\n",
    "\n",
    "customers = pdsql.read_sql(sql, con=conn)\n",
    "customers.head()"
   ]
  },
  {
   "cell_type": "markdown",
   "metadata": {
    "colab_type": "text",
    "id": "F65DvKJXo2JQ"
   },
   "source": [
    "##### 6. Select Number of Customers for Each Country"
   ]
  },
  {
   "cell_type": "code",
   "execution_count": null,
   "metadata": {
    "colab": {},
    "colab_type": "code",
    "id": "BrI5o2ddo2JS"
   },
   "outputs": [],
   "source": [
    "# Select Number of Customers for Each Country\n",
    "sql = '''\n",
    "SELECT country,\n",
    "       Count(DISTINCT customer_name) AS Count\n",
    "FROM   orders\n",
    "GROUP  BY country\n",
    "ORDER  BY count DESC;\n",
    "'''\n",
    "\n",
    "customers = pdsql.read_sql(sql, con=conn)\n",
    "customers.head()"
   ]
  },
  {
   "cell_type": "markdown",
   "metadata": {
    "colab_type": "text",
    "id": "NS0kyLfeo2JW"
   },
   "source": [
    "##### 7.A Select discount, sales, quantity for Each Order from orders_break_down Table"
   ]
  },
  {
   "cell_type": "code",
   "execution_count": null,
   "metadata": {
    "colab": {},
    "colab_type": "code",
    "id": "Gpc4ozPDo2JW"
   },
   "outputs": [],
   "source": [
    "# Select discount, sales, quantity for Each Order from orders_break_down Table\n",
    "sql = '''\n",
    "SELECT discount,\n",
    "       sales,\n",
    "       quantity\n",
    "FROM   orders_break_down;\n",
    "'''\n",
    "\n",
    "customers = pdsql.read_sql(sql, con=conn)\n",
    "customers.head()"
   ]
  },
  {
   "cell_type": "markdown",
   "metadata": {
    "colab_type": "text",
    "id": "x5u88ICNo2JY"
   },
   "source": [
    "##### 7.B Select discount, sales, quantity, total price for Each Order from orders_break_down Table\n",
    "    Total Price = sales * quantity - discount"
   ]
  },
  {
   "cell_type": "code",
   "execution_count": null,
   "metadata": {
    "colab": {},
    "colab_type": "code",
    "id": "ZXs7_nW7o2JZ"
   },
   "outputs": [],
   "source": [
    "# Select discount, sales, quantity, total price\n",
    "# for Each Order from orders_break_down Table\n",
    "sql = '''\n",
    "SELECT discount,\n",
    "       sales,\n",
    "       quantity,\n",
    "       ( sales * quantity - discount ) AS total_price\n",
    "FROM   orders_break_down\n",
    "ORDER  BY total_price DESC;\n",
    "'''\n",
    "\n",
    "customers = pdsql.read_sql(sql, con=conn)\n",
    "customers.head()"
   ]
  },
  {
   "cell_type": "markdown",
   "metadata": {
    "colab_type": "text",
    "id": "VeQxsZVro2Ja"
   },
   "source": [
    "##### 7.C Select All Orders from orders_break_down Table Where Total Price Greater Than 100"
   ]
  },
  {
   "cell_type": "code",
   "execution_count": null,
   "metadata": {
    "colab": {},
    "colab_type": "code",
    "id": "ukBuiySEo2Ja"
   },
   "outputs": [],
   "source": [
    "# Select All Orders from orders_break_down Table Where Total Price Greater Than 100\n",
    "sql = '''\n",
    "SELECT *,\n",
    "       ( sales * quantity - discount ) AS total_price\n",
    "FROM   orders_break_down\n",
    "WHERE  sales * quantity - discount > 100\n",
    "ORDER  BY total_price ASC;\n",
    "'''\n",
    "\n",
    "customers = pdsql.read_sql(sql, con=conn)\n",
    "customers.head()"
   ]
  },
  {
   "cell_type": "markdown",
   "metadata": {
    "colab_type": "text",
    "id": "hMhxEHa-o2Jc"
   },
   "source": [
    "##### 8. Select All Customer And The Product They Have Bought"
   ]
  },
  {
   "cell_type": "code",
   "execution_count": null,
   "metadata": {
    "colab": {},
    "colab_type": "code",
    "id": "jkcILmigo2Jd"
   },
   "outputs": [],
   "source": [
    "# Select All Customer And The Product They Have Bought\n",
    "sql = '''\n",
    "SELECT orders.order_id,\n",
    "       orders.customer_name,\n",
    "       orders_break_down.product_name\n",
    "FROM   orders\n",
    "       JOIN orders_break_down\n",
    "         ON orders.order_id = orders_break_down.order_id;\n",
    "'''\n",
    "\n",
    "customers = pdsql.read_sql(sql, con=conn)\n",
    "customers.head()"
   ]
  },
  {
   "cell_type": "markdown",
   "metadata": {
    "colab_type": "text",
    "id": "OMCRvSbMo2Jf"
   },
   "source": [
    "##### 9.A Select Number of 'Furniture' Orders For Each Country"
   ]
  },
  {
   "cell_type": "code",
   "execution_count": null,
   "metadata": {
    "colab": {},
    "colab_type": "code",
    "id": "_pl6CZN8o2Jf"
   },
   "outputs": [],
   "source": [
    "# Select Number of 'Furniture' Orders For Each Country\n",
    "sql = '''\n",
    "SELECT orders.country,\n",
    "       Count(orders_break_down.category) AS Count\n",
    "FROM   orders\n",
    "       JOIN orders_break_down\n",
    "         ON orders.order_id = orders_break_down.order_id\n",
    "WHERE  orders_break_down.category = 'Furniture'\n",
    "GROUP  BY orders.country;\n",
    "'''\n",
    "\n",
    "customers = pdsql.read_sql(sql, con=conn)\n",
    "customers.head()"
   ]
  },
  {
   "cell_type": "markdown",
   "metadata": {
    "colab_type": "text",
    "id": "PElY6baLo2Jg"
   },
   "source": [
    "##### 9.B Select Number of 'Furniture' Orders For The Country Denmark"
   ]
  },
  {
   "cell_type": "code",
   "execution_count": null,
   "metadata": {
    "colab": {},
    "colab_type": "code",
    "id": "fyKTfsyAo2Jh"
   },
   "outputs": [],
   "source": [
    "# Select Number of 'Furniture' Orders For The Country Denmark\n",
    "sql = '''\n",
    "SELECT *\n",
    "FROM   orders\n",
    "       JOIN orders_break_down\n",
    "         ON orders.order_id = orders_break_down.order_id\n",
    "WHERE  orders_break_down.category = 'Furniture'\n",
    "       AND orders.country = 'Denmark';\n",
    "'''\n",
    "\n",
    "customers = pdsql.read_sql(sql, con=conn)\n",
    "customers.head()"
   ]
  },
  {
   "cell_type": "markdown",
   "metadata": {
    "colab_type": "text",
    "id": "u6wDStZho2Jj"
   },
   "source": [
    "##### 10. Select Total Sales With Discount and Without Discount for Each Country"
   ]
  },
  {
   "cell_type": "code",
   "execution_count": null,
   "metadata": {
    "colab": {},
    "colab_type": "code",
    "id": "7mwSsnBlo2Jk"
   },
   "outputs": [],
   "source": [
    "# Select Total Sales With Discount and Without Discount for Each Country\n",
    "sql = '''\n",
    "SELECT orders.country,\n",
    "       SUM(CASE\n",
    "             WHEN discount == 0 THEN sales\n",
    "             ELSE 0\n",
    "           END) AS discount_sales,\n",
    "       SUM(CASE\n",
    "             WHEN discount > 0 THEN sales\n",
    "             ELSE 0\n",
    "           END) AS non_discount_sales\n",
    "FROM   orders\n",
    "       join orders_break_down\n",
    "         ON orders.order_id = orders_break_down.order_id\n",
    "GROUP  BY orders.country;\n",
    "'''\n",
    "\n",
    "customers = pdsql.read_sql(sql, con=conn)\n",
    "customers.head()"
   ]
  },
  {
   "cell_type": "markdown",
   "metadata": {
    "colab_type": "text",
    "id": "EW58YgMyo2Jl"
   },
   "source": [
    "##### 11.A Select Total Quantity, Total Sales for Each Country"
   ]
  },
  {
   "cell_type": "code",
   "execution_count": null,
   "metadata": {
    "colab": {},
    "colab_type": "code",
    "id": "qvJuWr5Wo2Jl"
   },
   "outputs": [],
   "source": [
    "# Select Total Quantity, Total Sales for Each Country\n",
    "sql = '''\n",
    "SELECT orders.country,\n",
    "       Sum(sales)    AS total_sales,\n",
    "       Sum(quantity) AS total_quantity\n",
    "FROM   orders\n",
    "       JOIN orders_break_down\n",
    "         ON orders.order_id = orders_break_down.order_id\n",
    "GROUP  BY orders.country;\n",
    "'''\n",
    "\n",
    "customers = pdsql.read_sql(sql, con=conn)\n",
    "customers.head()"
   ]
  },
  {
   "cell_type": "markdown",
   "metadata": {
    "colab_type": "text",
    "id": "nzyFAh8ao2Jm"
   },
   "source": [
    "##### 11.B Select Top 3 Country Based on Sales"
   ]
  },
  {
   "cell_type": "code",
   "execution_count": null,
   "metadata": {
    "colab": {},
    "colab_type": "code",
    "id": "TCGKicGBo2Jo"
   },
   "outputs": [],
   "source": [
    "# Select Top 3 Country Based on Sales\n",
    "sql = '''\n",
    "SELECT orders.country,\n",
    "       Sum(sales)    AS total_sales,\n",
    "       Sum(quantity) AS total_quantity\n",
    "FROM   orders\n",
    "       JOIN orders_break_down\n",
    "         ON orders.order_id = orders_break_down.order_id\n",
    "GROUP  BY orders.country\n",
    "ORDER  BY total_sales DESC\n",
    "LIMIT  3;\n",
    "'''\n",
    "\n",
    "customers = pdsql.read_sql(sql, con=conn)\n",
    "customers.head()"
   ]
  },
  {
   "cell_type": "markdown",
   "metadata": {
    "colab_type": "text",
    "id": "VUw4XxIFo2Jq"
   },
   "source": [
    "##### 11.C Select Bottom 3 Country Based On Quantities"
   ]
  },
  {
   "cell_type": "code",
   "execution_count": null,
   "metadata": {
    "colab": {},
    "colab_type": "code",
    "id": "7Fov3QyUo2Jq"
   },
   "outputs": [],
   "source": [
    "# Select Bottom 3 Country Based On Quantities\n",
    "sql = '''\n",
    "SELECT orders.country,\n",
    "       Sum(sales)    AS total_sales,\n",
    "       Sum(quantity) AS total_quantity\n",
    "FROM   orders\n",
    "       JOIN orders_break_down\n",
    "         ON orders.order_id = orders_break_down.order_id\n",
    "GROUP  BY orders.country\n",
    "ORDER  BY total_quantity ASC\n",
    "LIMIT  3;\n",
    "'''\n",
    "\n",
    "customers = pdsql.read_sql(sql, con=conn)\n",
    "customers.head()"
   ]
  },
  {
   "cell_type": "markdown",
   "metadata": {
    "colab_type": "text",
    "id": "3rPSWnpHo2Jr"
   },
   "source": [
    "##### 12. Select Average Sales By Categroy For The Country 'France'"
   ]
  },
  {
   "cell_type": "code",
   "execution_count": null,
   "metadata": {
    "colab": {},
    "colab_type": "code",
    "id": "O-8_pw_io2Js"
   },
   "outputs": [],
   "source": [
    "# Select Average Sales By Categroy For The Country 'France'\n",
    "sql = '''\n",
    "SELECT orders.country,\n",
    "       orders_break_down.category,\n",
    "       Avg(sales) AS avg_sales\n",
    "FROM   orders\n",
    "       JOIN orders_break_down\n",
    "         ON orders.order_id = orders_break_down.order_id\n",
    "WHERE  orders.country = 'France'\n",
    "GROUP  BY orders.country,\n",
    "          orders_break_down.category\n",
    "ORDER  BY avg_sales DESC;\n",
    "'''\n",
    "\n",
    "customers = pdsql.read_sql(sql, con=conn)\n",
    "customers.head()"
   ]
  },
  {
   "cell_type": "markdown",
   "metadata": {
    "colab_type": "text",
    "id": "yq174i3co2Jt"
   },
   "source": [
    "##### 13. Select Country, Category and Total Sales Where Average Total Sales is The Highest"
   ]
  },
  {
   "cell_type": "code",
   "execution_count": null,
   "metadata": {
    "colab": {},
    "colab_type": "code",
    "id": "x2rl4hlao2Jt"
   },
   "outputs": [],
   "source": [
    "# Select Country, Category and Total Sales Where Average Total Sales is The Highest\n",
    "sql = '''\n",
    "SELECT orders.country,\n",
    "       orders_break_down.category,\n",
    "       Avg(sales) AS total_sales\n",
    "FROM   orders\n",
    "       JOIN orders_break_down\n",
    "         ON orders.order_id = orders_break_down.order_id\n",
    "GROUP  BY orders.country,\n",
    "          orders_break_down.category\n",
    "ORDER  BY total_sales DESC\n",
    "LIMIT  1;\n",
    "'''\n",
    "\n",
    "customers = pdsql.read_sql(sql, con=conn)\n",
    "customers.head()"
   ]
  },
  {
   "cell_type": "code",
   "execution_count": null,
   "metadata": {
    "colab": {},
    "colab_type": "code",
    "id": "rbHtwwnQo2Ju"
   },
   "outputs": [],
   "source": [
    "# close the connection at the very end\n",
    "conn.close()"
   ]
  },
  {
   "cell_type": "markdown",
   "metadata": {
    "colab_type": "text",
    "id": "-fI8k8ZKo2Jw"
   },
   "source": [
    "### JOINS\n",
    "Below is a link to a handy reference for SQL joins. In this chart joins are represented in terms of sets and venn diagrams.\n",
    "\n",
    "- https://www.codeproject.com/Articles/33052/Visual-Representation-of-SQL-Joins\n",
    "\n",
    "Alternatively, remember the merge functionality of pandas.\n",
    "\n",
    "- https://github.com/pandas-dev/pandas/blob/master/doc/cheatsheet/Pandas_Cheat_Sheet.pdf"
   ]
  },
  {
   "cell_type": "markdown",
   "metadata": {
    "colab_type": "text",
    "id": "wUUPo-A2o2Jw"
   },
   "source": [
    "### ADDITIONAL RESOURCES\n",
    "- [sqlite3 home](http://www.sqlite.org)  \n",
    "- [sqlite3 Python documentation](https://docs.python.org/3/library/sqlite3.html)\n",
    "- [SQLite Python tutorial](http://sebastianraschka.com/Articles/2014_sqlite_in_python_tutorial.html)  \n",
    "- [SQL zoo](http://www.sqlzoo.net) Great for learning syntax\n",
    "- [Instant SQL Formatter](http://www.dpriver.com/pp/sqlformat.htm)"
   ]
  }
 ],
 "metadata": {
  "colab": {
   "name": "Lab-02_1_3-Answers.ipynb",
   "provenance": []
  },
  "kernelspec": {
   "display_name": "Python 3",
   "language": "python",
   "name": "python3"
  },
  "language_info": {
   "codemirror_mode": {
    "name": "ipython",
    "version": 3
   },
   "file_extension": ".py",
   "mimetype": "text/x-python",
   "name": "python",
   "nbconvert_exporter": "python",
   "pygments_lexer": "ipython3",
   "version": "3.7.3"
  }
 },
 "nbformat": 4,
 "nbformat_minor": 4
}
