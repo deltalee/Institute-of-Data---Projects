{
 "cells": [
  {
   "cell_type": "markdown",
   "metadata": {
    "colab_type": "text",
    "id": "0ioyxpnBfyMN"
   },
   "source": [
    "![image.png](attachment:image.png)"
   ]
  },
  {
   "cell_type": "markdown",
   "metadata": {
    "colab_type": "text",
    "id": "qokYD_TTfyMO"
   },
   "source": [
    "# Data Science and AI\n",
    "## Lab 2.2.4: The Google BigQuery UI and API\n",
    "INSTRUCTIONS:\n",
    "- Run the cells\n",
    "- Observe and understand the results\n",
    "- Answer the questions"
   ]
  },
  {
   "cell_type": "markdown",
   "metadata": {
    "colab_type": "text",
    "id": "UZErcLVXfyMO"
   },
   "source": [
    "## Introduction\n",
    "The **Google BigQuery UI** provides access to Google's extensive collection of public data sets via an SQL-based query engine.\n",
    "\n",
    "The **BigQuery API** provides programmatic access to the data sets.\n",
    "\n",
    "We can use the UI to discover interesting data before writing Python code to access it. Then we can reproduce it in an API request so as to aggregate large amounts of data on Google's infrastructure before pulling the results into our application."
   ]
  },
  {
   "cell_type": "markdown",
   "metadata": {
    "colab_type": "text",
    "id": "bWo0gwc3fyMP"
   },
   "source": [
    "## BigQuery Web UI\n",
    "- Work through the [Quickstart](https://cloud.google.com/bigquery/docs/quickstarts/quickstart-web-ui).\n",
    "- You will need to set up a **Google Cloud Platform** account if you do not already have one.\n",
    "    - **This should not cost anything during the trial period unless you perform a large amount of querying**.\n",
    "- Afterwards, costs are based on actual resource usage, but most offerings have a free tier."
   ]
  },
  {
   "cell_type": "markdown",
   "metadata": {
    "colab_type": "text",
    "id": "epwnjjxcfyMP"
   },
   "source": [
    "![image.png](attachment:image.png)"
   ]
  },
  {
   "cell_type": "markdown",
   "metadata": {
    "colab_type": "text",
    "id": "cQMnNrkNfyMQ"
   },
   "source": [
    "## BigQuery API\n",
    "You should already have the [**Google Cloud Client Library for Python**](https://cloud.google.com/python/setup) installed.\n",
    "- Open [Google Cloud Console](https://console.cloud.google.com/home/) and select to create a project.\n",
    "\n",
    "![image.png](attachment:image.png)\n",
    "\n",
    "- Under `Getting Started`, select `Enable APIs and get credentials such as keys`.\n",
    "- In the API table, make sure the BigQuery API is enabled. Page back."
   ]
  },
  {
   "cell_type": "markdown",
   "metadata": {
    "colab_type": "text",
    "id": "Pk8lig9UfyMR"
   },
   "source": [
    "### Authentication\n",
    "- Go to [Authentication](https://cloud.google.com/docs/authentication/production) page and click the button to create a service account.\n",
    "![image.png](attachment:image.png)"
   ]
  },
  {
   "cell_type": "markdown",
   "metadata": {
    "colab_type": "text",
    "id": "xIY75x3dfyMR"
   },
   "source": [
    "- Fill out the form, giving the account an appropriate name, and choose `Project Owner` for Account Type\n",
    "- Click `Create`\n",
    "![image.png](attachment:image.png)"
   ]
  },
  {
   "cell_type": "markdown",
   "metadata": {
    "colab_type": "text",
    "id": "BFFwaGcOfyMS"
   },
   "source": [
    "- The keys will get saved to your computer\n",
    "\n",
    "![image.png](attachment:image.png)\n",
    "\n",
    "- Note the location and copy the file path (of the JSON file) to somewhere safe, for future reference."
   ]
  },
  {
   "cell_type": "markdown",
   "metadata": {
    "colab_type": "text",
    "id": "f4A3MBeSfyMS"
   },
   "source": [
    "- You should see a screen like this:\n",
    "\n",
    "![image.png](attachment:image.png)"
   ]
  },
  {
   "cell_type": "markdown",
   "metadata": {
    "colab_type": "text",
    "id": "Lt2qhpOifyMT"
   },
   "source": [
    "- See here for more information:\n",
    "    - [Managing service account keys](https://cloud.google.com/iam/docs/understanding-service-accounts?&_ga=2.173177830.-495703703.1532572448#managing_service_account_keys)\n",
    "\n",
    "This is supposed to get implicit key retrieval working:\n",
    "- Windows\n",
    "```shell\n",
    "set GOOGLE_APPLICATION_CREDENTIALS=[PATH]\n",
    "```\n",
    "- Linux, MacOS\n",
    "```shell\n",
    "export GOOGLE_APPLICATION_CREDENTIALS=[PATH]\n",
    "```\n",
    "\n",
    "where `[PATH]` is the full file path of your json key file."
   ]
  },
  {
   "cell_type": "markdown",
   "metadata": {
    "colab_type": "text",
    "id": "J6DkRpazfyMT"
   },
   "source": [
    "### Using the Python API\n",
    "Google provides Python libraries for wrapping the Google APIs.\n",
    "\n",
    "For conda users, these are available on the `conda-forge` channel. There are other Python libraries for Google APIs, possibly adding novel features or ease of use, but Google's is presumably the most current.\n",
    "\n",
    "Installing the `google-cloud-storage` and `google-cloud-bigquery` libraries should cover all the dependences for this lab."
   ]
  },
  {
   "cell_type": "code",
   "execution_count": null,
   "metadata": {
    "colab": {},
    "colab_type": "code",
    "id": "6lAuf_wdw2oN"
   },
   "outputs": [],
   "source": [
    "!pip install google-cloud-storage\n",
    "!pip install google-cloud-bigquery\n",
    "!pip install google-cloud\n"
   ]
  },
  {
   "cell_type": "code",
   "execution_count": null,
   "metadata": {
    "colab": {},
    "colab_type": "code",
    "id": "saL_gG4cfyMU"
   },
   "outputs": [],
   "source": [
    "from google.cloud import storage\n",
    "from google.cloud import bigquery\n",
    "from google.cloud.bigquery import Dataset"
   ]
  },
  {
   "cell_type": "markdown",
   "metadata": {
    "colab_type": "text",
    "id": "XBUtyyCufyMW"
   },
   "source": [
    "If you have managed to get implicit key retrieval working, you can call `Client` with no argument"
   ]
  },
  {
   "cell_type": "code",
   "execution_count": null,
   "metadata": {
    "colab": {},
    "colab_type": "code",
    "id": "E3NRBS4kfyMW"
   },
   "outputs": [],
   "source": [
    "storage_client = storage.Client()"
   ]
  },
  {
   "cell_type": "markdown",
   "metadata": {
    "colab_type": "text",
    "id": "6evymX7SfyMY"
   },
   "source": [
    "If you are not so lucky, you need to invoke a method of the `Client` object that takes the path to your key files as a string argument"
   ]
  },
  {
   "cell_type": "code",
   "execution_count": null,
   "metadata": {
    "colab": {},
    "colab_type": "code",
    "id": "kHfL8iTefyMZ"
   },
   "outputs": [],
   "source": [
    "import json\n",
    "\n",
    "path_key_path = 'auth_gc_bigquery.json'\n",
    "try:\n",
    "    auth = json.loads(open(path_auth).read())\n",
    "except FileNotFoundError as ex:\n",
    "    print(ex)"
   ]
  },
  {
   "cell_type": "code",
   "execution_count": null,
   "metadata": {
    "colab": {},
    "colab_type": "code",
    "id": "KUH_b-kzfyMc"
   },
   "outputs": [],
   "source": [
    "# # For debugging only\n",
    "# pp = pprint.PrettyPrinter(indent=2)\n",
    "# pp.pprint(auth)"
   ]
  },
  {
   "cell_type": "code",
   "execution_count": null,
   "metadata": {
    "colab": {},
    "colab_type": "code",
    "id": "2BlANktVfyMe"
   },
   "outputs": [],
   "source": [
    "key_path = auth['key_path']"
   ]
  },
  {
   "cell_type": "markdown",
   "metadata": {
    "colab_type": "text",
    "id": "vHqLLiyFfyMh"
   },
   "source": [
    "This should not throw an error if key retrieval / assignemnt worked"
   ]
  },
  {
   "cell_type": "code",
   "execution_count": null,
   "metadata": {
    "colab": {},
    "colab_type": "code",
    "id": "0gMSu0-2fyMi"
   },
   "outputs": [],
   "source": [
    "storage_client = storage.Client.from_service_account_json(key_path)"
   ]
  },
  {
   "cell_type": "markdown",
   "metadata": {
    "colab_type": "text",
    "id": "2etpDYJHfyMk"
   },
   "source": [
    "**Note**: The `storage` object was used in the above example, but there are other objects of interest that have polymorphic `Client` members that are used similarly, such as `bigquery`, which is used below."
   ]
  },
  {
   "cell_type": "markdown",
   "metadata": {
    "colab_type": "text",
    "id": "wKBP9bAsfyMl"
   },
   "source": [
    "If implicit key retrieval is working for you, execute this"
   ]
  },
  {
   "cell_type": "code",
   "execution_count": null,
   "metadata": {
    "colab": {},
    "colab_type": "code",
    "id": "dGkpmYrpfyMm"
   },
   "outputs": [],
   "source": [
    "client = bigquery.Client()"
   ]
  },
  {
   "cell_type": "markdown",
   "metadata": {
    "colab_type": "text",
    "id": "A0YrkGqzfyMn"
   },
   "source": [
    "If not, execute this"
   ]
  },
  {
   "cell_type": "code",
   "execution_count": null,
   "metadata": {
    "colab": {},
    "colab_type": "code",
    "id": "XquAMk8cfyMo"
   },
   "outputs": [],
   "source": [
    "client = bigquery.Client.from_service_account_json(key_path)"
   ]
  },
  {
   "cell_type": "markdown",
   "metadata": {
    "colab_type": "text",
    "id": "9dLeBBWYfyMq"
   },
   "source": [
    "This client is associated with the default project (which was set or defaulted in the BigQuery UI)"
   ]
  },
  {
   "cell_type": "code",
   "execution_count": null,
   "metadata": {
    "colab": {},
    "colab_type": "code",
    "id": "NyRJ4JHBfyMr"
   },
   "outputs": [],
   "source": [
    "client.project"
   ]
  },
  {
   "cell_type": "markdown",
   "metadata": {
    "colab_type": "text",
    "id": "ap1IOoX1fyMt"
   },
   "source": [
    "A BigQuery project contains datasets. Datasets contain tables. To get at the data in a table we need to create a reference that covers this hierarchy; in the `bigquery` library this looks like `project.dataset.table`.  \n",
    "\n",
    "**Note**: Queries can be performed on prjects and datasets, but most queries are performed on tables."
   ]
  },
  {
   "cell_type": "markdown",
   "metadata": {
    "colab_type": "text",
    "id": "3VwOigRFfyMu"
   },
   "source": [
    "To explore the public datasets we will start by reassgining our `client` variable using optional `project` parameter (set to `bigquery-public-data`):"
   ]
  },
  {
   "cell_type": "code",
   "execution_count": null,
   "metadata": {
    "colab": {},
    "colab_type": "code",
    "id": "EBUsbQ7ffyMv"
   },
   "outputs": [],
   "source": [
    "client = bigquery.Client.from_service_account_json(\n",
    "    key_path,\n",
    "    project='bigquery-public-data')\n",
    "print(client.project)"
   ]
  },
  {
   "cell_type": "markdown",
   "metadata": {
    "colab_type": "text",
    "id": "k37Sawa1fyMw"
   },
   "source": [
    "Here is how to get a list of the datasets in the current project"
   ]
  },
  {
   "cell_type": "code",
   "execution_count": null,
   "metadata": {
    "colab": {},
    "colab_type": "code",
    "id": "foGvTmKYfyMx"
   },
   "outputs": [],
   "source": [
    "datasets = list(client.list_datasets())\n",
    "print(datasets)"
   ]
  },
  {
   "cell_type": "markdown",
   "metadata": {
    "colab_type": "text",
    "id": "rK65pWLGfyMz"
   },
   "source": [
    "That was not helpful. We need to go deeper into the object structure to get at something meaningful. Actually, the `dataset_id` member contains the name attribute of a `dataset` object.\n",
    "\n",
    "- Write some code to print that name for each member of the list that was created above"
   ]
  },
  {
   "cell_type": "code",
   "execution_count": null,
   "metadata": {
    "colab": {},
    "colab_type": "code",
    "id": "-F7T1O3zfyMz"
   },
   "outputs": [],
   "source": []
  },
  {
   "cell_type": "markdown",
   "metadata": {
    "colab_type": "text",
    "id": "8NjwdTRsfyM1"
   },
   "source": [
    "The google API objects in the `bigquery` library have their own overloads of the format() function that make them easier to read. \n",
    "\n",
    "Below is a function that exploits the `format` method of `project` and `dataset_id`, providing an easy way to list datasets."
   ]
  },
  {
   "cell_type": "code",
   "execution_count": null,
   "metadata": {
    "colab": {},
    "colab_type": "code",
    "id": "dLjIC84vfyM1"
   },
   "outputs": [],
   "source": [
    "# function for listing datasets in a project:\n",
    "def printDatasetList(client):\n",
    "    # only one project can be associated with a client instance\n",
    "    project = client.project\n",
    "    datasets = list(client.list_datasets())\n",
    "    if datasets:\n",
    "        print('Datasets in project %s:' % project)\n",
    "        for dataset in datasets:\n",
    "            print('\\t%s' % dataset.dataset_id)\n",
    "        found = True\n",
    "    else:\n",
    "        print('%s project does not contain any datasets.' % project)\n",
    "        found = False\n",
    "    return found"
   ]
  },
  {
   "cell_type": "code",
   "execution_count": null,
   "metadata": {
    "colab": {},
    "colab_type": "code",
    "id": "mvP5K1yifyM3"
   },
   "outputs": [],
   "source": [
    "# list datasets in the default project\n",
    "# assigning to `flag` suppresses printing the return value (normally `True`)\n",
    "flag = printDatasetList(client)"
   ]
  },
  {
   "cell_type": "markdown",
   "metadata": {
    "colab_type": "text",
    "id": "nUwZ9SI4fyM6"
   },
   "source": [
    "This list should correspond to what is shown in [public datasets](https://bigquery.cloud.google.com/publicdatasets) under the **bigquery-public-data**.\n",
    "\n",
    "![image.png](attachment:image.png)"
   ]
  },
  {
   "cell_type": "markdown",
   "metadata": {
    "colab_type": "text",
    "id": "3-GHIwBNfyM7"
   },
   "source": [
    "Here is how to create a dataset reference object by assigning a project and a dataset name"
   ]
  },
  {
   "cell_type": "code",
   "execution_count": null,
   "metadata": {
    "colab": {},
    "colab_type": "code",
    "id": "8bScoqmYfyM8"
   },
   "outputs": [],
   "source": [
    "dataset_id = 'samples'\n",
    "dataset_ref = client.dataset(dataset_id)"
   ]
  },
  {
   "cell_type": "markdown",
   "metadata": {
    "colab_type": "text",
    "id": "KsltxpxnfyM_"
   },
   "source": [
    "If our current project was something other than `bigquery-public-data`, we could still create this reference by specifying the project that contains the dataset"
   ]
  },
  {
   "cell_type": "code",
   "execution_count": null,
   "metadata": {
    "colab": {},
    "colab_type": "code",
    "id": "xQMWVECofyNA"
   },
   "outputs": [],
   "source": [
    "dataset_id = 'samples'\n",
    "dataset_ref = client.dataset(dataset_id, project='bigquery-public-data')"
   ]
  },
  {
   "cell_type": "markdown",
   "metadata": {
    "colab_type": "text",
    "id": "eGByqQEBfyNC"
   },
   "source": [
    "**QUESTION**: How can we get the path of the dataset?"
   ]
  },
  {
   "cell_type": "code",
   "execution_count": null,
   "metadata": {
    "colab": {},
    "colab_type": "code",
    "id": "tj8yBI-cfyND"
   },
   "outputs": [],
   "source": [
    "dataset_ref.path"
   ]
  },
  {
   "cell_type": "markdown",
   "metadata": {
    "colab_type": "text",
    "id": "I7onMI7ofyNE"
   },
   "source": [
    "- Explore more of this object's members"
   ]
  },
  {
   "cell_type": "code",
   "execution_count": null,
   "metadata": {
    "colab": {},
    "colab_type": "code",
    "id": "FpuO9DhwfyNF"
   },
   "outputs": [],
   "source": [
    "dataset_ref."
   ]
  },
  {
   "cell_type": "markdown",
   "metadata": {
    "colab_type": "text",
    "id": "jtydhWsnfyNG"
   },
   "source": [
    "Here is a function for listing the tables in a dataset"
   ]
  },
  {
   "cell_type": "code",
   "execution_count": null,
   "metadata": {
    "colab": {},
    "colab_type": "code",
    "id": "5A-8XKhRfyNG"
   },
   "outputs": [],
   "source": [
    "# function for listing tables in a dataset:\n",
    "def printTableList(client, dataset_id):\n",
    "    project = client.project\n",
    "    dataset_ref = client.dataset(dataset_id, project=project)\n",
    "    tables = list(client.list_tables(dataset_ref))\n",
    "    if tables:\n",
    "        print('Tables in dataset %s:' % dataset_id)\n",
    "        for table in tables:\n",
    "            print('\\t%s' % table.table_id)\n",
    "        found = True\n",
    "    else:\n",
    "        print('%s dataset does not contain any tables.' % dataset_id)\n",
    "        found = False\n",
    "    return found"
   ]
  },
  {
   "cell_type": "markdown",
   "metadata": {
    "colab_type": "text",
    "id": "R5udodsOfyNI"
   },
   "source": [
    "Use this function to list the tables in the current dataset"
   ]
  },
  {
   "cell_type": "code",
   "execution_count": null,
   "metadata": {
    "colab": {},
    "colab_type": "code",
    "id": "_ujRoIaWfyNJ"
   },
   "outputs": [],
   "source": [
    "printTableList(client, dataset_id)"
   ]
  },
  {
   "cell_type": "markdown",
   "metadata": {
    "colab_type": "text",
    "id": "so1vc3ljfyNK"
   },
   "source": [
    "To create a reference to a table within the dataset, we use the `table_id` attribute"
   ]
  },
  {
   "cell_type": "code",
   "execution_count": null,
   "metadata": {
    "colab": {},
    "colab_type": "code",
    "id": "xJX4MknofyNL"
   },
   "outputs": [],
   "source": [
    "table_id = 'shakespeare'\n",
    "table_ref = dataset_ref.table(table_id)"
   ]
  },
  {
   "cell_type": "markdown",
   "metadata": {
    "colab_type": "text",
    "id": "XAaKNT6ZfyNN"
   },
   "source": [
    "Check the name of the table that `table_ref` now points to"
   ]
  },
  {
   "cell_type": "code",
   "execution_count": null,
   "metadata": {
    "colab": {},
    "colab_type": "code",
    "id": "rJBysGutfyNO"
   },
   "outputs": [],
   "source": [
    "table_ref.table_id"
   ]
  },
  {
   "cell_type": "markdown",
   "metadata": {
    "colab_type": "text",
    "id": "F4JHs8e8fyNP"
   },
   "source": [
    "To access the data in the table itself, we use the `get_table()` method"
   ]
  },
  {
   "cell_type": "code",
   "execution_count": null,
   "metadata": {
    "colab": {},
    "colab_type": "code",
    "id": "jvvgQJlufyNQ"
   },
   "outputs": [],
   "source": [
    "# API Request\n",
    "table = client.get_table(table_ref)"
   ]
  },
  {
   "cell_type": "markdown",
   "metadata": {
    "colab_type": "text",
    "id": "1mL_jKNIfyNS"
   },
   "source": [
    "**NOTE**: The contents of the table are not actually in our memory after this call! We are working with a Big Data platform, now, and we could easily end up pulling GBs or TBs of data by accident. \n",
    "\n",
    "To minimise data bandwidth, memory consumption, and processing time, Big Data platforms employ **lazy evaluation**. This means that no computation or data transfer actually takes place until we **realise** (use) the data. Even if we execute subsequent code that performs calculations on the data, no data flow or computation actually occurs until we request output (e.g. by executing a print to stdout or writing to a file)."
   ]
  },
  {
   "cell_type": "markdown",
   "metadata": {
    "colab_type": "text",
    "id": "-rAL7A6WfyNS"
   },
   "source": [
    "**QUESTION**: What kind of object is returned by `client.get_table`?"
   ]
  },
  {
   "cell_type": "code",
   "execution_count": null,
   "metadata": {
    "colab": {},
    "colab_type": "code",
    "id": "EbkTMcIOfyNT"
   },
   "outputs": [],
   "source": [
    "type(table)"
   ]
  },
  {
   "cell_type": "markdown",
   "metadata": {
    "colab_type": "text",
    "id": "hvhjQ_KHfyNU"
   },
   "source": [
    "**QUESTION**: How can we view the design of the table (column names and types?\n",
    "\n",
    "The name of the boject attribute we need is the same term we learned in the module on databases."
   ]
  },
  {
   "cell_type": "code",
   "execution_count": null,
   "metadata": {
    "colab": {},
    "colab_type": "code",
    "id": "uM2TirYjfyNV"
   },
   "outputs": [],
   "source": [
    "print(table.schema)"
   ]
  },
  {
   "cell_type": "markdown",
   "metadata": {
    "colab_type": "text",
    "id": "q-qA1E1ffyNX"
   },
   "source": [
    "Again, this is messy. If we wanted to refer to the column names and types in code, we might use something like this (which we could then parse into a dict)"
   ]
  },
  {
   "cell_type": "code",
   "execution_count": null,
   "metadata": {
    "colab": {},
    "colab_type": "code",
    "id": "IyAs5j-BfyNX"
   },
   "outputs": [],
   "source": [
    "result = ['%s %s' % (schema.name, schema.field_type)\n",
    "          for schema in table.schema]\n",
    "print(result)"
   ]
  },
  {
   "cell_type": "markdown",
   "metadata": {
    "colab_type": "text",
    "id": "hfcr0jczfyNZ"
   },
   "source": [
    "But if we just want to print them, here is another neat function for that"
   ]
  },
  {
   "cell_type": "code",
   "execution_count": null,
   "metadata": {
    "colab": {},
    "colab_type": "code",
    "id": "DlYUjwtLfyNZ"
   },
   "outputs": [],
   "source": [
    "# function to print a table schema:\n",
    "def printTableSchema(aTable):\n",
    "    schemas = list(aTable.schema)\n",
    "    if schemas:\n",
    "        print('Table schema for %s:' % aTable.table_id)\n",
    "        for aSchema in schemas:\n",
    "            print('\\t%s %s' % (aSchema.name, aSchema.field_type))\n",
    "        found = True\n",
    "    else:\n",
    "        found = False\n",
    "    return found"
   ]
  },
  {
   "cell_type": "markdown",
   "metadata": {
    "colab_type": "text",
    "id": "UzC4aU9sfyNb"
   },
   "source": [
    "- Use this function to print the table schema"
   ]
  },
  {
   "cell_type": "code",
   "execution_count": null,
   "metadata": {
    "colab": {},
    "colab_type": "code",
    "id": "GVhhsvFEfyNb"
   },
   "outputs": [],
   "source": [
    "printTableSchema(table)"
   ]
  },
  {
   "cell_type": "markdown",
   "metadata": {
    "colab_type": "text",
    "id": "m6iBDVhDfyNd"
   },
   "source": [
    "Now that we know what the columns are, we can write queries. Actually, we construct a query job by assigning an SQL statement to a method of the `client` object"
   ]
  },
  {
   "cell_type": "code",
   "execution_count": null,
   "metadata": {
    "colab": {},
    "colab_type": "code",
    "id": "gPRudECPfyNd"
   },
   "outputs": [],
   "source": [
    "sql = '''\n",
    "SELECT COUNT(1)\n",
    "FROM   `bigquery-public-data.samples.shakespeare`\n",
    "'''\n",
    "query_job = client.query(sql)"
   ]
  },
  {
   "cell_type": "markdown",
   "metadata": {
    "colab_type": "text",
    "id": "_I6reE67fyNg"
   },
   "source": [
    "**QUESTION**: Why does this throw an error?"
   ]
  },
  {
   "cell_type": "markdown",
   "metadata": {
    "colab_type": "text",
    "id": "Uv5wCdHZfyNh"
   },
   "source": [
    "**ANSWER**: We do not have permission to create queries inside the `bigquery-public-data` project. "
   ]
  },
  {
   "cell_type": "markdown",
   "metadata": {
    "colab_type": "text",
    "id": "l1KkdUKBfyNi"
   },
   "source": [
    "So, what can we do?"
   ]
  },
  {
   "cell_type": "code",
   "execution_count": null,
   "metadata": {
    "colab": {},
    "colab_type": "code",
    "id": "F0RVEmChfyNj"
   },
   "outputs": [],
   "source": [
    "project = 'myreallybigquery'  # <<< your BigQuery project ID here!\n",
    "client = bigquery.Client.from_service_account_json(key_path, project=project)\n",
    "query_job = client.query(sql)"
   ]
  },
  {
   "cell_type": "markdown",
   "metadata": {
    "colab_type": "text",
    "id": "RO7040p8fyNm"
   },
   "source": [
    "If that worked, show what query_job is"
   ]
  },
  {
   "cell_type": "code",
   "execution_count": null,
   "metadata": {
    "colab": {},
    "colab_type": "code",
    "id": "bzmygqd2fyNn"
   },
   "outputs": [],
   "source": [
    "type(query_job)"
   ]
  },
  {
   "cell_type": "markdown",
   "metadata": {
    "colab_type": "text",
    "id": "7XZUMr_RfyNo"
   },
   "source": [
    "Once again, due to lazy execution, no actual execution occurs until we request output"
   ]
  },
  {
   "cell_type": "code",
   "execution_count": null,
   "metadata": {
    "colab": {},
    "colab_type": "code",
    "id": "9fJE5YV3fyNp"
   },
   "outputs": [],
   "source": [
    "# API request - fetches results\n",
    "for row in query_job:\n",
    "    print(row)"
   ]
  },
  {
   "cell_type": "markdown",
   "metadata": {
    "colab_type": "text",
    "id": "OcE5tfyZfyNq"
   },
   "source": [
    "And, again, we need to manipulate this to make it neat. Each member of the rowset is a list and we only want to extract the value, which is in the first member"
   ]
  },
  {
   "cell_type": "code",
   "execution_count": null,
   "metadata": {
    "colab": {},
    "colab_type": "code",
    "id": "X4SYLQoAfyNr"
   },
   "outputs": [],
   "source": [
    "print(row[0])"
   ]
  },
  {
   "cell_type": "markdown",
   "metadata": {
    "colab_type": "text",
    "id": "zbgCkPBdfyNt"
   },
   "source": [
    "So, we now know that this table has 164,656 rows. (We would not want to print it!)"
   ]
  },
  {
   "cell_type": "markdown",
   "metadata": {
    "colab_type": "text",
    "id": "sxv5hlh5fyNv"
   },
   "source": [
    "A better coding practice is to write SQL statements that assign names (aliases) to derived values, so we do not forget what the resulting row set contains. Rewite the above SQL statement so that the value returned is aliased a `num_rows`, and assign the QueryJob as above"
   ]
  },
  {
   "cell_type": "code",
   "execution_count": null,
   "metadata": {
    "colab": {},
    "colab_type": "code",
    "id": "pCecbNx8fyNv"
   },
   "outputs": [],
   "source": [
    "sql = '''\n",
    "SELECT COUNT(1) AS num_rows\n",
    "FROM   `bigquery-public-data.samples.shakespeare`\n",
    "'''\n",
    "query_job = client.query(sql)"
   ]
  },
  {
   "cell_type": "markdown",
   "metadata": {
    "colab_type": "text",
    "id": "y0LbwnK2fyNw"
   },
   "source": [
    "Now we could use Python's `assert` statement to build a test into the first code block that operates on the row set"
   ]
  },
  {
   "cell_type": "code",
   "execution_count": null,
   "metadata": {
    "colab": {},
    "colab_type": "code",
    "id": "AcmJpPuHfyNy"
   },
   "outputs": [],
   "source": [
    "for row in query_job:  # API request - fetches results\n",
    "    # Row values can be accessed by field name or index:\n",
    "    assert row[0] == row.num_rows == row['num_rows']  #: for debugging bad sql\n",
    "    print(row.num_rows)"
   ]
  },
  {
   "cell_type": "markdown",
   "metadata": {
    "colab_type": "text",
    "id": "9hqovDg1fyNz"
   },
   "source": [
    "The above code checks that the name attribute of the value in `row[0]` is what we expected (i.e. `num_rows`). Also, it shows that we can refer to a field in a row by its object member `num_rows` or by using the same notation we use for Python dictionaries, `['num_rows']`."
   ]
  },
  {
   "cell_type": "markdown",
   "metadata": {
    "colab_type": "text",
    "id": "XEJoM1JVfyN0"
   },
   "source": [
    "- Write, execute, and print the results of a query that fetches 10 rows from the table, each containing the `word`, `word_count` and `corpus` fields"
   ]
  },
  {
   "cell_type": "code",
   "execution_count": null,
   "metadata": {
    "colab": {},
    "colab_type": "code",
    "id": "YDK1thSQfyN0"
   },
   "outputs": [],
   "source": [
    "sql = '''\n",
    "SELECT word, word_count, corpus\n",
    "FROM   `bigquery-public-data.samples.shakespeare`\n",
    "LIMIT  10\n",
    "'''\n",
    "query_job = client.query(sql)\n",
    "# E: , location='US')\n",
    "# : OK if client.project = 'myreallybigquery'\n",
    "\n",
    "# print these as above:\n",
    "for row in query_job:  # API request - fetches results\n",
    "    # Now have 3 fields to test\n",
    "    # (Nb. this approach may be overkill for non-production code):\n",
    "    assert row[0] == row.word == row['word']\n",
    "    assert row[1] == row.word_count == row['word_count']\n",
    "    assert row[2] == row.corpus == row['corpus']\n",
    "    print(row['word'], row['word_count'], row['corpus'])"
   ]
  },
  {
   "cell_type": "markdown",
   "metadata": {
    "colab_type": "text",
    "id": "7kjyrCuIfyN1"
   },
   "source": [
    "**NOTE**: Using `assert` regularly is good practice and will make debugging easier, but is probably overkill for non-production code."
   ]
  },
  {
   "cell_type": "markdown",
   "metadata": {
    "colab_type": "text",
    "id": "z287SSYxfyN1"
   },
   "source": [
    "Whenever you catch yourself writing a swag of code to do something that seems rudimentary or low-level, there is a very good chance that you do not need to.\n",
    "\n",
    "A much easier way to handle the above requirement is to use the `to_dataframe()` method of the QueryJob object:"
   ]
  },
  {
   "cell_type": "code",
   "execution_count": null,
   "metadata": {
    "colab": {},
    "colab_type": "code",
    "id": "bp0SozKyfyN2"
   },
   "outputs": [],
   "source": [
    "df = query_job.to_dataframe()\n",
    "print(df)"
   ]
  },
  {
   "cell_type": "markdown",
   "metadata": {
    "colab_type": "text",
    "id": "5LrvjjkGfyN3"
   },
   "source": [
    "Although the above does not use `assert` (which you might still want to include in some test code), you will be able to tell at a glance if something is wrong with the contents of the DataFrame."
   ]
  },
  {
   "cell_type": "markdown",
   "metadata": {
    "colab_type": "text",
    "id": "9Tjk4tcQfyN3"
   },
   "source": [
    "### Final Notes\n",
    "1. Here is a readable way to code long SQL statements\n",
    "\n",
    "```python\n",
    "sql = '''\n",
    "SELECT word, word_count, corpus\n",
    "FROM   `bigquery-public-data.samples.shakespeare`\n",
    "LIMIT 10\n",
    "'''\n",
    "```\n",
    "\n",
    "2. If you had an application that needed to modify the tables or datasets in the `bigquery-public-data` is project, you could copy them to our own project, where you would have the permissions to do as you please with the data (subject to Google's terms of use).\n",
    "3. We are not limited to the datasets that are already in BigQuery. We can upload tables from our computer, and we can pull data in from other online souces. We will cover these tasks in another module."
   ]
  },
  {
   "cell_type": "markdown",
   "metadata": {
    "colab_type": "text",
    "id": "XjubLyDlfyN8"
   },
   "source": [
    "### Next Steps\n",
    "If you wish to pick up a few more skills you can check [Create simple app API](https://cloud.google.com/bigquery/create-simple-app-api). As we have already been through the preliminaries, so you can start at `Download the sample code`.\n",
    "\n",
    "Alternatively, you can take a deeper dive into the API at [BigQuery usage](https://googlecloudplatform.github.io/google-cloud-python/latest/bigquery/usage.html)."
   ]
  }
 ],
 "metadata": {
  "colab": {
   "name": "Lab-02_2_4-Answers.ipynb",
   "provenance": []
  },
  "kernelspec": {
   "display_name": "Python 3",
   "language": "python",
   "name": "python3"
  },
  "language_info": {
   "codemirror_mode": {
    "name": "ipython",
    "version": 3
   },
   "file_extension": ".py",
   "mimetype": "text/x-python",
   "name": "python",
   "nbconvert_exporter": "python",
   "pygments_lexer": "ipython3",
   "version": "3.7.4"
  }
 },
 "nbformat": 4,
 "nbformat_minor": 4
}
