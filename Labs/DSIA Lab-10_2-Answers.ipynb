{
 "cells": [
  {
   "cell_type": "markdown",
   "metadata": {
    "colab_type": "text",
    "id": "Y6tPrz2l1bPl"
   },
   "source": [
    "![image.png](https://i.imgur.com/1WaY7aA.png)\n",
    "\n",
    "---\n",
    "\n",
    "\n",
    "\n",
    "---\n",
    "\n"
   ]
  },
  {
   "cell_type": "markdown",
   "metadata": {
    "colab_type": "text",
    "id": "mQRnnk9C1bPp"
   },
   "source": [
    "#  Data Science and AI\n",
    "## Lab 10.2: CNN with Keras\n",
    "INSTRUCTIONS:\n",
    "- Run the cells\n",
    "- Observe and understand the results\n",
    "- Answer the questions"
   ]
  },
  {
   "cell_type": "markdown",
   "metadata": {
    "colab_type": "text",
    "id": "Yps7GVyL1bPt"
   },
   "source": [
    "## CIFAR10 small image classification\n",
    "- [CIFAR10](https://www.cs.toronto.edu/~kriz/cifar.html) dataset of color training images, labeled over 10 categories.\n",
    "\n",
    "It has the classes:\n",
    "- airplane\n",
    "- automobile\n",
    "- bird\n",
    "- cat\n",
    "- deer\n",
    "- dog\n",
    "- frog\n",
    "- horse\n",
    "- ship\n",
    "- truck"
   ]
  },
  {
   "cell_type": "markdown",
   "metadata": {
    "colab_type": "text",
    "id": "qcPYWsMg1bPw"
   },
   "source": [
    "## Import libraries"
   ]
  },
  {
   "cell_type": "code",
   "execution_count": 1,
   "metadata": {
    "ExecuteTime": {
     "end_time": "2019-07-03T02:01:19.407542Z",
     "start_time": "2019-07-03T02:01:19.400561Z"
    },
    "colab": {},
    "colab_type": "code",
    "id": "GpPrG5zK1bPz"
   },
   "outputs": [],
   "source": [
    "import os\n",
    "os.environ['KMP_DUPLICATE_LIB_OK'] = 'True'"
   ]
  },
  {
   "cell_type": "code",
   "execution_count": 2,
   "metadata": {
    "ExecuteTime": {
     "end_time": "2019-07-03T02:01:22.467360Z",
     "start_time": "2019-07-03T02:01:21.148885Z"
    },
    "colab": {},
    "colab_type": "code",
    "id": "5S9sbQN91bP-"
   },
   "outputs": [],
   "source": [
    "## Import libraries\n",
    "import numpy as np\n",
    "\n",
    "%matplotlib inline\n",
    "import matplotlib.pyplot as plt\n",
    "\n",
    "from sklearn.metrics import confusion_matrix"
   ]
  },
  {
   "cell_type": "code",
   "execution_count": 3,
   "metadata": {
    "ExecuteTime": {
     "end_time": "2019-07-03T02:01:23.750929Z",
     "start_time": "2019-07-03T02:01:23.426797Z"
    },
    "colab": {
     "base_uri": "https://localhost:8080/",
     "height": 35
    },
    "colab_type": "code",
    "executionInfo": {
     "elapsed": 1990,
     "status": "ok",
     "timestamp": 1560987682586,
     "user": {
      "displayName": "Ibrahim Faisal",
      "photoUrl": "https://lh3.googleusercontent.com/-67DMczu7rgM/AAAAAAAAAAI/AAAAAAAAAAc/6f5FCnBgxFs/s64/photo.jpg",
      "userId": "02685917636347920688"
     },
     "user_tz": -600
    },
    "id": "77ODMqcR1bQD",
    "outputId": "ab436d14-fac9-4ffa-bc47-43189fa0935c"
   },
   "outputs": [
    {
     "ename": "ModuleNotFoundError",
     "evalue": "No module named 'keras'",
     "output_type": "error",
     "traceback": [
      "\u001b[1;31m---------------------------------------------------------------------------\u001b[0m",
      "\u001b[1;31mModuleNotFoundError\u001b[0m                       Traceback (most recent call last)",
      "\u001b[1;32m<ipython-input-3-27616f426eb9>\u001b[0m in \u001b[0;36m<module>\u001b[1;34m()\u001b[0m\n\u001b[0;32m      1\u001b[0m \u001b[1;31m# import keras\u001b[0m\u001b[1;33m\u001b[0m\u001b[1;33m\u001b[0m\u001b[0m\n\u001b[1;32m----> 2\u001b[1;33m \u001b[1;32mfrom\u001b[0m \u001b[0mkeras\u001b[0m\u001b[1;33m.\u001b[0m\u001b[0mdatasets\u001b[0m \u001b[1;32mimport\u001b[0m \u001b[0mcifar10\u001b[0m\u001b[1;33m\u001b[0m\u001b[0m\n\u001b[0m\u001b[0;32m      3\u001b[0m \u001b[1;32mfrom\u001b[0m \u001b[0mkeras\u001b[0m\u001b[1;33m.\u001b[0m\u001b[0mlayers\u001b[0m \u001b[1;32mimport\u001b[0m \u001b[0mConv2D\u001b[0m\u001b[1;33m\u001b[0m\u001b[0m\n\u001b[0;32m      4\u001b[0m \u001b[1;32mfrom\u001b[0m \u001b[0mkeras\u001b[0m\u001b[1;33m.\u001b[0m\u001b[0mlayers\u001b[0m \u001b[1;32mimport\u001b[0m \u001b[0mDense\u001b[0m\u001b[1;33m\u001b[0m\u001b[0m\n\u001b[0;32m      5\u001b[0m \u001b[1;32mfrom\u001b[0m \u001b[0mkeras\u001b[0m\u001b[1;33m.\u001b[0m\u001b[0mlayers\u001b[0m \u001b[1;32mimport\u001b[0m \u001b[0mDropout\u001b[0m\u001b[1;33m\u001b[0m\u001b[0m\n",
      "\u001b[1;31mModuleNotFoundError\u001b[0m: No module named 'keras'"
     ]
    }
   ],
   "source": [
    "# import keras\n",
    "from keras.datasets import cifar10\n",
    "from keras.layers import Conv2D\n",
    "from keras.layers import Dense\n",
    "from keras.layers import Dropout\n",
    "from keras.layers import Flatten\n",
    "from keras.layers import MaxPool2D\n",
    "from keras.models import Sequential\n",
    "from keras.utils import to_categorical"
   ]
  },
  {
   "cell_type": "code",
   "execution_count": 0,
   "metadata": {
    "colab": {},
    "colab_type": "code",
    "id": "YAx8PCjE1bQN"
   },
   "outputs": [],
   "source": [
    "from keras.callbacks import TensorBoard"
   ]
  },
  {
   "cell_type": "markdown",
   "metadata": {
    "colab_type": "text",
    "id": "LlBms2Jg1bQS"
   },
   "source": [
    "## Load data"
   ]
  },
  {
   "cell_type": "code",
   "execution_count": 5,
   "metadata": {
    "colab": {
     "base_uri": "https://localhost:8080/",
     "height": 52
    },
    "colab_type": "code",
    "executionInfo": {
     "elapsed": 7649,
     "status": "ok",
     "timestamp": 1560987696107,
     "user": {
      "displayName": "Ibrahim Faisal",
      "photoUrl": "https://lh3.googleusercontent.com/-67DMczu7rgM/AAAAAAAAAAI/AAAAAAAAAAc/6f5FCnBgxFs/s64/photo.jpg",
      "userId": "02685917636347920688"
     },
     "user_tz": -600
    },
    "id": "lR3MCeS31bQU",
    "outputId": "c5ba5d2a-7fcc-4eb4-bdc0-80cf2f3e25e9"
   },
   "outputs": [
    {
     "name": "stdout",
     "output_type": "stream",
     "text": [
      "Downloading data from https://www.cs.toronto.edu/~kriz/cifar-10-python.tar.gz\n",
      "170500096/170498071 [==============================] - 4s 0us/step\n"
     ]
    }
   ],
   "source": [
    "(X_train, t_train), (X_test, t_test) = cifar10.load_data()"
   ]
  },
  {
   "cell_type": "code",
   "execution_count": 0,
   "metadata": {
    "colab": {},
    "colab_type": "code",
    "id": "fWk0UmWe1bQW"
   },
   "outputs": [],
   "source": [
    "classes = (\n",
    "    'plane',\n",
    "    'car',\n",
    "    'bird',\n",
    "    'cat',\n",
    "    'deer',\n",
    "    'dog',\n",
    "    'frog',\n",
    "    'horse',\n",
    "    'ship',\n",
    "    'truck')"
   ]
  },
  {
   "cell_type": "markdown",
   "metadata": {
    "colab_type": "text",
    "id": "C_PFAanM1bQZ"
   },
   "source": [
    "## Check some data"
   ]
  },
  {
   "cell_type": "code",
   "execution_count": 0,
   "metadata": {
    "colab": {},
    "colab_type": "code",
    "id": "guEo1s7J1bQa"
   },
   "outputs": [],
   "source": [
    "def check_one(data, label, id = None, actual = None, compare = False):\n",
    "    # check one\n",
    "    if id is None:\n",
    "        id = np.random.randint(data.shape[0])\n",
    "    im = data[id]\n",
    "    plt.figure(figsize = (3, 3))\n",
    "    plt.imshow(im)\n",
    "    \n",
    "    l_id = label[id]\n",
    "    if (compare) and (actual is not None) and (l_id != np.argmax(actual[id])):\n",
    "        a_id = np.argmax(actual[id])\n",
    "        plt.title('Class %d (%s) [\\u2260 %d-%s]' % (l_id, classes[l_id], a_id, classes[a_id]))\n",
    "    else:\n",
    "        plt.title('Class %d (%s)' % (l_id, classes[l_id]))\n",
    "    plt.xticks([])\n",
    "    plt.yticks([])\n",
    "    plt.show()"
   ]
  },
  {
   "cell_type": "code",
   "execution_count": 0,
   "metadata": {
    "colab": {},
    "colab_type": "code",
    "id": "1Zjxjl191bQd"
   },
   "outputs": [],
   "source": [
    "def check_ten(data, label, actual = None, compare = False):\n",
    "    # check ten\n",
    "    fig, ax = plt.subplots(2, 5, figsize = (11, 5))\n",
    "    fig.subplots_adjust(left = 0.02, right = 0.98, top = 0.8, wspace = 0.2, hspace = 0.2)\n",
    "    fig.suptitle('Check Data', fontsize = 12, fontweight = 'bold')\n",
    "\n",
    "    plt.rcParams.update({'font.size': 10})\n",
    "\n",
    "    ids = np.random.randint(data.shape[0], size = 10)\n",
    "    r = 0\n",
    "    c = 0\n",
    "    for id in ids:\n",
    "        im = data[id]\n",
    "\n",
    "        # original image\n",
    "        ax[r, c].imshow(im)\n",
    "        l_id = label[id]\n",
    "        if (compare) and (actual is not None) and (l_id != np.argmax(actual[id])):\n",
    "            a_id = np.argmax(actual[id])\n",
    "            ax[r, c].set_title('Class %d (%s) [\\u2260 %d-%s]' % (l_id, classes[l_id], a_id, classes[a_id]))\n",
    "        else:\n",
    "            ax[r, c].set_title('Class %d (%s)' % (l_id, classes[l_id]))\n",
    "        ax[r, c].set_xticks([])\n",
    "        ax[r, c].set_yticks([])\n",
    "        c += 1\n",
    "        if c > 4:\n",
    "            r += 1\n",
    "            c = 0\n",
    "\n",
    "    plt.show()"
   ]
  },
  {
   "cell_type": "code",
   "execution_count": 9,
   "metadata": {
    "colab": {
     "base_uri": "https://localhost:8080/",
     "height": 213
    },
    "colab_type": "code",
    "executionInfo": {
     "elapsed": 619,
     "status": "ok",
     "timestamp": 1560987714131,
     "user": {
      "displayName": "Ibrahim Faisal",
      "photoUrl": "https://lh3.googleusercontent.com/-67DMczu7rgM/AAAAAAAAAAI/AAAAAAAAAAc/6f5FCnBgxFs/s64/photo.jpg",
      "userId": "02685917636347920688"
     },
     "user_tz": -600
    },
    "id": "ti-7Y8qQ1bQf",
    "outputId": "24ae7285-085a-4d2a-9b6a-2e53d9fcc7ae",
    "scrolled": true
   },
   "outputs": [
    {
     "data": {
      "image/png": "[encoded data removed]",
      "text/plain": [
       "<Figure size 216x216 with 1 Axes>"
      ]
     },
     "metadata": {
      "tags": []
     },
     "output_type": "display_data"
    }
   ],
   "source": [
    "check_one(X_train, t_train.flatten())"
   ]
  },
  {
   "cell_type": "code",
   "execution_count": 10,
   "metadata": {
    "colab": {
     "base_uri": "https://localhost:8080/",
     "height": 342
    },
    "colab_type": "code",
    "executionInfo": {
     "elapsed": 1172,
     "status": "ok",
     "timestamp": 1560987720259,
     "user": {
      "displayName": "Ibrahim Faisal",
      "photoUrl": "https://lh3.googleusercontent.com/-67DMczu7rgM/AAAAAAAAAAI/AAAAAAAAAAc/6f5FCnBgxFs/s64/photo.jpg",
      "userId": "02685917636347920688"
     },
     "user_tz": -600
    },
    "id": "FL-C_bHe1bQj",
    "outputId": "d730f0e5-5540-4fc5-bc04-9f4cc3644467"
   },
   "outputs": [
    {
     "data": {
      "image/png": "[encoded data removed]",
      "text/plain": [
       "<Figure size 792x360 with 10 Axes>"
      ]
     },
     "metadata": {
      "tags": []
     },
     "output_type": "display_data"
    }
   ],
   "source": [
    "check_ten(X_train, t_train.flatten())"
   ]
  },
  {
   "cell_type": "markdown",
   "metadata": {
    "colab_type": "text",
    "id": "y9XbRj8q1bQp"
   },
   "source": [
    "## Prepare data"
   ]
  },
  {
   "cell_type": "code",
   "execution_count": 0,
   "metadata": {
    "colab": {},
    "colab_type": "code",
    "id": "9vX00-th1bQq"
   },
   "outputs": [],
   "source": [
    "# Prepare input data\n",
    "_, img_rows, img_cols, img_channels = X_train.shape\n",
    "num_classes = len(set(t_train.flatten()))\n",
    "\n",
    "# Convert the target to categorical\n",
    "y_train = to_categorical(\n",
    "    t_train,\n",
    "    num_classes = num_classes,\n",
    "    dtype = 'uint8')\n",
    "y_test = to_categorical(\n",
    "    t_test,\n",
    "    num_classes = num_classes,\n",
    "    dtype = 'uint8')"
   ]
  },
  {
   "cell_type": "markdown",
   "metadata": {
    "colab_type": "text",
    "id": "5dcudMFX1bQt"
   },
   "source": [
    "## Create the model's architecture"
   ]
  },
  {
   "cell_type": "code",
   "execution_count": 12,
   "metadata": {
    "colab": {
     "base_uri": "https://localhost:8080/",
     "height": 90
    },
    "colab_type": "code",
    "executionInfo": {
     "elapsed": 676,
     "status": "ok",
     "timestamp": 1560987735266,
     "user": {
      "displayName": "Ibrahim Faisal",
      "photoUrl": "https://lh3.googleusercontent.com/-67DMczu7rgM/AAAAAAAAAAI/AAAAAAAAAAc/6f5FCnBgxFs/s64/photo.jpg",
      "userId": "02685917636347920688"
     },
     "user_tz": -600
    },
    "id": "MFjWrBw51bQt",
    "outputId": "bded4dc2-5245-4487-b49c-c74c053b7c1e"
   },
   "outputs": [
    {
     "name": "stderr",
     "output_type": "stream",
     "text": [
      "WARNING: Logging before flag parsing goes to stderr.\n",
      "W0619 23:42:17.465599 139965525411712 deprecation_wrapper.py:119] From /usr/local/lib/python3.6/dist-packages/keras/backend/tensorflow_backend.py:74: The name tf.get_default_graph is deprecated. Please use tf.compat.v1.get_default_graph instead.\n",
      "\n"
     ]
    }
   ],
   "source": [
    "model = Sequential()"
   ]
  },
  {
   "cell_type": "code",
   "execution_count": 13,
   "metadata": {
    "colab": {
     "base_uri": "https://localhost:8080/",
     "height": 232
    },
    "colab_type": "code",
    "executionInfo": {
     "elapsed": 1037,
     "status": "ok",
     "timestamp": 1560987746400,
     "user": {
      "displayName": "Ibrahim Faisal",
      "photoUrl": "https://lh3.googleusercontent.com/-67DMczu7rgM/AAAAAAAAAAI/AAAAAAAAAAc/6f5FCnBgxFs/s64/photo.jpg",
      "userId": "02685917636347920688"
     },
     "user_tz": -600
    },
    "id": "c_Aludvq1bQv",
    "outputId": "7723ed3f-eaac-4b33-91d7-8def5328aee5"
   },
   "outputs": [
    {
     "name": "stderr",
     "output_type": "stream",
     "text": [
      "W0619 23:42:28.264440 139965525411712 deprecation_wrapper.py:119] From /usr/local/lib/python3.6/dist-packages/keras/backend/tensorflow_backend.py:517: The name tf.placeholder is deprecated. Please use tf.compat.v1.placeholder instead.\n",
      "\n",
      "W0619 23:42:28.282104 139965525411712 deprecation_wrapper.py:119] From /usr/local/lib/python3.6/dist-packages/keras/backend/tensorflow_backend.py:4138: The name tf.random_uniform is deprecated. Please use tf.random.uniform instead.\n",
      "\n",
      "W0619 23:42:28.335714 139965525411712 deprecation_wrapper.py:119] From /usr/local/lib/python3.6/dist-packages/keras/backend/tensorflow_backend.py:3976: The name tf.nn.max_pool is deprecated. Please use tf.nn.max_pool2d instead.\n",
      "\n",
      "W0619 23:42:28.342012 139965525411712 deprecation_wrapper.py:119] From /usr/local/lib/python3.6/dist-packages/keras/backend/tensorflow_backend.py:133: The name tf.placeholder_with_default is deprecated. Please use tf.compat.v1.placeholder_with_default instead.\n",
      "\n",
      "W0619 23:42:28.354710 139965525411712 deprecation.py:506] From /usr/local/lib/python3.6/dist-packages/keras/backend/tensorflow_backend.py:3445: calling dropout (from tensorflow.python.ops.nn_ops) with keep_prob is deprecated and will be removed in a future version.\n",
      "Instructions for updating:\n",
      "Please use `rate` instead of `keep_prob`. Rate should be set to `rate = 1 - keep_prob`.\n"
     ]
    }
   ],
   "source": [
    "model.add(Conv2D(48, kernel_size = 3, activation = 'relu', padding = 'same', input_shape = (32, 32, 3)))\n",
    "model.add(Conv2D(48, kernel_size = 3, activation = 'relu'))\n",
    "model.add(MaxPool2D(pool_size = (2, 2)))\n",
    "model.add(Dropout(0.25))\n",
    "model.add(Conv2D(96, kernel_size = 3, activation = 'relu', padding = 'same'))\n",
    "model.add(Conv2D(96, kernel_size = 3, activation = 'relu'))\n",
    "model.add(MaxPool2D(pool_size = (2, 2)))\n",
    "model.add(Dropout(0.25))\n",
    "model.add(Conv2D(192, kernel_size = 3, activation = 'relu', padding = 'same'))\n",
    "model.add(Conv2D(192, kernel_size = 3, activation = 'relu'))\n",
    "model.add(MaxPool2D(pool_size = (2, 2)))\n",
    "model.add(Dropout(0.25))\n",
    "model.add(Flatten())\n",
    "model.add(Dense(512, activation = 'relu'))\n",
    "model.add(Dropout(0.5))\n",
    "model.add(Dense(256, activation = 'relu'))\n",
    "model.add(Dropout(0.5))\n",
    "model.add(Dense(num_classes, activation = 'softmax'))"
   ]
  },
  {
   "cell_type": "code",
   "execution_count": 14,
   "metadata": {
    "colab": {
     "base_uri": "https://localhost:8080/",
     "height": 799
    },
    "colab_type": "code",
    "executionInfo": {
     "elapsed": 595,
     "status": "ok",
     "timestamp": 1560987751487,
     "user": {
      "displayName": "Ibrahim Faisal",
      "photoUrl": "https://lh3.googleusercontent.com/-67DMczu7rgM/AAAAAAAAAAI/AAAAAAAAAAc/6f5FCnBgxFs/s64/photo.jpg",
      "userId": "02685917636347920688"
     },
     "user_tz": -600
    },
    "id": "PZjKgQWB1bQw",
    "outputId": "785d1d5f-aabe-4300-a3f9-7b9c5ed38b18"
   },
   "outputs": [
    {
     "name": "stdout",
     "output_type": "stream",
     "text": [
      "_________________________________________________________________\n",
      "Layer (type)                 Output Shape              Param #   \n",
      "=================================================================\n",
      "conv2d_1 (Conv2D)            (None, 32, 32, 48)        1344      \n",
      "_________________________________________________________________\n",
      "conv2d_2 (Conv2D)            (None, 30, 30, 48)        20784     \n",
      "_________________________________________________________________\n",
      "max_pooling2d_1 (MaxPooling2 (None, 15, 15, 48)        0         \n",
      "_________________________________________________________________\n",
      "dropout_1 (Dropout)          (None, 15, 15, 48)        0         \n",
      "_________________________________________________________________\n",
      "conv2d_3 (Conv2D)            (None, 15, 15, 96)        41568     \n",
      "_________________________________________________________________\n",
      "conv2d_4 (Conv2D)            (None, 13, 13, 96)        83040     \n",
      "_________________________________________________________________\n",
      "max_pooling2d_2 (MaxPooling2 (None, 6, 6, 96)          0         \n",
      "_________________________________________________________________\n",
      "dropout_2 (Dropout)          (None, 6, 6, 96)          0         \n",
      "_________________________________________________________________\n",
      "conv2d_5 (Conv2D)            (None, 6, 6, 192)         166080    \n",
      "_________________________________________________________________\n",
      "conv2d_6 (Conv2D)            (None, 4, 4, 192)         331968    \n",
      "_________________________________________________________________\n",
      "max_pooling2d_3 (MaxPooling2 (None, 2, 2, 192)         0         \n",
      "_________________________________________________________________\n",
      "dropout_3 (Dropout)          (None, 2, 2, 192)         0         \n",
      "_________________________________________________________________\n",
      "flatten_1 (Flatten)          (None, 768)               0         \n",
      "_________________________________________________________________\n",
      "dense_1 (Dense)              (None, 512)               393728    \n",
      "_________________________________________________________________\n",
      "dropout_4 (Dropout)          (None, 512)               0         \n",
      "_________________________________________________________________\n",
      "dense_2 (Dense)              (None, 256)               131328    \n",
      "_________________________________________________________________\n",
      "dropout_5 (Dropout)          (None, 256)               0         \n",
      "_________________________________________________________________\n",
      "dense_3 (Dense)              (None, 10)                2570      \n",
      "=================================================================\n",
      "Total params: 1,172,410\n",
      "Trainable params: 1,172,410\n",
      "Non-trainable params: 0\n",
      "_________________________________________________________________\n",
      "None\n"
     ]
    }
   ],
   "source": [
    "print(model.summary())"
   ]
  },
  {
   "cell_type": "markdown",
   "metadata": {
    "colab_type": "text",
    "id": "NCdw_Q-u1bQy"
   },
   "source": [
    "## Compile the model"
   ]
  },
  {
   "cell_type": "code",
   "execution_count": 15,
   "metadata": {
    "colab": {
     "base_uri": "https://localhost:8080/",
     "height": 108
    },
    "colab_type": "code",
    "executionInfo": {
     "elapsed": 660,
     "status": "ok",
     "timestamp": 1560987756760,
     "user": {
      "displayName": "Ibrahim Faisal",
      "photoUrl": "https://lh3.googleusercontent.com/-67DMczu7rgM/AAAAAAAAAAI/AAAAAAAAAAc/6f5FCnBgxFs/s64/photo.jpg",
      "userId": "02685917636347920688"
     },
     "user_tz": -600
    },
    "id": "nWWhTpV-1bQz",
    "outputId": "6028e38f-ca27-460c-c3e0-47ebe00f201c"
   },
   "outputs": [
    {
     "name": "stderr",
     "output_type": "stream",
     "text": [
      "W0619 23:42:38.969445 139965525411712 deprecation_wrapper.py:119] From /usr/local/lib/python3.6/dist-packages/keras/optimizers.py:790: The name tf.train.Optimizer is deprecated. Please use tf.compat.v1.train.Optimizer instead.\n",
      "\n",
      "W0619 23:42:39.004989 139965525411712 deprecation_wrapper.py:119] From /usr/local/lib/python3.6/dist-packages/keras/backend/tensorflow_backend.py:3295: The name tf.log is deprecated. Please use tf.math.log instead.\n",
      "\n"
     ]
    }
   ],
   "source": [
    "model.compile(optimizer = 'adam', \n",
    "              loss = 'categorical_crossentropy', \n",
    "              metrics = ['accuracy'])"
   ]
  },
  {
   "cell_type": "markdown",
   "metadata": {
    "colab_type": "text",
    "id": "ge49arwc1bQ0"
   },
   "source": [
    "## Fit the training data"
   ]
  },
  {
   "cell_type": "code",
   "execution_count": 0,
   "metadata": {
    "colab": {},
    "colab_type": "code",
    "id": "JItxfAW41bQ0"
   },
   "outputs": [],
   "source": [
    "tensorboard = TensorBoard(log_dir = 'logs')"
   ]
  },
  {
   "cell_type": "code",
   "execution_count": 0,
   "metadata": {
    "colab": {
     "base_uri": "https://localhost:8080/",
     "height": 2419
    },
    "colab_type": "code",
    "id": "jo0dz6yl1bQ2",
    "outputId": "eb6bbcaf-b348-4c00-b15d-962300be6b90"
   },
   "outputs": [
    {
     "name": "stderr",
     "output_type": "stream",
     "text": [
      "W0619 23:42:48.053726 139965525411712 deprecation.py:323] From /usr/local/lib/python3.6/dist-packages/tensorflow/python/ops/math_grad.py:1250: add_dispatch_support.<locals>.wrapper (from tensorflow.python.ops.array_ops) is deprecated and will be removed in a future version.\n",
      "Instructions for updating:\n",
      "Use tf.where in 2.0, which has the same broadcast rule as np.where\n"
     ]
    },
    {
     "name": "stdout",
     "output_type": "stream",
     "text": [
      "Train on 40000 samples, validate on 10000 samples\n"
     ]
    },
    {
     "name": "stderr",
     "output_type": "stream",
     "text": [
      "W0619 23:42:49.424210 139965525411712 deprecation_wrapper.py:119] From /usr/local/lib/python3.6/dist-packages/keras/callbacks.py:850: The name tf.summary.merge_all is deprecated. Please use tf.compat.v1.summary.merge_all instead.\n",
      "\n",
      "W0619 23:42:49.425598 139965525411712 deprecation_wrapper.py:119] From /usr/local/lib/python3.6/dist-packages/keras/callbacks.py:853: The name tf.summary.FileWriter is deprecated. Please use tf.compat.v1.summary.FileWriter instead.\n",
      "\n"
     ]
    },
    {
     "name": "stdout",
     "output_type": "stream",
     "text": [
      "Epoch 1/100\n",
      "40000/40000 [==============================] - 413s 10ms/step - loss: 14.5046 - acc: 0.0999 - val_loss: 14.4805 - val_acc: 0.1016\n",
      "Epoch 2/100\n",
      "40000/40000 [==============================] - 416s 10ms/step - loss: 14.5139 - acc: 0.0995 - val_loss: 14.4805 - val_acc: 0.1016\n",
      "Epoch 3/100\n",
      "40000/40000 [==============================] - 418s 10ms/step - loss: 14.5135 - acc: 0.0995 - val_loss: 14.4805 - val_acc: 0.1016\n",
      "Epoch 4/100\n",
      "40000/40000 [==============================] - 417s 10ms/step - loss: 14.5135 - acc: 0.0995 - val_loss: 14.4805 - val_acc: 0.1016\n",
      "Epoch 5/100\n",
      "40000/40000 [==============================] - 415s 10ms/step - loss: 14.5123 - acc: 0.0996 - val_loss: 14.4805 - val_acc: 0.1016\n",
      "Epoch 6/100\n",
      "40000/40000 [==============================] - 415s 10ms/step - loss: 14.5123 - acc: 0.0996 - val_loss: 14.4805 - val_acc: 0.1016\n",
      "Epoch 7/100\n",
      "40000/40000 [==============================] - 415s 10ms/step - loss: 14.5115 - acc: 0.0997 - val_loss: 14.4805 - val_acc: 0.1016\n",
      "Epoch 8/100\n",
      "40000/40000 [==============================] - 405s 10ms/step - loss: 14.5123 - acc: 0.0996 - val_loss: 14.4805 - val_acc: 0.1016\n",
      "Epoch 9/100\n",
      "40000/40000 [==============================] - 399s 10ms/step - loss: 14.5127 - acc: 0.0996 - val_loss: 14.4805 - val_acc: 0.1016\n",
      "Epoch 10/100\n",
      "40000/40000 [==============================] - 412s 10ms/step - loss: 14.5131 - acc: 0.0996 - val_loss: 14.4805 - val_acc: 0.1016\n",
      "Epoch 11/100\n",
      "40000/40000 [==============================] - 409s 10ms/step - loss: 14.5131 - acc: 0.0996 - val_loss: 14.4805 - val_acc: 0.1016\n",
      "Epoch 12/100\n",
      "40000/40000 [==============================] - 385s 10ms/step - loss: 14.5127 - acc: 0.0996 - val_loss: 14.4805 - val_acc: 0.1016\n",
      "Epoch 13/100\n",
      "40000/40000 [==============================] - 363s 9ms/step - loss: 14.5127 - acc: 0.0996 - val_loss: 14.4805 - val_acc: 0.1016\n",
      "Epoch 14/100\n",
      "40000/40000 [==============================] - 375s 9ms/step - loss: 14.5131 - acc: 0.0996 - val_loss: 14.4805 - val_acc: 0.1016\n",
      "Epoch 15/100\n",
      "40000/40000 [==============================] - 354s 9ms/step - loss: 14.5127 - acc: 0.0996 - val_loss: 14.4805 - val_acc: 0.1016\n",
      "Epoch 16/100\n",
      "40000/40000 [==============================] - 359s 9ms/step - loss: 14.5139 - acc: 0.0995 - val_loss: 14.4805 - val_acc: 0.1016\n",
      "Epoch 17/100\n",
      "40000/40000 [==============================] - 403s 10ms/step - loss: 14.5139 - acc: 0.0995 - val_loss: 14.4805 - val_acc: 0.1016\n",
      "Epoch 18/100\n",
      "40000/40000 [==============================] - 400s 10ms/step - loss: 14.5123 - acc: 0.0996 - val_loss: 14.4805 - val_acc: 0.1016\n",
      "Epoch 19/100\n",
      "40000/40000 [==============================] - 357s 9ms/step - loss: 14.5139 - acc: 0.0995 - val_loss: 14.4805 - val_acc: 0.1016\n",
      "Epoch 20/100\n",
      "40000/40000 [==============================] - 349s 9ms/step - loss: 14.5119 - acc: 0.0996 - val_loss: 14.4805 - val_acc: 0.1016\n",
      "Epoch 21/100\n",
      "40000/40000 [==============================] - 337s 8ms/step - loss: 14.5135 - acc: 0.0995 - val_loss: 14.4805 - val_acc: 0.1016\n",
      "Epoch 22/100\n",
      "40000/40000 [==============================] - 342s 9ms/step - loss: 14.5123 - acc: 0.0996 - val_loss: 14.4805 - val_acc: 0.1016\n",
      "Epoch 23/100\n",
      "40000/40000 [==============================] - 384s 10ms/step - loss: 14.5131 - acc: 0.0996 - val_loss: 14.4805 - val_acc: 0.1016\n",
      "Epoch 24/100\n",
      "40000/40000 [==============================] - 399s 10ms/step - loss: 14.5135 - acc: 0.0996 - val_loss: 14.4805 - val_acc: 0.1016\n",
      "Epoch 25/100\n",
      "40000/40000 [==============================] - 405s 10ms/step - loss: 14.5119 - acc: 0.0996 - val_loss: 14.4805 - val_acc: 0.1016\n",
      "Epoch 26/100\n",
      "40000/40000 [==============================] - 414s 10ms/step - loss: 14.5119 - acc: 0.0996 - val_loss: 14.4805 - val_acc: 0.1016\n",
      "Epoch 27/100\n",
      "40000/40000 [==============================] - 393s 10ms/step - loss: 14.5127 - acc: 0.0996 - val_loss: 14.4805 - val_acc: 0.1016\n",
      "Epoch 28/100\n",
      "40000/40000 [==============================] - 357s 9ms/step - loss: 14.5123 - acc: 0.0996 - val_loss: 14.4805 - val_acc: 0.1016\n",
      "Epoch 29/100\n",
      "40000/40000 [==============================] - 358s 9ms/step - loss: 14.5123 - acc: 0.0996 - val_loss: 14.4805 - val_acc: 0.1016\n",
      "Epoch 30/100\n",
      "40000/40000 [==============================] - 343s 9ms/step - loss: 14.5131 - acc: 0.0996 - val_loss: 14.4805 - val_acc: 0.1016\n",
      "Epoch 31/100\n",
      "40000/40000 [==============================] - 348s 9ms/step - loss: 14.5123 - acc: 0.0996 - val_loss: 14.4805 - val_acc: 0.1016\n",
      "Epoch 32/100\n",
      "40000/40000 [==============================] - 352s 9ms/step - loss: 14.5123 - acc: 0.0996 - val_loss: 14.4805 - val_acc: 0.1016\n",
      "Epoch 33/100\n",
      "40000/40000 [==============================] - 407s 10ms/step - loss: 14.5139 - acc: 0.0995 - val_loss: 14.4805 - val_acc: 0.1016\n",
      "Epoch 34/100\n",
      "40000/40000 [==============================] - 400s 10ms/step - loss: 14.5131 - acc: 0.0996 - val_loss: 14.4805 - val_acc: 0.1016\n",
      "Epoch 35/100\n",
      "40000/40000 [==============================] - 382s 10ms/step - loss: 14.5131 - acc: 0.0996 - val_loss: 14.4805 - val_acc: 0.1016\n",
      "Epoch 36/100\n",
      "40000/40000 [==============================] - 350s 9ms/step - loss: 14.5123 - acc: 0.0996 - val_loss: 14.4805 - val_acc: 0.1016\n",
      "Epoch 37/100\n",
      "40000/40000 [==============================] - 396s 10ms/step - loss: 14.5115 - acc: 0.0997 - val_loss: 14.4805 - val_acc: 0.1016\n",
      "Epoch 38/100\n",
      "40000/40000 [==============================] - 390s 10ms/step - loss: 14.5127 - acc: 0.0996 - val_loss: 14.4805 - val_acc: 0.1016\n",
      "Epoch 39/100\n",
      "40000/40000 [==============================] - 383s 10ms/step - loss: 14.5119 - acc: 0.0996 - val_loss: 14.4805 - val_acc: 0.1016\n",
      "Epoch 40/100\n",
      "40000/40000 [==============================] - 379s 9ms/step - loss: 14.5131 - acc: 0.0996 - val_loss: 14.4805 - val_acc: 0.1016\n",
      "Epoch 41/100\n",
      "40000/40000 [==============================] - 404s 10ms/step - loss: 14.5123 - acc: 0.0996 - val_loss: 14.4805 - val_acc: 0.1016\n",
      "Epoch 42/100\n",
      "40000/40000 [==============================] - 397s 10ms/step - loss: 14.5127 - acc: 0.0996 - val_loss: 14.4805 - val_acc: 0.1016\n",
      "Epoch 43/100\n",
      "40000/40000 [==============================] - 396s 10ms/step - loss: 14.5123 - acc: 0.0996 - val_loss: 14.4805 - val_acc: 0.1016\n",
      "Epoch 44/100\n",
      "40000/40000 [==============================] - 412s 10ms/step - loss: 14.5123 - acc: 0.0996 - val_loss: 14.4805 - val_acc: 0.1016\n",
      "Epoch 45/100\n",
      "40000/40000 [==============================] - 407s 10ms/step - loss: 14.5127 - acc: 0.0996 - val_loss: 14.4805 - val_acc: 0.1016\n",
      "Epoch 46/100\n",
      "40000/40000 [==============================] - 406s 10ms/step - loss: 14.5119 - acc: 0.0996 - val_loss: 14.4805 - val_acc: 0.1016\n",
      "Epoch 47/100\n",
      "40000/40000 [==============================] - 399s 10ms/step - loss: 14.5127 - acc: 0.0996 - val_loss: 14.4805 - val_acc: 0.1016\n",
      "Epoch 48/100\n",
      "40000/40000 [==============================] - 384s 10ms/step - loss: 14.5123 - acc: 0.0996 - val_loss: 14.4805 - val_acc: 0.1016\n",
      "Epoch 49/100\n",
      "40000/40000 [==============================] - 372s 9ms/step - loss: 14.5127 - acc: 0.0996 - val_loss: 14.4805 - val_acc: 0.1016\n",
      "Epoch 50/100\n",
      "40000/40000 [==============================] - 373s 9ms/step - loss: 14.5135 - acc: 0.0996 - val_loss: 14.4805 - val_acc: 0.1016\n",
      "Epoch 51/100\n",
      "40000/40000 [==============================] - 372s 9ms/step - loss: 14.5123 - acc: 0.0996 - val_loss: 14.4805 - val_acc: 0.1016\n",
      "Epoch 52/100\n",
      "40000/40000 [==============================] - 369s 9ms/step - loss: 14.5123 - acc: 0.0996 - val_loss: 14.4805 - val_acc: 0.1016\n",
      "Epoch 53/100\n",
      "40000/40000 [==============================] - 393s 10ms/step - loss: 14.5111 - acc: 0.0997 - val_loss: 14.4805 - val_acc: 0.1016\n",
      "Epoch 54/100\n",
      "40000/40000 [==============================] - 386s 10ms/step - loss: 14.5123 - acc: 0.0996 - val_loss: 14.4805 - val_acc: 0.1016\n",
      "Epoch 55/100\n",
      "40000/40000 [==============================] - 365s 9ms/step - loss: 14.5127 - acc: 0.0996 - val_loss: 14.4805 - val_acc: 0.1016\n",
      "Epoch 56/100\n",
      "40000/40000 [==============================] - 348s 9ms/step - loss: 14.5135 - acc: 0.0995 - val_loss: 14.4805 - val_acc: 0.1016\n",
      "Epoch 57/100\n",
      "40000/40000 [==============================] - 643s 16ms/step - loss: 14.5135 - acc: 0.0996 - val_loss: 14.4805 - val_acc: 0.1016\n",
      "Epoch 58/100\n",
      "40000/40000 [==============================] - 696s 17ms/step - loss: 14.5127 - acc: 0.0996 - val_loss: 14.4805 - val_acc: 0.1016\n",
      "Epoch 59/100\n",
      "40000/40000 [==============================] - 756s 19ms/step - loss: 14.5111 - acc: 0.0997 - val_loss: 14.4805 - val_acc: 0.1016\n",
      "Epoch 60/100\n",
      "40000/40000 [==============================] - 788s 20ms/step - loss: 14.5119 - acc: 0.0997 - val_loss: 14.4805 - val_acc: 0.1016\n",
      "Epoch 61/100\n",
      "40000/40000 [==============================] - 822s 21ms/step - loss: 14.5119 - acc: 0.0996 - val_loss: 14.4805 - val_acc: 0.1016\n",
      "Epoch 62/100\n",
      "40000/40000 [==============================] - 820s 20ms/step - loss: 14.5115 - acc: 0.0997 - val_loss: 14.4805 - val_acc: 0.1016\n",
      "Epoch 63/100\n",
      " 1200/40000 [..............................] - ETA: 12:52 - loss: 14.6272 - acc: 0.0925"
     ]
    }
   ],
   "source": [
    "%%time\n",
    "# Fit the model on a training set\n",
    "history = model.fit(\n",
    "    X_train,\n",
    "    y_train,\n",
    "    validation_split = 0.2,\n",
    "    epochs = 100,\n",
    "    batch_size = 100,\n",
    "    callbacks = [tensorboard],\n",
    "    verbose = 1)\n",
    "print()"
   ]
  },
  {
   "cell_type": "markdown",
   "metadata": {
    "colab_type": "text",
    "id": "8KG38xyX1bQ5"
   },
   "source": [
    "## Create predictions"
   ]
  },
  {
   "cell_type": "code",
   "execution_count": 0,
   "metadata": {
    "colab": {},
    "colab_type": "code",
    "id": "8YI7eX3p1bQ5",
    "outputId": "6db5ddb5-c21e-41e8-c66d-9fa2fb19b23a"
   },
   "outputs": [
    {
     "name": "stdout",
     "output_type": "stream",
     "text": [
      "CPU times: user 56.6 s, sys: 994 ms, total: 57.6 s\n",
      "Wall time: 55.6 s\n"
     ]
    }
   ],
   "source": [
    "%%time\n",
    "predictions = model.predict_classes(X_test)"
   ]
  },
  {
   "cell_type": "markdown",
   "metadata": {
    "colab_type": "text",
    "id": "1egv2u_U1bQ8"
   },
   "source": [
    "## Evaluate the model"
   ]
  },
  {
   "cell_type": "code",
   "execution_count": 0,
   "metadata": {
    "colab": {},
    "colab_type": "code",
    "id": "w_oqdtU71bQ9",
    "outputId": "95efae62-ed74-42fc-abc8-d1860924fee2"
   },
   "outputs": [
    {
     "name": "stdout",
     "output_type": "stream",
     "text": [
      "10000/10000 [==============================] - 59s 6ms/step\n",
      "\n",
      "Test loss: 0.758106, Test accuracy: 0.770800\n"
     ]
    }
   ],
   "source": [
    "score = model.evaluate(X_test, y_test, batch_size = 10)\n",
    "print('\\nTest loss: %.6f, Test accuracy: %.6f' % tuple(score))"
   ]
  },
  {
   "cell_type": "code",
   "execution_count": 0,
   "metadata": {
    "colab": {},
    "colab_type": "code",
    "id": "RvlNsjVq1bRA"
   },
   "outputs": [],
   "source": [
    "def print_cm(cm):\n",
    "    d_size = max(len('%d' % cm.max()), len('%d' % cm.shape[1]))\n",
    "    if min(cm.shape) > 10: # make sparse\n",
    "        print('Sparse Matrix (*=diagonal)')\n",
    "        fmt_c = ', c%%0%dd%%s= %%%dd' % (d_size, d_size)\n",
    "        for i in range(cm.shape[0]):\n",
    "            s = fmt_r % i\n",
    "            for j in range(cm.shape[1]):\n",
    "                if cm[i, j] > 0:\n",
    "                    s += fmt_c % (j, '*' if i == j else ' ', cm[i, j])\n",
    "            print(s)\n",
    "    else: # make dense\n",
    "        c = '%%%dd ' % d_size\n",
    "        s = '%s| ' % (' ' * d_size)\n",
    "        s += ''.join([c % i for i in range(len(cm[0]))])\n",
    "        print(s)\n",
    "        print('-' * len(s))\n",
    "        for i, r in enumerate(cm):\n",
    "            s = '%%%dd| ' % d_size\n",
    "            s = s % i\n",
    "            s += c * len(r)\n",
    "            print(s % tuple(r))"
   ]
  },
  {
   "cell_type": "code",
   "execution_count": 0,
   "metadata": {
    "colab": {},
    "colab_type": "code",
    "id": "5iwaSIWU1bRC",
    "outputId": "ce20c1b5-32ab-4068-ece4-c1ba94eac301"
   },
   "outputs": [
    {
     "name": "stdout",
     "output_type": "stream",
     "text": [
      "   |   0   1   2   3   4   5   6   7   8   9 \n",
      "---------------------------------------------\n",
      "  0| 759  18  43  23  15   4   7   7  99  25 \n",
      "  1|   8 907   1   3   3   3   6   1  19  49 \n",
      "  2|  54   2 658  76  58  53  76   8   8   7 \n",
      "  3|  18   8  44 610  52 118 103  17  14  16 \n",
      "  4|  17   3  46  72 726  28  59  35  10   4 \n",
      "  5|  10   2  41 186  31 655  31  29   6   9 \n",
      "  6|   6   5  23  54  16  13 868   3   9   3 \n",
      "  7|  12   1  19  59  53  37  22 778   3  16 \n",
      "  8|  37  25   9   8   3   4   6   1 889  18 \n",
      "  9|  22  52   4  14   3   2   7   3  35 858 \n"
     ]
    }
   ],
   "source": [
    "y_test_target = np.array([x.argmax() for x in y_test])\n",
    "cm = confusion_matrix(y_test_target, predictions)\n",
    "print_cm(cm)"
   ]
  },
  {
   "cell_type": "markdown",
   "metadata": {
    "colab_type": "text",
    "id": "EOLcCeBw1bRG"
   },
   "source": [
    "## Visualisation of cost"
   ]
  },
  {
   "cell_type": "code",
   "execution_count": 0,
   "metadata": {
    "colab": {},
    "colab_type": "code",
    "id": "KhaRPMYs1bRH",
    "outputId": "ab9d8f34-600b-490f-f118-eaed5e5c7347"
   },
   "outputs": [
    {
     "data": {
      "image/png": "[encoded data removed]",
      "text/plain": [
       "<Figure size 1296x432 with 2 Axes>"
      ]
     },
     "metadata": {
      "needs_background": "light",
      "tags": []
     },
     "output_type": "display_data"
    }
   ],
   "source": [
    "fig, ax = plt.subplots(1, 2, figsize = (18, 6))\n",
    "fig.subplots_adjust(left = 0.02, right = 0.98, wspace = 0.2)\n",
    "\n",
    "plt.rcParams.update({'font.size': 18})\n",
    "\n",
    "# Plot training & validation accuracy values\n",
    "ax[0].plot(model.history.history['acc'])\n",
    "ax[0].plot(model.history.history['val_acc'])\n",
    "ax[0].set_title('Model accuracy')\n",
    "ax[0].set_ylabel('Accuracy')\n",
    "ax[0].set_xlabel('Epoch')\n",
    "ax[0].legend(['Train', 'Validation'])\n",
    "\n",
    "# Plot training & validation loss values\n",
    "ax[1].plot(model.history.history['loss'])\n",
    "ax[1].plot(model.history.history['val_loss'])\n",
    "ax[1].set_title('Model loss')\n",
    "ax[1].set_ylabel('Loss')\n",
    "ax[1].set_xlabel('Epoch')\n",
    "ax[1].legend(['Train', 'Validation'])\n",
    "\n",
    "plt.show()"
   ]
  },
  {
   "cell_type": "markdown",
   "metadata": {
    "colab_type": "text",
    "id": "Xlkz-ZJp1bRK"
   },
   "source": [
    "## Results"
   ]
  },
  {
   "cell_type": "code",
   "execution_count": 0,
   "metadata": {
    "colab": {},
    "colab_type": "code",
    "id": "zWKRfdUc1bRL",
    "outputId": "4d6022f0-df5b-4fe8-d48a-e10abeb185f3"
   },
   "outputs": [
    {
     "data": {
      "image/png": "[encoded data removed]",
      "text/plain": [
       "<Figure size 216x216 with 1 Axes>"
      ]
     },
     "metadata": {
      "tags": []
     },
     "output_type": "display_data"
    }
   ],
   "source": [
    "check_one(X_test, predictions, actual = y_test, compare = True)"
   ]
  },
  {
   "cell_type": "code",
   "execution_count": 0,
   "metadata": {
    "colab": {},
    "colab_type": "code",
    "id": "YAwXcw5w1bRN",
    "outputId": "782164b5-35a5-4652-e63b-e961c7ac7223",
    "scrolled": true
   },
   "outputs": [
    {
     "data": {
      "image/png": "[encoded data removed]",
      "text/plain": [
       "<Figure size 792x360 with 10 Axes>"
      ]
     },
     "metadata": {
      "tags": []
     },
     "output_type": "display_data"
    }
   ],
   "source": [
    "check_ten(X_test, predictions, y_test, True)"
   ]
  },
  {
   "cell_type": "markdown",
   "metadata": {
    "colab_type": "text",
    "id": "CPSzR_EK1bRP"
   },
   "source": [
    "## Save and Load models and weights"
   ]
  },
  {
   "cell_type": "markdown",
   "metadata": {
    "colab_type": "text",
    "id": "qiCAcoSP1bRP"
   },
   "source": [
    "### Save"
   ]
  },
  {
   "cell_type": "code",
   "execution_count": 0,
   "metadata": {
    "colab": {},
    "colab_type": "code",
    "id": "whyMS--E1bRQ"
   },
   "outputs": [],
   "source": [
    "# save model\n",
    "model_json = model.to_json()\n",
    "with open('../data/model.json', 'w') as json_file:\n",
    "    json_file.write(model_json)\n",
    "# save weigths\n",
    "model.save_weights('../data/model.h5')"
   ]
  },
  {
   "cell_type": "markdown",
   "metadata": {
    "colab_type": "text",
    "id": "MUIDVjNw1bRR"
   },
   "source": [
    "### Load"
   ]
  },
  {
   "cell_type": "code",
   "execution_count": 0,
   "metadata": {
    "colab": {},
    "colab_type": "code",
    "id": "pPu3VlFa1bRR"
   },
   "outputs": [],
   "source": [
    "# import the module to convert a json file to a model\n",
    "from keras.models import model_from_json"
   ]
  },
  {
   "cell_type": "code",
   "execution_count": 0,
   "metadata": {
    "colab": {},
    "colab_type": "code",
    "id": "8WnNlZuW1bRT"
   },
   "outputs": [],
   "source": [
    "# create a new model\n",
    "new_model = Sequential()"
   ]
  },
  {
   "cell_type": "code",
   "execution_count": 0,
   "metadata": {
    "colab": {},
    "colab_type": "code",
    "id": "rhyNZU-g1bRU"
   },
   "outputs": [],
   "source": [
    "# load model\n",
    "with open('../data/model.json', 'r') as json_file:\n",
    "    model_json = json_file.read()\n",
    "new_model = model_from_json(model_json)\n",
    "\n",
    "# load weights\n",
    "new_model.load_weights('../data/model.h5')"
   ]
  },
  {
   "cell_type": "code",
   "execution_count": 0,
   "metadata": {
    "colab": {},
    "colab_type": "code",
    "id": "7nb5kpsL1bRV"
   },
   "outputs": [],
   "source": [
    "# compile the new model\n",
    "new_model.compile(optimizer = 'adam', \n",
    "                  loss = 'categorical_crossentropy', \n",
    "                  metrics = ['accuracy'])"
   ]
  },
  {
   "cell_type": "markdown",
   "metadata": {
    "colab_type": "text",
    "id": "zSGuapu31bRW"
   },
   "source": [
    "**NOTE**: NO need to fit the new model as the weigths are already set!\n",
    "\n",
    "Use the new model to\n",
    "- Predict\n",
    "- Evaluate\n",
    "- Chart"
   ]
  },
  {
   "cell_type": "markdown",
   "metadata": {
    "colab_type": "text",
    "id": "IS5Tc4z9FoYy"
   },
   "source": [
    ">"
   ]
  },
  {
   "cell_type": "markdown",
   "metadata": {
    "colab_type": "text",
    "id": "mxI2We9OFpfs"
   },
   "source": [
    ">"
   ]
  },
  {
   "cell_type": "markdown",
   "metadata": {
    "colab_type": "text",
    "id": "81DoNxN1FqGN"
   },
   "source": [
    ">"
   ]
  },
  {
   "cell_type": "markdown",
   "metadata": {
    "colab_type": "text",
    "id": "RERADKgNFq9T"
   },
   "source": [
    "\n",
    "\n",
    "---\n",
    "\n",
    "\n",
    "\n",
    "---\n",
    "\n",
    "\n",
    "\n",
    "> > > > > > > > > © 2019 Data Science Institute of Australia\n",
    "\n",
    "\n",
    "---\n",
    "\n",
    "\n",
    "\n",
    "---\n",
    "\n",
    "\n",
    "\n"
   ]
  }
 ],
 "metadata": {
  "colab": {
   "collapsed_sections": [],
   "name": "DSIA Lab-10_2-Answers.ipynb",
   "provenance": [],
   "version": "0.3.2"
  },
  "kernelspec": {
   "display_name": "Python 3",
   "language": "python",
   "name": "python3"
  },
  "language_info": {
   "codemirror_mode": {
    "name": "ipython",
    "version": 3
   },
   "file_extension": ".py",
   "mimetype": "text/x-python",
   "name": "python",
   "nbconvert_exporter": "python",
   "pygments_lexer": "ipython3",
   "version": "3.6.4"
  },
  "varInspector": {
   "cols": {
    "lenName": 16,
    "lenType": 16,
    "lenVar": 40
   },
   "kernels_config": {
    "python": {
     "delete_cmd_postfix": "",
     "delete_cmd_prefix": "del ",
     "library": "var_list.py",
     "varRefreshCmd": "print(var_dic_list())"
    },
    "r": {
     "delete_cmd_postfix": ") ",
     "delete_cmd_prefix": "rm(",
     "library": "var_list.r",
     "varRefreshCmd": "cat(var_dic_list()) "
    }
   },
   "types_to_exclude": [
    "module",
    "function",
    "builtin_function_or_method",
    "instance",
    "_Feature"
   ],
   "window_display": false
  }
 },
 "nbformat": 4,
 "nbformat_minor": 1
}
