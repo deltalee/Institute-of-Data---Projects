{
 "cells": [
  {
   "cell_type": "code",
   "execution_count": 39,
   "metadata": {},
   "outputs": [],
   "source": [
    "# Import Libraries\n",
    "\n",
    "import pandas as pd\n",
    "import numpy as np\n",
    "import matplotlib.pyplot as plt\n",
    "import seaborn as sns\n",
    "import statsmodels.api as sm\n",
    "\n",
    "from sklearn.model_selection import train_test_split\n",
    "from sklearn.linear_model import LogisticRegression\n",
    "from sklearn import datasets\n",
    "from sklearn.datasets import load_breast_cancer\n",
    "from sklearn.metrics import accuracy_score\n",
    "from sklearn.metrics import confusion_matrix\n",
    "from sklearn.metrics import roc_curve\n",
    "from sklearn.metrics import auc\n",
    "from sklearn.metrics import recall_score\n",
    "from sklearn.metrics import precision_score\n",
    "\n",
    "from sklearn.model_selection import cross_val_score"
   ]
  },
  {
   "cell_type": "code",
   "execution_count": 40,
   "metadata": {},
   "outputs": [
    {
     "data": {
      "text/plain": [
       "['malignant', 'benign']"
      ]
     },
     "execution_count": 40,
     "metadata": {},
     "output_type": "execute_result"
    }
   ],
   "source": [
    "data = load_breast_cancer()\n",
    "data.target[[10, 50, 85]]\n",
    "list(data.target_names)\n",
    "['malignant', 'benign']"
   ]
  },
  {
   "cell_type": "code",
   "execution_count": 41,
   "metadata": {},
   "outputs": [
    {
     "data": {
      "text/html": [
       "<div>\n",
       "<style scoped>\n",
       "    .dataframe tbody tr th:only-of-type {\n",
       "        vertical-align: middle;\n",
       "    }\n",
       "\n",
       "    .dataframe tbody tr th {\n",
       "        vertical-align: top;\n",
       "    }\n",
       "\n",
       "    .dataframe thead th {\n",
       "        text-align: right;\n",
       "    }\n",
       "</style>\n",
       "<table border=\"1\" class=\"dataframe\">\n",
       "  <thead>\n",
       "    <tr style=\"text-align: right;\">\n",
       "      <th></th>\n",
       "      <th>mean radius</th>\n",
       "      <th>mean texture</th>\n",
       "      <th>mean perimeter</th>\n",
       "      <th>mean area</th>\n",
       "      <th>mean smoothness</th>\n",
       "      <th>mean compactness</th>\n",
       "      <th>mean concavity</th>\n",
       "      <th>mean concave points</th>\n",
       "      <th>mean symmetry</th>\n",
       "      <th>mean fractal dimension</th>\n",
       "      <th>...</th>\n",
       "      <th>worst radius</th>\n",
       "      <th>worst texture</th>\n",
       "      <th>worst perimeter</th>\n",
       "      <th>worst area</th>\n",
       "      <th>worst smoothness</th>\n",
       "      <th>worst compactness</th>\n",
       "      <th>worst concavity</th>\n",
       "      <th>worst concave points</th>\n",
       "      <th>worst symmetry</th>\n",
       "      <th>worst fractal dimension</th>\n",
       "    </tr>\n",
       "  </thead>\n",
       "  <tbody>\n",
       "    <tr>\n",
       "      <td>0</td>\n",
       "      <td>17.99</td>\n",
       "      <td>10.38</td>\n",
       "      <td>122.80</td>\n",
       "      <td>1001.0</td>\n",
       "      <td>0.11840</td>\n",
       "      <td>0.27760</td>\n",
       "      <td>0.30010</td>\n",
       "      <td>0.14710</td>\n",
       "      <td>0.2419</td>\n",
       "      <td>0.07871</td>\n",
       "      <td>...</td>\n",
       "      <td>25.380</td>\n",
       "      <td>17.33</td>\n",
       "      <td>184.60</td>\n",
       "      <td>2019.0</td>\n",
       "      <td>0.16220</td>\n",
       "      <td>0.66560</td>\n",
       "      <td>0.7119</td>\n",
       "      <td>0.2654</td>\n",
       "      <td>0.4601</td>\n",
       "      <td>0.11890</td>\n",
       "    </tr>\n",
       "    <tr>\n",
       "      <td>1</td>\n",
       "      <td>20.57</td>\n",
       "      <td>17.77</td>\n",
       "      <td>132.90</td>\n",
       "      <td>1326.0</td>\n",
       "      <td>0.08474</td>\n",
       "      <td>0.07864</td>\n",
       "      <td>0.08690</td>\n",
       "      <td>0.07017</td>\n",
       "      <td>0.1812</td>\n",
       "      <td>0.05667</td>\n",
       "      <td>...</td>\n",
       "      <td>24.990</td>\n",
       "      <td>23.41</td>\n",
       "      <td>158.80</td>\n",
       "      <td>1956.0</td>\n",
       "      <td>0.12380</td>\n",
       "      <td>0.18660</td>\n",
       "      <td>0.2416</td>\n",
       "      <td>0.1860</td>\n",
       "      <td>0.2750</td>\n",
       "      <td>0.08902</td>\n",
       "    </tr>\n",
       "    <tr>\n",
       "      <td>2</td>\n",
       "      <td>19.69</td>\n",
       "      <td>21.25</td>\n",
       "      <td>130.00</td>\n",
       "      <td>1203.0</td>\n",
       "      <td>0.10960</td>\n",
       "      <td>0.15990</td>\n",
       "      <td>0.19740</td>\n",
       "      <td>0.12790</td>\n",
       "      <td>0.2069</td>\n",
       "      <td>0.05999</td>\n",
       "      <td>...</td>\n",
       "      <td>23.570</td>\n",
       "      <td>25.53</td>\n",
       "      <td>152.50</td>\n",
       "      <td>1709.0</td>\n",
       "      <td>0.14440</td>\n",
       "      <td>0.42450</td>\n",
       "      <td>0.4504</td>\n",
       "      <td>0.2430</td>\n",
       "      <td>0.3613</td>\n",
       "      <td>0.08758</td>\n",
       "    </tr>\n",
       "    <tr>\n",
       "      <td>3</td>\n",
       "      <td>11.42</td>\n",
       "      <td>20.38</td>\n",
       "      <td>77.58</td>\n",
       "      <td>386.1</td>\n",
       "      <td>0.14250</td>\n",
       "      <td>0.28390</td>\n",
       "      <td>0.24140</td>\n",
       "      <td>0.10520</td>\n",
       "      <td>0.2597</td>\n",
       "      <td>0.09744</td>\n",
       "      <td>...</td>\n",
       "      <td>14.910</td>\n",
       "      <td>26.50</td>\n",
       "      <td>98.87</td>\n",
       "      <td>567.7</td>\n",
       "      <td>0.20980</td>\n",
       "      <td>0.86630</td>\n",
       "      <td>0.6869</td>\n",
       "      <td>0.2575</td>\n",
       "      <td>0.6638</td>\n",
       "      <td>0.17300</td>\n",
       "    </tr>\n",
       "    <tr>\n",
       "      <td>4</td>\n",
       "      <td>20.29</td>\n",
       "      <td>14.34</td>\n",
       "      <td>135.10</td>\n",
       "      <td>1297.0</td>\n",
       "      <td>0.10030</td>\n",
       "      <td>0.13280</td>\n",
       "      <td>0.19800</td>\n",
       "      <td>0.10430</td>\n",
       "      <td>0.1809</td>\n",
       "      <td>0.05883</td>\n",
       "      <td>...</td>\n",
       "      <td>22.540</td>\n",
       "      <td>16.67</td>\n",
       "      <td>152.20</td>\n",
       "      <td>1575.0</td>\n",
       "      <td>0.13740</td>\n",
       "      <td>0.20500</td>\n",
       "      <td>0.4000</td>\n",
       "      <td>0.1625</td>\n",
       "      <td>0.2364</td>\n",
       "      <td>0.07678</td>\n",
       "    </tr>\n",
       "    <tr>\n",
       "      <td>...</td>\n",
       "      <td>...</td>\n",
       "      <td>...</td>\n",
       "      <td>...</td>\n",
       "      <td>...</td>\n",
       "      <td>...</td>\n",
       "      <td>...</td>\n",
       "      <td>...</td>\n",
       "      <td>...</td>\n",
       "      <td>...</td>\n",
       "      <td>...</td>\n",
       "      <td>...</td>\n",
       "      <td>...</td>\n",
       "      <td>...</td>\n",
       "      <td>...</td>\n",
       "      <td>...</td>\n",
       "      <td>...</td>\n",
       "      <td>...</td>\n",
       "      <td>...</td>\n",
       "      <td>...</td>\n",
       "      <td>...</td>\n",
       "      <td>...</td>\n",
       "    </tr>\n",
       "    <tr>\n",
       "      <td>564</td>\n",
       "      <td>21.56</td>\n",
       "      <td>22.39</td>\n",
       "      <td>142.00</td>\n",
       "      <td>1479.0</td>\n",
       "      <td>0.11100</td>\n",
       "      <td>0.11590</td>\n",
       "      <td>0.24390</td>\n",
       "      <td>0.13890</td>\n",
       "      <td>0.1726</td>\n",
       "      <td>0.05623</td>\n",
       "      <td>...</td>\n",
       "      <td>25.450</td>\n",
       "      <td>26.40</td>\n",
       "      <td>166.10</td>\n",
       "      <td>2027.0</td>\n",
       "      <td>0.14100</td>\n",
       "      <td>0.21130</td>\n",
       "      <td>0.4107</td>\n",
       "      <td>0.2216</td>\n",
       "      <td>0.2060</td>\n",
       "      <td>0.07115</td>\n",
       "    </tr>\n",
       "    <tr>\n",
       "      <td>565</td>\n",
       "      <td>20.13</td>\n",
       "      <td>28.25</td>\n",
       "      <td>131.20</td>\n",
       "      <td>1261.0</td>\n",
       "      <td>0.09780</td>\n",
       "      <td>0.10340</td>\n",
       "      <td>0.14400</td>\n",
       "      <td>0.09791</td>\n",
       "      <td>0.1752</td>\n",
       "      <td>0.05533</td>\n",
       "      <td>...</td>\n",
       "      <td>23.690</td>\n",
       "      <td>38.25</td>\n",
       "      <td>155.00</td>\n",
       "      <td>1731.0</td>\n",
       "      <td>0.11660</td>\n",
       "      <td>0.19220</td>\n",
       "      <td>0.3215</td>\n",
       "      <td>0.1628</td>\n",
       "      <td>0.2572</td>\n",
       "      <td>0.06637</td>\n",
       "    </tr>\n",
       "    <tr>\n",
       "      <td>566</td>\n",
       "      <td>16.60</td>\n",
       "      <td>28.08</td>\n",
       "      <td>108.30</td>\n",
       "      <td>858.1</td>\n",
       "      <td>0.08455</td>\n",
       "      <td>0.10230</td>\n",
       "      <td>0.09251</td>\n",
       "      <td>0.05302</td>\n",
       "      <td>0.1590</td>\n",
       "      <td>0.05648</td>\n",
       "      <td>...</td>\n",
       "      <td>18.980</td>\n",
       "      <td>34.12</td>\n",
       "      <td>126.70</td>\n",
       "      <td>1124.0</td>\n",
       "      <td>0.11390</td>\n",
       "      <td>0.30940</td>\n",
       "      <td>0.3403</td>\n",
       "      <td>0.1418</td>\n",
       "      <td>0.2218</td>\n",
       "      <td>0.07820</td>\n",
       "    </tr>\n",
       "    <tr>\n",
       "      <td>567</td>\n",
       "      <td>20.60</td>\n",
       "      <td>29.33</td>\n",
       "      <td>140.10</td>\n",
       "      <td>1265.0</td>\n",
       "      <td>0.11780</td>\n",
       "      <td>0.27700</td>\n",
       "      <td>0.35140</td>\n",
       "      <td>0.15200</td>\n",
       "      <td>0.2397</td>\n",
       "      <td>0.07016</td>\n",
       "      <td>...</td>\n",
       "      <td>25.740</td>\n",
       "      <td>39.42</td>\n",
       "      <td>184.60</td>\n",
       "      <td>1821.0</td>\n",
       "      <td>0.16500</td>\n",
       "      <td>0.86810</td>\n",
       "      <td>0.9387</td>\n",
       "      <td>0.2650</td>\n",
       "      <td>0.4087</td>\n",
       "      <td>0.12400</td>\n",
       "    </tr>\n",
       "    <tr>\n",
       "      <td>568</td>\n",
       "      <td>7.76</td>\n",
       "      <td>24.54</td>\n",
       "      <td>47.92</td>\n",
       "      <td>181.0</td>\n",
       "      <td>0.05263</td>\n",
       "      <td>0.04362</td>\n",
       "      <td>0.00000</td>\n",
       "      <td>0.00000</td>\n",
       "      <td>0.1587</td>\n",
       "      <td>0.05884</td>\n",
       "      <td>...</td>\n",
       "      <td>9.456</td>\n",
       "      <td>30.37</td>\n",
       "      <td>59.16</td>\n",
       "      <td>268.6</td>\n",
       "      <td>0.08996</td>\n",
       "      <td>0.06444</td>\n",
       "      <td>0.0000</td>\n",
       "      <td>0.0000</td>\n",
       "      <td>0.2871</td>\n",
       "      <td>0.07039</td>\n",
       "    </tr>\n",
       "  </tbody>\n",
       "</table>\n",
       "<p>569 rows × 30 columns</p>\n",
       "</div>"
      ],
      "text/plain": [
       "     mean radius  mean texture  mean perimeter  mean area  mean smoothness  \\\n",
       "0          17.99         10.38          122.80     1001.0          0.11840   \n",
       "1          20.57         17.77          132.90     1326.0          0.08474   \n",
       "2          19.69         21.25          130.00     1203.0          0.10960   \n",
       "3          11.42         20.38           77.58      386.1          0.14250   \n",
       "4          20.29         14.34          135.10     1297.0          0.10030   \n",
       "..           ...           ...             ...        ...              ...   \n",
       "564        21.56         22.39          142.00     1479.0          0.11100   \n",
       "565        20.13         28.25          131.20     1261.0          0.09780   \n",
       "566        16.60         28.08          108.30      858.1          0.08455   \n",
       "567        20.60         29.33          140.10     1265.0          0.11780   \n",
       "568         7.76         24.54           47.92      181.0          0.05263   \n",
       "\n",
       "     mean compactness  mean concavity  mean concave points  mean symmetry  \\\n",
       "0             0.27760         0.30010              0.14710         0.2419   \n",
       "1             0.07864         0.08690              0.07017         0.1812   \n",
       "2             0.15990         0.19740              0.12790         0.2069   \n",
       "3             0.28390         0.24140              0.10520         0.2597   \n",
       "4             0.13280         0.19800              0.10430         0.1809   \n",
       "..                ...             ...                  ...            ...   \n",
       "564           0.11590         0.24390              0.13890         0.1726   \n",
       "565           0.10340         0.14400              0.09791         0.1752   \n",
       "566           0.10230         0.09251              0.05302         0.1590   \n",
       "567           0.27700         0.35140              0.15200         0.2397   \n",
       "568           0.04362         0.00000              0.00000         0.1587   \n",
       "\n",
       "     mean fractal dimension  ...  worst radius  worst texture  \\\n",
       "0                   0.07871  ...        25.380          17.33   \n",
       "1                   0.05667  ...        24.990          23.41   \n",
       "2                   0.05999  ...        23.570          25.53   \n",
       "3                   0.09744  ...        14.910          26.50   \n",
       "4                   0.05883  ...        22.540          16.67   \n",
       "..                      ...  ...           ...            ...   \n",
       "564                 0.05623  ...        25.450          26.40   \n",
       "565                 0.05533  ...        23.690          38.25   \n",
       "566                 0.05648  ...        18.980          34.12   \n",
       "567                 0.07016  ...        25.740          39.42   \n",
       "568                 0.05884  ...         9.456          30.37   \n",
       "\n",
       "     worst perimeter  worst area  worst smoothness  worst compactness  \\\n",
       "0             184.60      2019.0           0.16220            0.66560   \n",
       "1             158.80      1956.0           0.12380            0.18660   \n",
       "2             152.50      1709.0           0.14440            0.42450   \n",
       "3              98.87       567.7           0.20980            0.86630   \n",
       "4             152.20      1575.0           0.13740            0.20500   \n",
       "..               ...         ...               ...                ...   \n",
       "564           166.10      2027.0           0.14100            0.21130   \n",
       "565           155.00      1731.0           0.11660            0.19220   \n",
       "566           126.70      1124.0           0.11390            0.30940   \n",
       "567           184.60      1821.0           0.16500            0.86810   \n",
       "568            59.16       268.6           0.08996            0.06444   \n",
       "\n",
       "     worst concavity  worst concave points  worst symmetry  \\\n",
       "0             0.7119                0.2654          0.4601   \n",
       "1             0.2416                0.1860          0.2750   \n",
       "2             0.4504                0.2430          0.3613   \n",
       "3             0.6869                0.2575          0.6638   \n",
       "4             0.4000                0.1625          0.2364   \n",
       "..               ...                   ...             ...   \n",
       "564           0.4107                0.2216          0.2060   \n",
       "565           0.3215                0.1628          0.2572   \n",
       "566           0.3403                0.1418          0.2218   \n",
       "567           0.9387                0.2650          0.4087   \n",
       "568           0.0000                0.0000          0.2871   \n",
       "\n",
       "     worst fractal dimension  \n",
       "0                    0.11890  \n",
       "1                    0.08902  \n",
       "2                    0.08758  \n",
       "3                    0.17300  \n",
       "4                    0.07678  \n",
       "..                       ...  \n",
       "564                  0.07115  \n",
       "565                  0.06637  \n",
       "566                  0.07820  \n",
       "567                  0.12400  \n",
       "568                  0.07039  \n",
       "\n",
       "[569 rows x 30 columns]"
      ]
     },
     "execution_count": 41,
     "metadata": {},
     "output_type": "execute_result"
    }
   ],
   "source": [
    "cancer = load_breast_cancer()\n",
    "cancer_df=pd.DataFrame(cancer.data,columns=cancer.feature_names)\n",
    "cancer_df"
   ]
  },
  {
   "cell_type": "code",
   "execution_count": 42,
   "metadata": {},
   "outputs": [
    {
     "data": {
      "text/plain": [
       "Index(['mean radius', 'mean texture', 'mean perimeter', 'mean area',\n",
       "       'mean smoothness', 'mean compactness', 'mean concavity',\n",
       "       'mean concave points', 'mean symmetry', 'mean fractal dimension',\n",
       "       'radius error', 'texture error', 'perimeter error', 'area error',\n",
       "       'smoothness error', 'compactness error', 'concavity error',\n",
       "       'concave points error', 'symmetry error', 'fractal dimension error',\n",
       "       'worst radius', 'worst texture', 'worst perimeter', 'worst area',\n",
       "       'worst smoothness', 'worst compactness', 'worst concavity',\n",
       "       'worst concave points', 'worst symmetry', 'worst fractal dimension'],\n",
       "      dtype='object')"
      ]
     },
     "execution_count": 42,
     "metadata": {},
     "output_type": "execute_result"
    }
   ],
   "source": [
    "cancer_df.columns"
   ]
  },
  {
   "cell_type": "code",
   "execution_count": 43,
   "metadata": {},
   "outputs": [],
   "source": [
    "data_corr = cancer_df.corr()"
   ]
  },
  {
   "cell_type": "code",
   "execution_count": 44,
   "metadata": {},
   "outputs": [
    {
     "data": {
      "image/png": "[encoded data removed]",
      "text/plain": [
       "<Figure size 432x288 with 2 Axes>"
      ]
     },
     "metadata": {
      "needs_background": "light"
     },
     "output_type": "display_data"
    }
   ],
   "source": [
    "sns.heatmap(data_corr)\n",
    "plt.show()"
   ]
  },
  {
   "cell_type": "code",
   "execution_count": 111,
   "metadata": {},
   "outputs": [],
   "source": [
    "dataset = datasets.load_breast_cancer()\n",
    "\n",
    "X = dataset.data\n",
    "y = dataset.target\n",
    "\n",
    "X_train, X_test, y_train, y_test = train_test_split(X, y, test_size = 0.2, random_state=1)"
   ]
  },
  {
   "cell_type": "code",
   "execution_count": 113,
   "metadata": {},
   "outputs": [
    {
     "name": "stdout",
     "output_type": "stream",
     "text": [
      "[[37  5]\n",
      " [ 1 71]]\n"
     ]
    }
   ],
   "source": [
    "# Build Model\n",
    "logreg = LogisticRegression(solver='lbfgs', max_iter=10000)\n",
    "\n",
    "# Fit\n",
    "logreg.fit(X_train, y_train)\n",
    "\n",
    "logreg.coef_[0]\n",
    "logreg.intercept_[0]\n",
    "\n",
    "# Predict\n",
    "y_pred_class = logreg.predict(X_test)\n",
    "\n",
    "# save confusion matrix and slice into four pieces\n",
    "confusion = confusion_matrix(y_test, y_pred_class)\n",
    "print(confusion)\n",
    "\n",
    "#[row, column]\n",
    "TP = confusion[1, 1]\n",
    "TN = confusion[0, 0]\n",
    "FP = confusion[0, 1]\n",
    "FN = confusion[1, 0]"
   ]
  },
  {
   "cell_type": "code",
   "execution_count": 114,
   "metadata": {},
   "outputs": [
    {
     "name": "stdout",
     "output_type": "stream",
     "text": [
      "Accuracy Score:  0.9473684210526315\n",
      "Classification_error:  0.05263157894736842\n",
      "Sensitivity:  0.9861111111111112\n",
      "Specificity:  0.8809523809523809\n",
      "FP Rate:  0.11904761904761904\n"
     ]
    }
   ],
   "source": [
    "# use float to perform true division, not integer division\n",
    "print(\"Accuracy Score: \", accuracy_score(y_test, y_pred_class))\n",
    "\n",
    "classification_error = (FP + FN) / (TP + TN + FP + FN)\n",
    "print(\"Classification_error: \", classification_error)\n",
    "\n",
    "sensitivity = TP / (FN + TP)\n",
    "print(\"Sensitivity: \", sensitivity)\n",
    "\n",
    "specificity = TN / (TN + FP)\n",
    "print(\"Specificity: \", specificity)\n",
    "\n",
    "false_positive_rate = FP / (TN + FP)\n",
    "print(\"FP Rate: \", false_positive_rate)"
   ]
  },
  {
   "cell_type": "code",
   "execution_count": 115,
   "metadata": {},
   "outputs": [],
   "source": [
    "# Generate the prediction values for each of the test observations\n",
    "# using predict_proba() function rather than just predict\n",
    "preds = logreg.predict_proba(X_test)[:, 1]\n",
    "\n",
    "# Store the false positive rate(fpr), true positive rate (TPR)\n",
    "# in vectors for use in the graph\n",
    "fpr, tpr, thr = roc_curve(y_test, preds)\n",
    "\n",
    "# Store the Area Under the Curve (AUC) so we can annotate\n",
    "# the graph with theis metric\n",
    "roc_auc = auc(fpr, tpr)"
   ]
  },
  {
   "cell_type": "code",
   "execution_count": 116,
   "metadata": {},
   "outputs": [
    {
     "data": {
      "image/png": "[encoded data removed]",
      "text/plain": [
       "<Figure size 360x360 with 1 Axes>"
      ]
     },
     "metadata": {
      "needs_background": "light"
     },
     "output_type": "display_data"
    }
   ],
   "source": [
    "# thr\n",
    "plt.figure(figsize=(5, 5))\n",
    "plt.plot(range(len(thr)-1), fpr[1:], label='fpr')\n",
    "plt.plot(range(len(thr)-1), tpr[1:], label='tpr')\n",
    "plt.plot(range(len(thr)-1), thr[1:], label='thr')\n",
    "plt.legend()\n",
    "plt.show()"
   ]
  },
  {
   "cell_type": "code",
   "execution_count": 117,
   "metadata": {},
   "outputs": [
    {
     "data": {
      "image/png": "[encoded data removed]",
      "text/plain": [
       "<Figure size 360x360 with 1 Axes>"
      ]
     },
     "metadata": {
      "needs_background": "light"
     },
     "output_type": "display_data"
    }
   ],
   "source": [
    "# Plot the ROC Curve\n",
    "plt.figure(figsize=(5, 5))\n",
    "lw = 2\n",
    "plt.plot(fpr,\n",
    "         tpr,\n",
    "         color='darkorange',\n",
    "         lw=lw,\n",
    "         label='ROC curve (area = %0.2f)' % roc_auc)\n",
    "plt.plot([0, 1],\n",
    "         [0, 1],\n",
    "         color='navy',\n",
    "         lw=lw,\n",
    "         linestyle='--')\n",
    "plt.xlim([0.0, 1.0])\n",
    "plt.ylim([0.0, 1.0])\n",
    "plt.xlabel('False Positive Rate')\n",
    "plt.ylabel('True Positive Rate')\n",
    "plt.title('Receiver operating characteristic example')\n",
    "plt.legend(loc='lower right')\n",
    "plt.show()"
   ]
  },
  {
   "cell_type": "code",
   "execution_count": 119,
   "metadata": {},
   "outputs": [],
   "source": [
    "dataset = datasets.load_breast_cancer()\n",
    "feature_cols = ['mean radius', 'mean texture', 'mean perimeter', 'mean area',\n",
    "       'mean smoothness', 'mean compactness', 'mean concavity',\n",
    "       'mean concave points', 'mean symmetry', 'mean fractal dimension',\n",
    "       'radius error', 'texture error', 'perimeter error', 'area error',\n",
    "       'smoothness error', 'compactness error', 'concavity error',\n",
    "       'concave points error', 'symmetry error', 'fractal dimension error']\n",
    "\n",
    "X = cancer_df[feature_cols]\n",
    "y = dataset.target\n",
    "\n",
    "X_train, X_test, y_train, y_test = train_test_split(X, y, test_size = 0.2, random_state=1)"
   ]
  },
  {
   "cell_type": "code",
   "execution_count": 122,
   "metadata": {},
   "outputs": [],
   "source": [
    "logreg = LogisticRegression(solver='lbfgs', max_iter = 1000)"
   ]
  },
  {
   "cell_type": "code",
   "execution_count": 123,
   "metadata": {},
   "outputs": [
    {
     "data": {
      "text/plain": [
       "LogisticRegression(C=1.0, class_weight=None, dual=False, fit_intercept=True,\n",
       "                   intercept_scaling=1, l1_ratio=None, max_iter=1000,\n",
       "                   multi_class='warn', n_jobs=None, penalty='l2',\n",
       "                   random_state=None, solver='lbfgs', tol=0.0001, verbose=0,\n",
       "                   warm_start=False)"
      ]
     },
     "execution_count": 123,
     "metadata": {},
     "output_type": "execute_result"
    }
   ],
   "source": [
    "logreg.fit(X_train, y_train)"
   ]
  },
  {
   "cell_type": "code",
   "execution_count": 124,
   "metadata": {},
   "outputs": [
    {
     "data": {
      "text/plain": [
       "array([ 1.26057736, -0.27727921, -0.59807033,  0.02296176, -0.33062671,\n",
       "       -0.44677855, -0.98462298, -0.50214037, -0.51261962, -0.06005052,\n",
       "        0.36197609,  1.02426355,  0.51498448, -0.1216285 ,  0.00245053,\n",
       "        0.21649954,  0.17437535,  0.02599268,  0.06017732,  0.05068538])"
      ]
     },
     "execution_count": 124,
     "metadata": {},
     "output_type": "execute_result"
    }
   ],
   "source": [
    "logreg.coef_[0]"
   ]
  },
  {
   "cell_type": "code",
   "execution_count": 125,
   "metadata": {},
   "outputs": [
    {
     "data": {
      "text/plain": [
       "30.396836681911058"
      ]
     },
     "execution_count": 125,
     "metadata": {},
     "output_type": "execute_result"
    }
   ],
   "source": [
    "logreg.intercept_[0]"
   ]
  },
  {
   "cell_type": "code",
   "execution_count": 126,
   "metadata": {},
   "outputs": [
    {
     "name": "stdout",
     "output_type": "stream",
     "text": [
      "Optimization terminated successfully.\n",
      "         Current function value: 0.079077\n",
      "         Iterations 14\n",
      "Optimization terminated successfully.\n",
      "         Current function value: 0.079077\n",
      "         Iterations 14\n"
     ]
    },
    {
     "data": {
      "text/html": [
       "<table class=\"simpletable\">\n",
       "<tr>\n",
       "        <td>Model:</td>              <td>Logit</td>      <td>Pseudo R-squared:</td>    <td>0.880</td>   \n",
       "</tr>\n",
       "<tr>\n",
       "  <td>Dependent Variable:</td>         <td>y</td>              <td>AIC:</td>         <td>129.9897</td>  \n",
       "</tr>\n",
       "<tr>\n",
       "         <td>Date:</td>        <td>2019-11-16 13:08</td>       <td>BIC:</td>         <td>216.8673</td>  \n",
       "</tr>\n",
       "<tr>\n",
       "   <td>No. Observations:</td>         <td>569</td>        <td>Log-Likelihood:</td>    <td>-44.995</td>  \n",
       "</tr>\n",
       "<tr>\n",
       "       <td>Df Model:</td>             <td>19</td>            <td>LL-Null:</td>        <td>-375.72</td>  \n",
       "</tr>\n",
       "<tr>\n",
       "     <td>Df Residuals:</td>           <td>549</td>         <td>LLR p-value:</td>    <td>5.2242e-128</td>\n",
       "</tr>\n",
       "<tr>\n",
       "      <td>Converged:</td>           <td>1.0000</td>           <td>Scale:</td>         <td>1.0000</td>   \n",
       "</tr>\n",
       "<tr>\n",
       "    <td>No. Iterations:</td>        <td>14.0000</td>             <td></td>               <td></td>      \n",
       "</tr>\n",
       "</table>\n",
       "<table class=\"simpletable\">\n",
       "<tr>\n",
       "             <td></td>               <th>Coef.</th>   <th>Std.Err.</th>    <th>z</th>     <th>P>|z|</th>  <th>[0.025</th>    <th>0.975]</th>  \n",
       "</tr>\n",
       "<tr>\n",
       "  <th>mean radius</th>              <td>-2.6105</td>   <td>6.0418</td>  <td>-0.4321</td> <td>0.6657</td> <td>-14.4522</td>   <td>9.2311</td>  \n",
       "</tr>\n",
       "<tr>\n",
       "  <th>mean texture</th>             <td>-0.5184</td>   <td>0.1063</td>  <td>-4.8776</td> <td>0.0000</td>  <td>-0.7267</td>   <td>-0.3101</td> \n",
       "</tr>\n",
       "<tr>\n",
       "  <th>mean perimeter</th>           <td>1.0652</td>    <td>0.9064</td>  <td>1.1752</td>  <td>0.2399</td>  <td>-0.7114</td>   <td>2.8418</td>  \n",
       "</tr>\n",
       "<tr>\n",
       "  <th>mean area</th>                <td>-0.0513</td>   <td>0.0163</td>  <td>-3.1496</td> <td>0.0016</td>  <td>-0.0833</td>   <td>-0.0194</td> \n",
       "</tr>\n",
       "<tr>\n",
       "  <th>mean smoothness</th>         <td>-31.0956</td>   <td>56.3761</td> <td>-0.5516</td> <td>0.5812</td> <td>-141.5906</td>  <td>79.3994</td> \n",
       "</tr>\n",
       "<tr>\n",
       "  <th>mean compactness</th>         <td>27.1985</td>   <td>42.5986</td> <td>0.6385</td>  <td>0.5232</td> <td>-56.2931</td>  <td>110.6902</td> \n",
       "</tr>\n",
       "<tr>\n",
       "  <th>mean concavity</th>          <td>-106.6953</td>  <td>35.6383</td> <td>-2.9938</td> <td>0.0028</td> <td>-176.5452</td> <td>-36.8454</td> \n",
       "</tr>\n",
       "<tr>\n",
       "  <th>mean concave points</th>     <td>-56.9038</td>   <td>56.5727</td> <td>-1.0059</td> <td>0.3145</td> <td>-167.7842</td>  <td>53.9767</td> \n",
       "</tr>\n",
       "<tr>\n",
       "  <th>mean symmetry</th>           <td>-40.6707</td>   <td>20.2162</td> <td>-2.0118</td> <td>0.0442</td> <td>-80.2937</td>   <td>-1.0476</td> \n",
       "</tr>\n",
       "<tr>\n",
       "  <th>mean fractal dimension</th>  <td>-82.7824</td>  <td>121.3121</td> <td>-0.6824</td> <td>0.4950</td> <td>-320.5497</td> <td>154.9849</td> \n",
       "</tr>\n",
       "<tr>\n",
       "  <th>radius error</th>             <td>23.6558</td>   <td>16.9581</td> <td>1.3950</td>  <td>0.1630</td>  <td>-9.5815</td>   <td>56.8931</td> \n",
       "</tr>\n",
       "<tr>\n",
       "  <th>texture error</th>            <td>2.1240</td>    <td>0.8850</td>  <td>2.4001</td>  <td>0.0164</td>  <td>0.3895</td>    <td>3.8585</td>  \n",
       "</tr>\n",
       "<tr>\n",
       "  <th>perimeter error</th>          <td>0.4489</td>    <td>1.4095</td>  <td>0.3185</td>  <td>0.7501</td>  <td>-2.3137</td>   <td>3.2114</td>  \n",
       "</tr>\n",
       "<tr>\n",
       "  <th>area error</th>               <td>-0.3789</td>   <td>0.1565</td>  <td>-2.4217</td> <td>0.0154</td>  <td>-0.6856</td>   <td>-0.0722</td> \n",
       "</tr>\n",
       "<tr>\n",
       "  <th>smoothness error</th>         <td>16.0416</td>  <td>160.7112</td> <td>0.0998</td>  <td>0.9205</td> <td>-298.9467</td> <td>331.0298</td> \n",
       "</tr>\n",
       "<tr>\n",
       "  <th>compactness error</th>       <td>-36.2202</td>   <td>65.0994</td> <td>-0.5564</td> <td>0.5779</td> <td>-163.8126</td>  <td>91.3722</td> \n",
       "</tr>\n",
       "<tr>\n",
       "  <th>concavity error</th>         <td>105.6818</td>   <td>64.3778</td> <td>1.6416</td>  <td>0.1007</td> <td>-20.4963</td>  <td>231.8600</td> \n",
       "</tr>\n",
       "<tr>\n",
       "  <th>concave points error</th>     <td>23.2579</td>  <td>160.8979</td> <td>0.1446</td>  <td>0.8851</td> <td>-292.0963</td> <td>338.6121</td> \n",
       "</tr>\n",
       "<tr>\n",
       "  <th>symmetry error</th>           <td>55.3851</td>   <td>65.8136</td> <td>0.8415</td>  <td>0.4000</td> <td>-73.6072</td>  <td>184.3774</td> \n",
       "</tr>\n",
       "<tr>\n",
       "  <th>fractal dimension error</th> <td>500.9157</td>  <td>408.3006</td> <td>1.2268</td>  <td>0.2199</td> <td>-299.3388</td> <td>1301.1702</td>\n",
       "</tr>\n",
       "</table>"
      ],
      "text/plain": [
       "<class 'statsmodels.iolib.summary2.Summary'>\n",
       "\"\"\"\n",
       "                               Results: Logit\n",
       "=============================================================================\n",
       "Model:                   Logit               Pseudo R-squared:    0.880      \n",
       "Dependent Variable:      y                   AIC:                 129.9897   \n",
       "Date:                    2019-11-16 13:08    BIC:                 216.8673   \n",
       "No. Observations:        569                 Log-Likelihood:      -44.995    \n",
       "Df Model:                19                  LL-Null:             -375.72    \n",
       "Df Residuals:            549                 LLR p-value:         5.2242e-128\n",
       "Converged:               1.0000              Scale:               1.0000     \n",
       "No. Iterations:          14.0000                                             \n",
       "-----------------------------------------------------------------------------\n",
       "                          Coef.   Std.Err.    z    P>|z|    [0.025    0.975] \n",
       "-----------------------------------------------------------------------------\n",
       "mean radius               -2.6105   6.0418 -0.4321 0.6657  -14.4522    9.2311\n",
       "mean texture              -0.5184   0.1063 -4.8776 0.0000   -0.7267   -0.3101\n",
       "mean perimeter             1.0652   0.9064  1.1752 0.2399   -0.7114    2.8418\n",
       "mean area                 -0.0513   0.0163 -3.1496 0.0016   -0.0833   -0.0194\n",
       "mean smoothness          -31.0956  56.3761 -0.5516 0.5812 -141.5906   79.3994\n",
       "mean compactness          27.1985  42.5986  0.6385 0.5232  -56.2931  110.6902\n",
       "mean concavity          -106.6953  35.6383 -2.9938 0.0028 -176.5452  -36.8454\n",
       "mean concave points      -56.9038  56.5727 -1.0059 0.3145 -167.7842   53.9767\n",
       "mean symmetry            -40.6707  20.2162 -2.0118 0.0442  -80.2937   -1.0476\n",
       "mean fractal dimension   -82.7824 121.3121 -0.6824 0.4950 -320.5497  154.9849\n",
       "radius error              23.6558  16.9581  1.3950 0.1630   -9.5815   56.8931\n",
       "texture error              2.1240   0.8850  2.4001 0.0164    0.3895    3.8585\n",
       "perimeter error            0.4489   1.4095  0.3185 0.7501   -2.3137    3.2114\n",
       "area error                -0.3789   0.1565 -2.4217 0.0154   -0.6856   -0.0722\n",
       "smoothness error          16.0416 160.7112  0.0998 0.9205 -298.9467  331.0298\n",
       "compactness error        -36.2202  65.0994 -0.5564 0.5779 -163.8126   91.3722\n",
       "concavity error          105.6818  64.3778  1.6416 0.1007  -20.4963  231.8600\n",
       "concave points error      23.2579 160.8979  0.1446 0.8851 -292.0963  338.6121\n",
       "symmetry error            55.3851  65.8136  0.8415 0.4000  -73.6072  184.3774\n",
       "fractal dimension error  500.9157 408.3006  1.2268 0.2199 -299.3388 1301.1702\n",
       "=============================================================================\n",
       "\n",
       "\"\"\""
      ]
     },
     "execution_count": 126,
     "metadata": {},
     "output_type": "execute_result"
    }
   ],
   "source": [
    "m1=sm.Logit(y,X)\n",
    "\n",
    "X = cancer_df[feature_cols]\n",
    "y = dataset.target\n",
    "m1\n",
    "m1.fit()\n",
    "\n",
    "m1.fit().summary2()"
   ]
  },
  {
   "cell_type": "code",
   "execution_count": 127,
   "metadata": {},
   "outputs": [
    {
     "name": "stdout",
     "output_type": "stream",
     "text": [
      "accuracy = 0.9275\n"
     ]
    }
   ],
   "source": [
    "y_pred_class = logreg.predict(X_train)\n",
    "print('accuracy = %.4f' %\n",
    "      accuracy_score(y_train, y_pred_class))"
   ]
  },
  {
   "cell_type": "code",
   "execution_count": 65,
   "metadata": {},
   "outputs": [
    {
     "name": "stdout",
     "output_type": "stream",
     "text": [
      "accuracy = 0.9386\n"
     ]
    }
   ],
   "source": [
    "y_pred_class = logreg.predict(X_test)\n",
    "print('accuracy = %.4f' %\n",
    "      accuracy_score(y_test, y_pred_class))"
   ]
  },
  {
   "cell_type": "code",
   "execution_count": 66,
   "metadata": {},
   "outputs": [
    {
     "name": "stdout",
     "output_type": "stream",
     "text": [
      "[[36  6]\n",
      " [ 1 71]]\n"
     ]
    }
   ],
   "source": [
    "prds = logreg.predict(X)\n",
    "print(confusion_matrix(y_test, y_pred_class))"
   ]
  },
  {
   "cell_type": "code",
   "execution_count": 67,
   "metadata": {},
   "outputs": [
    {
     "data": {
      "text/plain": [
       "6"
      ]
     },
     "execution_count": 67,
     "metadata": {},
     "output_type": "execute_result"
    }
   ],
   "source": [
    "df = pd.DataFrame({'Actual': y_test,\n",
    "                   'Predict': y_pred_class})\n",
    "df['Predict'][df['Actual'] == 0].sum()"
   ]
  },
  {
   "cell_type": "code",
   "execution_count": 68,
   "metadata": {},
   "outputs": [
    {
     "data": {
      "text/plain": [
       "1"
      ]
     },
     "execution_count": 68,
     "metadata": {},
     "output_type": "execute_result"
    }
   ],
   "source": [
    "# FN = Survived - (Predict_survived)\n",
    "df[df['Actual'] == 1].shape[0] - df['Predict'][df['Actual'] == 1].sum()"
   ]
  },
  {
   "cell_type": "code",
   "execution_count": 69,
   "metadata": {},
   "outputs": [
    {
     "data": {
      "text/plain": [
       "array([0.88021686, 0.99263553, 0.88184879, 0.97981585, 0.94300748,\n",
       "       0.86022624, 0.9845034 , 0.79270081, 0.96481962, 0.95391873])"
      ]
     },
     "execution_count": 69,
     "metadata": {},
     "output_type": "execute_result"
    }
   ],
   "source": [
    "logreg.predict_proba(X_test)[:10, 1]"
   ]
  },
  {
   "cell_type": "code",
   "execution_count": 70,
   "metadata": {},
   "outputs": [
    {
     "name": "stderr",
     "output_type": "stream",
     "text": [
      "/Users/Liuyang/opt/anaconda3/lib/python3.7/site-packages/sklearn/linear_model/logistic.py:432: FutureWarning: Default solver will be changed to 'lbfgs' in 0.22. Specify a solver to silence this warning.\n",
      "  FutureWarning)\n"
     ]
    },
    {
     "data": {
      "text/html": [
       "<div>\n",
       "<style scoped>\n",
       "    .dataframe tbody tr th:only-of-type {\n",
       "        vertical-align: middle;\n",
       "    }\n",
       "\n",
       "    .dataframe tbody tr th {\n",
       "        vertical-align: top;\n",
       "    }\n",
       "\n",
       "    .dataframe thead th {\n",
       "        text-align: right;\n",
       "    }\n",
       "</style>\n",
       "<table border=\"1\" class=\"dataframe\">\n",
       "  <thead>\n",
       "    <tr style=\"text-align: right;\">\n",
       "      <th></th>\n",
       "      <th>0</th>\n",
       "    </tr>\n",
       "  </thead>\n",
       "  <tbody>\n",
       "    <tr>\n",
       "      <td>accuracy</td>\n",
       "      <td>0.936364</td>\n",
       "    </tr>\n",
       "    <tr>\n",
       "      <td>recall</td>\n",
       "      <td>0.916667</td>\n",
       "    </tr>\n",
       "    <tr>\n",
       "      <td>precision</td>\n",
       "      <td>0.647059</td>\n",
       "    </tr>\n",
       "    <tr>\n",
       "      <td>roc_auc_score</td>\n",
       "      <td>0.927721</td>\n",
       "    </tr>\n",
       "  </tbody>\n",
       "</table>\n",
       "</div>"
      ],
      "text/plain": [
       "                      0\n",
       "accuracy       0.936364\n",
       "recall         0.916667\n",
       "precision      0.647059\n",
       "roc_auc_score  0.927721"
      ]
     },
     "execution_count": 70,
     "metadata": {},
     "output_type": "execute_result"
    }
   ],
   "source": [
    "#setting threshold\n",
    "from sklearn.model_selection import train_test_split\n",
    "from sklearn.linear_model import LogisticRegression\n",
    "from sklearn.metrics import accuracy_score, confusion_matrix, recall_score, roc_auc_score, precision_score\n",
    "X, y = datasets.make_classification(\n",
    "   n_classes=2, class_sep=1.5, weights=[0.9, 0.1],\n",
    "   n_features=20, n_samples=1000, random_state=10\n",
    ")\n",
    "X_train, X_test, y_train, y_test = train_test_split(X, y, test_size=0.33, random_state=42)\n",
    "clf = LogisticRegression(class_weight=\"balanced\")\n",
    "clf.fit(X_train, y_train)\n",
    "THRESHOLD = 0.25\n",
    "preds = np.where(clf.predict_proba(X_test)[:,1] > THRESHOLD, 1, 0)\n",
    "pd.DataFrame(data=[accuracy_score(y_test, preds), recall_score(y_test, preds),\n",
    "                  precision_score(y_test, preds), roc_auc_score(y_test, preds)], \n",
    "            index=[\"accuracy\", \"recall\", \"precision\", \"roc_auc_score\"])"
   ]
  },
  {
   "cell_type": "code",
   "execution_count": 71,
   "metadata": {},
   "outputs": [],
   "source": [
    "# Generate the prediction values for each of the test observations\n",
    "# using predict_proba() function rather than just predict\n",
    "preds = logreg.predict_proba(X_test)[:, 1]\n",
    "\n",
    "# Store the false positive rate(fpr), true positive rate (TPR)\n",
    "# in vectors for use in the graph\n",
    "fpr, tpr, thr = roc_curve(y_test, preds)\n",
    "\n",
    "# Store the Area Under the Curve (AUC) so we can annotate\n",
    "# the graph with theis metric\n",
    "roc_auc = auc(fpr, tpr)"
   ]
  },
  {
   "cell_type": "code",
   "execution_count": 72,
   "metadata": {},
   "outputs": [
    {
     "data": {
      "image/png": "[encoded data removed]",
      "text/plain": [
       "<Figure size 360x360 with 1 Axes>"
      ]
     },
     "metadata": {
      "needs_background": "light"
     },
     "output_type": "display_data"
    }
   ],
   "source": [
    "# thr\n",
    "plt.figure(figsize=(5, 5))\n",
    "plt.plot(range(len(thr)-1), fpr[1:], label='fpr')\n",
    "plt.plot(range(len(thr)-1), tpr[1:], label='tpr')\n",
    "plt.plot(range(len(thr)-1), thr[1:], label='thr')\n",
    "plt.legend()\n",
    "plt.show()"
   ]
  },
  {
   "cell_type": "code",
   "execution_count": 73,
   "metadata": {},
   "outputs": [
    {
     "data": {
      "image/png": "[encoded data removed]",
      "text/plain": [
       "<Figure size 360x360 with 1 Axes>"
      ]
     },
     "metadata": {
      "needs_background": "light"
     },
     "output_type": "display_data"
    }
   ],
   "source": [
    "# Plot the ROC Curve\n",
    "plt.figure(figsize=(5, 5))\n",
    "lw = 2\n",
    "plt.plot(fpr,\n",
    "         tpr,\n",
    "         color='darkorange',\n",
    "         lw=lw,\n",
    "         label='ROC curve (area = %0.2f)' % roc_auc)\n",
    "plt.plot([0, 1],\n",
    "         [0, 1],\n",
    "         color='navy',\n",
    "         lw=lw,\n",
    "         linestyle='--')\n",
    "plt.xlim([0.0, 1.0])\n",
    "plt.ylim([0.0, 1.0])\n",
    "plt.xlabel('False Positive Rate')\n",
    "plt.ylabel('True Positive Rate')\n",
    "plt.title('Receiver operating characteristic example')\n",
    "plt.legend(loc='lower right')\n",
    "plt.show()"
   ]
  },
  {
   "cell_type": "code",
   "execution_count": 74,
   "metadata": {},
   "outputs": [
    {
     "name": "stdout",
     "output_type": "stream",
     "text": [
      "[[290   4]\n",
      " [  8  28]]\n"
     ]
    }
   ],
   "source": [
    "# Build Model\n",
    "logreg = LogisticRegression(solver='lbfgs', max_iter=1000)\n",
    "\n",
    "# Fit\n",
    "logreg.fit(X_train, y_train)\n",
    "\n",
    "# Predict\n",
    "y_pred_class = logreg.predict(X_test)\n",
    "\n",
    "# save confusion matrix and slice into four pieces\n",
    "confusion = confusion_matrix(y_test, y_pred_class)\n",
    "print(confusion)\n",
    "\n",
    "#[row, column]\n",
    "TP = confusion[1, 1]\n",
    "TN = confusion[0, 0]\n",
    "FP = confusion[0, 1]\n",
    "FN = confusion[1, 0]"
   ]
  },
  {
   "cell_type": "code",
   "execution_count": 75,
   "metadata": {},
   "outputs": [
    {
     "name": "stdout",
     "output_type": "stream",
     "text": [
      "0.9636363636363636\n",
      "Accuracy Score:  0.9636363636363636\n",
      "Classification_error:  0.03636363636363636\n",
      "0.036363636363636376\n",
      "Sensitivity:  0.7777777777777778\n",
      "0.7777777777777778\n",
      "Specificity:  0.9863945578231292\n",
      "FP Rate:  0.013605442176870748\n",
      "0.013605442176870763\n"
     ]
    }
   ],
   "source": [
    "# use float to perform true division, not integer division\n",
    "print((TP + TN) / (TP + TN + FP + FN))\n",
    "print(\"Accuracy Score: \", accuracy_score(y_test, y_pred_class))\n",
    "\n",
    "classification_error = (FP + FN) / (TP + TN + FP + FN)\n",
    "print(\"Classification_error: \", classification_error)\n",
    "print(1 - accuracy_score(y_test, y_pred_class))\n",
    "\n",
    "sensitivity = TP / (FN + TP)\n",
    "print(\"Sensitivity: \", sensitivity)\n",
    "print(recall_score(y_test, y_pred_class))\n",
    "\n",
    "specificity = TN / (TN + FP)\n",
    "print(\"Specificity: \", specificity)\n",
    "\n",
    "false_positive_rate = FP / (TN + FP)\n",
    "print(\"FP Rate: \", false_positive_rate)\n",
    "print(1 - specificity)"
   ]
  },
  {
   "cell_type": "code",
   "execution_count": 94,
   "metadata": {},
   "outputs": [],
   "source": [
    "dataset = datasets.load_breast_cancer()\n",
    "feature_cols = ['mean radius', 'mean texture', 'mean perimeter', 'mean area',\n",
    "       'mean smoothness', 'mean compactness', 'mean concavity',\n",
    "       'mean concave points', 'mean symmetry', 'mean fractal dimension',\n",
    "       'radius error', 'texture error', 'perimeter error', 'area error',\n",
    "       'smoothness error', 'compactness error', 'concavity error',\n",
    "       'concave points error', 'symmetry error', 'fractal dimension error',\n",
    "       'worst radius', 'worst texture', 'worst perimeter', 'worst area',\n",
    "       'worst smoothness', 'worst compactness', 'worst concavity',\n",
    "       'worst concave points', 'worst symmetry', 'worst fractal dimension']\n",
    "\n",
    "X = cancer_df[feature_cols]\n",
    "y = dataset.target\n",
    "\n",
    "X_train, X_test, y_train, y_test = train_test_split(X, y, test_size = 0.2, random_state=12345)"
   ]
  },
  {
   "cell_type": "code",
   "execution_count": 96,
   "metadata": {},
   "outputs": [
    {
     "name": "stderr",
     "output_type": "stream",
     "text": [
      "/Users/Liuyang/opt/anaconda3/lib/python3.7/site-packages/ipykernel_launcher.py:30: FutureWarning: \n",
      "The current behaviour of 'Series.argmin' is deprecated, use 'idxmin'\n",
      "instead.\n",
      "The behavior of 'argmin' will be corrected to return the positional\n",
      "minimum in the future. For now, use 'series.values.argmin' or\n",
      "'np.argmin(np.array(values))' to get the position of the minimum\n",
      "row.\n"
     ]
    },
    {
     "name": "stdout",
     "output_type": "stream",
     "text": [
      "Add  worst concave points           with p-value 1.96909971e-124\n",
      "Add  worst radius                   with p-value 9.97179982e-24\n",
      "Add  worst texture                  with p-value 3.39287414e-11\n",
      "Add  worst area                     with p-value 1.65889399e-05\n",
      "Add  smoothness error               with p-value 2.91154533e-07\n",
      "Add  worst symmetry                 with p-value 3.43003556e-05\n",
      "Add  compactness error              with p-value 0.00672452958\n",
      "Add  radius error                   with p-value 0.00072695822\n",
      "Add  worst fractal dimension        with p-value 0.0019580447\n",
      "Add  mean compactness               with p-value 0.00456211152\n",
      "Add  mean concave points            with p-value 0.00103855334\n",
      "Drop compactness error              with p-value 0.0510578171\n",
      "Add  fractal dimension error        with p-value 0.00583478865\n"
     ]
    },
    {
     "name": "stderr",
     "output_type": "stream",
     "text": [
      "/Users/Liuyang/opt/anaconda3/lib/python3.7/site-packages/ipykernel_launcher.py:43: FutureWarning: \n",
      "The current behaviour of 'Series.argmax' is deprecated, use 'idxmax'\n",
      "instead.\n",
      "The behavior of 'argmax' will be corrected to return the positional\n",
      "maximum in the future. For now, use 'series.values.argmax' or\n",
      "'np.argmax(np.array(values))' to get the position of the maximum\n",
      "row.\n"
     ]
    },
    {
     "name": "stdout",
     "output_type": "stream",
     "text": [
      "resulting features:\n",
      "['worst concave points', 'worst radius', 'worst texture', 'worst area', 'smoothness error', 'worst symmetry', 'radius error', 'worst fractal dimension', 'mean compactness', 'mean concave points', 'fractal dimension error']\n"
     ]
    }
   ],
   "source": [
    "def stepwise_selection(X, y, \n",
    "                       initial_list=[], \n",
    "                       threshold_in=0.01, \n",
    "                       threshold_out = 0.05, \n",
    "                       verbose=True):\n",
    "    \"\"\" Perform a forward-backward feature selection \n",
    "    based on p-value from statsmodels.api.OLS\n",
    "    Arguments:\n",
    "        X - pandas.DataFrame with candidate features\n",
    "        y - list-like with the target\n",
    "        initial_list - list of features to start with (column names of X)\n",
    "        threshold_in - include a feature if its p-value < threshold_in\n",
    "        threshold_out - exclude a feature if its p-value > threshold_out\n",
    "        verbose - whether to print the sequence of inclusions and exclusions\n",
    "    Returns: list of selected features \n",
    "    Always set threshold_in < threshold_out to avoid infinite looping.\n",
    "    See https://en.wikipedia.org/wiki/Stepwise_regression for the details\n",
    "    \"\"\"\n",
    "    included = list(initial_list)\n",
    "    while True:\n",
    "        changed=False\n",
    "        # forward step\n",
    "        excluded = list(set(X.columns)-set(included))\n",
    "        new_pval = pd.Series(index=excluded)\n",
    "        for new_column in excluded:\n",
    "            model = sm.OLS(y, sm.add_constant(pd.DataFrame(X[included+[new_column]]))).fit()\n",
    "            new_pval[new_column] = model.pvalues[new_column]\n",
    "        best_pval = new_pval.min()\n",
    "        if best_pval < threshold_in:\n",
    "            best_feature = new_pval.argmin()\n",
    "            included.append(best_feature)\n",
    "            changed=True\n",
    "            if verbose:\n",
    "                print('Add  {:30} with p-value {:.9}'.format(best_feature, best_pval))\n",
    "\n",
    "        # backward step\n",
    "        model = sm.OLS(y, sm.add_constant(pd.DataFrame(X[included]))).fit()\n",
    "        # use all coefs except intercept\n",
    "        pvalues = model.pvalues.iloc[1:]\n",
    "        worst_pval = pvalues.max() # null if pvalues is empty\n",
    "        if worst_pval > threshold_out:\n",
    "            changed=True\n",
    "            worst_feature = pvalues.argmax()\n",
    "            included.remove(worst_feature)\n",
    "            if verbose:\n",
    "                print('Drop {:30} with p-value {:.9}'.format(worst_feature, worst_pval))\n",
    "        if not changed:\n",
    "            break\n",
    "    return included\n",
    "\n",
    "result = stepwise_selection(X, y)\n",
    "\n",
    "print('resulting features:')\n",
    "print(result)"
   ]
  },
  {
   "cell_type": "code",
   "execution_count": 104,
   "metadata": {},
   "outputs": [
    {
     "name": "stdout",
     "output_type": "stream",
     "text": [
      "accuracy (train)= 0.9577\n",
      "accuracy (test) = 0.9231\n"
     ]
    }
   ],
   "source": [
    "feature_cols = ['worst concave points', 'worst radius', 'worst texture', 'worst area', \n",
    "                'smoothness error', 'worst symmetry', 'radius error', 'worst fractal dimension', \n",
    "                'mean compactness', 'mean concave points', 'fractal dimension error']\n",
    "X = cancer_df[feature_cols]\n",
    "y = dataset.target\n",
    "\n",
    "X_train, X_test, y_train, y_test = train_test_split(\n",
    "    X,\n",
    "    y,\n",
    "    random_state=1)\n",
    "\n",
    "logreg = LogisticRegression(solver='lbfgs', max_iter=2000)\n",
    "logreg.fit(X_train, y_train)\n",
    "\n",
    "y_pred_class = logreg.predict(X_train)\n",
    "print('accuracy (train)= %.4f' %\n",
    "      accuracy_score(y_train, y_pred_class))\n",
    "\n",
    "y_pred_class = logreg.predict(X_test)\n",
    "# Print the new accuracy rate\n",
    "print('accuracy (test) = %.4f' %\n",
    "      accuracy_score(y_test, y_pred_class))"
   ]
  },
  {
   "cell_type": "code",
   "execution_count": 105,
   "metadata": {},
   "outputs": [
    {
     "name": "stdout",
     "output_type": "stream",
     "text": [
      "[[48  7]\n",
      " [ 4 84]]\n"
     ]
    }
   ],
   "source": [
    "# save confusion matrix and slice into four pieces\n",
    "confusion = confusion_matrix(y_test, y_pred_class)\n",
    "print(confusion)\n",
    "\n",
    "#[row, column]\n",
    "TP = confusion[1, 1]\n",
    "TN = confusion[0, 0]\n",
    "FP = confusion[0, 1]\n",
    "FN = confusion[1, 0]"
   ]
  },
  {
   "cell_type": "code",
   "execution_count": 106,
   "metadata": {},
   "outputs": [
    {
     "name": "stdout",
     "output_type": "stream",
     "text": [
      "Accuracy Score:  0.9230769230769231\n",
      "Classification_error:  0.07692307692307693\n",
      "Sensitivity:  0.9545454545454546\n",
      "Specificity:  0.8727272727272727\n",
      "FP Rate:  0.12727272727272726\n"
     ]
    }
   ],
   "source": [
    "# use float to perform true division, not integer division\n",
    "print(\"Accuracy Score: \", accuracy_score(y_test, y_pred_class))\n",
    "\n",
    "classification_error = (FP + FN) / (TP + TN + FP + FN)\n",
    "print(\"Classification_error: \", classification_error)\n",
    "\n",
    "sensitivity = TP / (FN + TP)\n",
    "print(\"Sensitivity: \", sensitivity)\n",
    "\n",
    "specificity = TN / (TN + FP)\n",
    "print(\"Specificity: \", specificity)\n",
    "\n",
    "false_positive_rate = FP / (TN + FP)\n",
    "print(\"FP Rate: \", false_positive_rate)"
   ]
  },
  {
   "cell_type": "code",
   "execution_count": 107,
   "metadata": {},
   "outputs": [
    {
     "name": "stdout",
     "output_type": "stream",
     "text": [
      "Optimization terminated successfully.\n",
      "         Current function value: 0.051922\n",
      "         Iterations 15\n",
      "Optimization terminated successfully.\n",
      "         Current function value: 0.051922\n",
      "         Iterations 15\n"
     ]
    },
    {
     "data": {
      "text/html": [
       "<table class=\"simpletable\">\n",
       "<tr>\n",
       "        <td>Model:</td>              <td>Logit</td>      <td>Pseudo R-squared:</td>    <td>0.921</td>   \n",
       "</tr>\n",
       "<tr>\n",
       "  <td>Dependent Variable:</td>         <td>y</td>              <td>AIC:</td>          <td>81.0874</td>  \n",
       "</tr>\n",
       "<tr>\n",
       "         <td>Date:</td>        <td>2019-11-16 13:05</td>       <td>BIC:</td>         <td>128.8701</td>  \n",
       "</tr>\n",
       "<tr>\n",
       "   <td>No. Observations:</td>         <td>569</td>        <td>Log-Likelihood:</td>    <td>-29.544</td>  \n",
       "</tr>\n",
       "<tr>\n",
       "       <td>Df Model:</td>             <td>10</td>            <td>LL-Null:</td>        <td>-375.72</td>  \n",
       "</tr>\n",
       "<tr>\n",
       "     <td>Df Residuals:</td>           <td>558</td>         <td>LLR p-value:</td>    <td>2.7514e-142</td>\n",
       "</tr>\n",
       "<tr>\n",
       "      <td>Converged:</td>           <td>1.0000</td>           <td>Scale:</td>         <td>1.0000</td>   \n",
       "</tr>\n",
       "<tr>\n",
       "    <td>No. Iterations:</td>        <td>15.0000</td>             <td></td>               <td></td>      \n",
       "</tr>\n",
       "</table>\n",
       "<table class=\"simpletable\">\n",
       "<tr>\n",
       "             <td></td>               <th>Coef.</th>   <th>Std.Err.</th>    <th>z</th>     <th>P>|z|</th>  <th>[0.025</th>    <th>0.975]</th>  \n",
       "</tr>\n",
       "<tr>\n",
       "  <th>worst concave points</th>    <td>-55.9086</td>   <td>23.3352</td> <td>-2.3959</td> <td>0.0166</td> <td>-101.6447</td> <td>-10.1724</td> \n",
       "</tr>\n",
       "<tr>\n",
       "  <th>worst radius</th>             <td>5.6598</td>    <td>1.1347</td>  <td>4.9878</td>  <td>0.0000</td>  <td>3.4358</td>    <td>7.8839</td>  \n",
       "</tr>\n",
       "<tr>\n",
       "  <th>worst texture</th>            <td>-0.3701</td>   <td>0.0902</td>  <td>-4.1038</td> <td>0.0000</td>  <td>-0.5468</td>   <td>-0.1933</td> \n",
       "</tr>\n",
       "<tr>\n",
       "  <th>worst area</th>               <td>-0.0692</td>   <td>0.0137</td>  <td>-5.0491</td> <td>0.0000</td>  <td>-0.0961</td>   <td>-0.0423</td> \n",
       "</tr>\n",
       "<tr>\n",
       "  <th>smoothness error</th>        <td>-353.1779</td> <td>178.2323</td> <td>-1.9816</td> <td>0.0475</td> <td>-702.5068</td>  <td>-3.8491</td> \n",
       "</tr>\n",
       "<tr>\n",
       "  <th>worst symmetry</th>          <td>-17.1673</td>   <td>7.9660</td>  <td>-2.1551</td> <td>0.0312</td> <td>-32.7805</td>   <td>-1.5542</td> \n",
       "</tr>\n",
       "<tr>\n",
       "  <th>radius error</th>            <td>-12.7140</td>   <td>3.2782</td>  <td>-3.8783</td> <td>0.0001</td> <td>-19.1392</td>   <td>-6.2887</td> \n",
       "</tr>\n",
       "<tr>\n",
       "  <th>worst fractal dimension</th> <td>-127.5334</td>  <td>60.6864</td> <td>-2.1015</td> <td>0.0356</td> <td>-246.4767</td>  <td>-8.5902</td> \n",
       "</tr>\n",
       "<tr>\n",
       "  <th>mean compactness</th>         <td>37.5794</td>   <td>24.4976</td> <td>1.5340</td>  <td>0.1250</td> <td>-10.4350</td>   <td>85.5938</td> \n",
       "</tr>\n",
       "<tr>\n",
       "  <th>mean concave points</th>     <td>-93.0117</td>   <td>43.9130</td> <td>-2.1181</td> <td>0.0342</td> <td>-179.0796</td>  <td>-6.9438</td> \n",
       "</tr>\n",
       "<tr>\n",
       "  <th>fractal dimension error</th> <td>1250.2670</td> <td>475.1565</td> <td>2.6313</td>  <td>0.0085</td> <td>318.9775</td>  <td>2181.5566</td>\n",
       "</tr>\n",
       "</table>"
      ],
      "text/plain": [
       "<class 'statsmodels.iolib.summary2.Summary'>\n",
       "\"\"\"\n",
       "                               Results: Logit\n",
       "=============================================================================\n",
       "Model:                   Logit               Pseudo R-squared:    0.921      \n",
       "Dependent Variable:      y                   AIC:                 81.0874    \n",
       "Date:                    2019-11-16 13:05    BIC:                 128.8701   \n",
       "No. Observations:        569                 Log-Likelihood:      -29.544    \n",
       "Df Model:                10                  LL-Null:             -375.72    \n",
       "Df Residuals:            558                 LLR p-value:         2.7514e-142\n",
       "Converged:               1.0000              Scale:               1.0000     \n",
       "No. Iterations:          15.0000                                             \n",
       "-----------------------------------------------------------------------------\n",
       "                          Coef.   Std.Err.    z    P>|z|    [0.025    0.975] \n",
       "-----------------------------------------------------------------------------\n",
       "worst concave points     -55.9086  23.3352 -2.3959 0.0166 -101.6447  -10.1724\n",
       "worst radius               5.6598   1.1347  4.9878 0.0000    3.4358    7.8839\n",
       "worst texture             -0.3701   0.0902 -4.1038 0.0000   -0.5468   -0.1933\n",
       "worst area                -0.0692   0.0137 -5.0491 0.0000   -0.0961   -0.0423\n",
       "smoothness error        -353.1779 178.2323 -1.9816 0.0475 -702.5068   -3.8491\n",
       "worst symmetry           -17.1673   7.9660 -2.1551 0.0312  -32.7805   -1.5542\n",
       "radius error             -12.7140   3.2782 -3.8783 0.0001  -19.1392   -6.2887\n",
       "worst fractal dimension -127.5334  60.6864 -2.1015 0.0356 -246.4767   -8.5902\n",
       "mean compactness          37.5794  24.4976  1.5340 0.1250  -10.4350   85.5938\n",
       "mean concave points      -93.0117  43.9130 -2.1181 0.0342 -179.0796   -6.9438\n",
       "fractal dimension error 1250.2670 475.1565  2.6313 0.0085  318.9775 2181.5566\n",
       "=============================================================================\n",
       "\n",
       "\"\"\""
      ]
     },
     "execution_count": 107,
     "metadata": {},
     "output_type": "execute_result"
    }
   ],
   "source": [
    "m2=sm.Logit(y,X)\n",
    "m2\n",
    "m2.fit()\n",
    "\n",
    "m2.fit().summary2()"
   ]
  },
  {
   "cell_type": "code",
   "execution_count": 108,
   "metadata": {},
   "outputs": [],
   "source": [
    "# Generate the prediction values for each of the test observations\n",
    "# using predict_proba() function rather than just predict\n",
    "preds = logreg.predict_proba(X_test)[:, 1]\n",
    "\n",
    "# Store the false positive rate(fpr), true positive rate (TPR)\n",
    "# in vectors for use in the graph\n",
    "fpr, tpr, thr = roc_curve(y_test, preds)\n",
    "\n",
    "# Store the Area Under the Curve (AUC) so we can annotate\n",
    "# the graph with theis metric\n",
    "roc_auc = auc(fpr, tpr)"
   ]
  },
  {
   "cell_type": "code",
   "execution_count": 109,
   "metadata": {},
   "outputs": [
    {
     "data": {
      "image/png": "[encoded data removed]",
      "text/plain": [
       "<Figure size 360x360 with 1 Axes>"
      ]
     },
     "metadata": {
      "needs_background": "light"
     },
     "output_type": "display_data"
    }
   ],
   "source": [
    "# thr\n",
    "plt.figure(figsize=(5, 5))\n",
    "plt.plot(range(len(thr)-1), fpr[1:], label='fpr')\n",
    "plt.plot(range(len(thr)-1), tpr[1:], label='tpr')\n",
    "plt.plot(range(len(thr)-1), thr[1:], label='thr')\n",
    "plt.legend()\n",
    "plt.show()"
   ]
  },
  {
   "cell_type": "code",
   "execution_count": 110,
   "metadata": {},
   "outputs": [
    {
     "data": {
      "image/png": "[encoded data removed]",
      "text/plain": [
       "<Figure size 360x360 with 1 Axes>"
      ]
     },
     "metadata": {
      "needs_background": "light"
     },
     "output_type": "display_data"
    }
   ],
   "source": [
    "# Plot the ROC Curve\n",
    "plt.figure(figsize=(5, 5))\n",
    "lw = 2\n",
    "plt.plot(fpr,\n",
    "         tpr,\n",
    "         color='darkorange',\n",
    "         lw=lw,\n",
    "         label='ROC curve (area = %0.2f)' % roc_auc)\n",
    "plt.plot([0, 1],\n",
    "         [0, 1],\n",
    "         color='navy',\n",
    "         lw=lw,\n",
    "         linestyle='--')\n",
    "plt.xlim([0.0, 1.0])\n",
    "plt.ylim([0.0, 1.0])\n",
    "plt.xlabel('False Positive Rate')\n",
    "plt.ylabel('True Positive Rate')\n",
    "plt.title('Receiver operating characteristic example')\n",
    "plt.legend(loc='lower right')\n",
    "plt.show()"
   ]
  }
 ],
 "metadata": {
  "kernelspec": {
   "display_name": "Python 3",
   "language": "python",
   "name": "python3"
  },
  "language_info": {
   "codemirror_mode": {
    "name": "ipython",
    "version": 3
   },
   "file_extension": ".py",
   "mimetype": "text/x-python",
   "name": "python",
   "nbconvert_exporter": "python",
   "pygments_lexer": "ipython3",
   "version": "3.7.6"
  }
 },
 "nbformat": 4,
 "nbformat_minor": 4
}
